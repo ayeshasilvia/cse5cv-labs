{
  "cells": [
    {
      "cell_type": "markdown",
      "id": "d03ae404-40ae-46f1-bb2d-05fcb271babd",
      "metadata": {
        "tags": [],
        "id": "d03ae404-40ae-46f1-bb2d-05fcb271babd"
      },
      "source": [
        "# CSE5CV - Classification with image features\n",
        "\n",
        "In this week's lab we will cover:\n",
        "  1. The purpose of classification.\n",
        "  2. What a feature is, exactly, along with some disambiguation.\n",
        "  3. Implementing a few popular image features.\n",
        "  4. Sophisticated classification with simple library functions."
      ]
    },
    {
      "cell_type": "markdown",
      "source": [
        "## Colab preparation\n",
        "\n",
        "Google Colab is a free online service for editing and running code in notebooks like this one. To get started, follow the steps below:\n",
        "\n",
        "1. Click the \"Copy to Drive\" button at the top of the page. This will open a new tab with the title \"Copy of...\". This is a copy of the lab notebook which is saved in your personal Google Drive. **Continue working in that copy, otherwise you will not be able to save your work**. You may close the original Colab page (the one which displays the \"Copy to Drive\" button).\n",
        "2. Run the code cell below to prepare the Colab coding environment by downloading sample files. Note that if you close this notebook and come back to work on it again later, you will need to run this cell again."
      ],
      "metadata": {
        "id": "qHrEAKS4h2Nm"
      },
      "id": "qHrEAKS4h2Nm"
    },
    {
      "cell_type": "code",
      "source": [
        "!git clone https://github.com/ltu-cse5cv/cse5cv-labs.git\n",
        "%cd cse5cv-labs/Lab02"
      ],
      "metadata": {
        "id": "wM8UKEozh4MK"
      },
      "id": "wM8UKEozh4MK",
      "execution_count": null,
      "outputs": []
    },
    {
      "cell_type": "markdown",
      "id": "8ef91685-1a53-4fd9-9700-02020f6c256d",
      "metadata": {
        "id": "8ef91685-1a53-4fd9-9700-02020f6c256d"
      },
      "source": [
        "## Packages\n",
        "\n",
        "In this lab, we will be using the following libraries:\n",
        "\n",
        "1. *OpenCV* (`cv2`) to load images.\n",
        "2. *Scikit-image* (`skimage`) to calculate image features.\n",
        "3. *Scikit-learn* (`sklearn`) to classify based on image features.\n",
        "4. *Torchvision* (`torchvision`) to download the CIFAR-10 dataset."
      ]
    },
    {
      "cell_type": "code",
      "execution_count": null,
      "id": "221d694e-9c0e-4850-aed6-a0e96ec75a91",
      "metadata": {
        "id": "221d694e-9c0e-4850-aed6-a0e96ec75a91"
      },
      "outputs": [],
      "source": [
        "# From python std lib\n",
        "import math\n",
        "from pathlib import Path\n",
        "\n",
        "# Libraries\n",
        "import cv2\n",
        "import sklearn.svm\n",
        "import sklearn.neighbors\n",
        "import skimage.feature\n",
        "import torchvision\n",
        "\n",
        "import numpy as np\n",
        "import matplotlib.pyplot as plt\n",
        "\n",
        "# A toy dataset used throughout\n",
        "fnames = [ 'inside_1.jpg', 'inside_2.jpg', 'outside_1.jpg', 'outside_2.jpg' ]\n",
        "dataset = [ (fname, cv2.imread(fname)) for fname in fnames ]"
      ]
    },
    {
      "cell_type": "markdown",
      "id": "f7784530-ff9a-4085-9310-74c6ddc66453",
      "metadata": {
        "id": "f7784530-ff9a-4085-9310-74c6ddc66453"
      },
      "source": [
        "Below is a brief introduction on *Scikit-image*. For information about the other libraries check the Libraries notebook available on LMS.\n",
        "\n",
        "### Scikit-image\n",
        "\n",
        "Scikit-image is a collection of algorithms for image processing.\n",
        "\n",
        "Package Homepage: https://scikit-image.org/    \n",
        "Python Documentation (v0.18.x): https://scikit-image.org/docs/0.18.x/api/api.html\n",
        "\n",
        "We will use *Scikit-image* to collect image features."
      ]
    },
    {
      "cell_type": "markdown",
      "id": "c497b7e0-4dc6-4825-88e5-69907f6a0c8f",
      "metadata": {
        "id": "c497b7e0-4dc6-4825-88e5-69907f6a0c8f"
      },
      "source": [
        "# 1. Classification\n",
        "\n",
        "Computer vision is about extracting meaningful information from images. Classification answers the question: Given some image, what is the most salient thing in it? Classification is the most fundamental task in computer vision, and all other computer vision tasks build on the concepts used for it.\n",
        "\n",
        "We will discuss the other computer vision tasks in more detail later in the subject, but broadly speaking:\n",
        " - When some object is both found and classified in an image, we call that \"detection\".\n",
        " - When each pixel in an image is classified, we call that \"segmentation\".\n",
        " - When an individual of a class is distinguished between other individuals, e.g. facial recognition, we call that \"identification\". Although it is often implemented as a classification between identities.\n",
        "\n",
        "Classification can also be useful in and of itself. e.g.:\n",
        " - Classifying medical images for fast or at-home diagnosis\n",
        " - Automatic image/video tagging for more efficient searching"
      ]
    },
    {
      "cell_type": "markdown",
      "id": "88cf646c-6417-45ac-9932-cb196b8c2abd",
      "metadata": {
        "id": "88cf646c-6417-45ac-9932-cb196b8c2abd"
      },
      "source": [
        "# 2. Features\n",
        "\n",
        "Before classifying images, let's first consider how we might classify a class of student's height into \"tall\", \"medium\" and \"short\". We can easily come up with some logic to do this. If their height is above some value, then they are \"tall\", etc."
      ]
    },
    {
      "cell_type": "code",
      "execution_count": null,
      "id": "c096e7ec-5d99-4b23-bd3e-a5ed645d77e8",
      "metadata": {
        "id": "c096e7ec-5d99-4b23-bd3e-a5ed645d77e8"
      },
      "outputs": [],
      "source": [
        "def classify_height(height):\n",
        "    if height > 178:\n",
        "        return 'tall'\n",
        "    elif height > 162:\n",
        "        return 'medium'\n",
        "    else:\n",
        "        return 'short'\n",
        "for height in [155, 160, 165, 170, 175, 180, 185]:\n",
        "    print(height, classify_height(height))"
      ]
    },
    {
      "cell_type": "markdown",
      "id": "b2311668-a099-4394-ab8e-8f5cced87c04",
      "metadata": {
        "id": "b2311668-a099-4394-ab8e-8f5cced87c04"
      },
      "source": [
        "This is easy because there is only one parameter involved with making the decision, so it's clear how to decide. We may debate where the boundary lies, but we can easily understand the boundary.\n",
        "\n",
        "Now, consider the space of all possible images of a certain size. Each pixel can hold a different value, and even small differences constitute a different image. A 32x32 RGB image has 3072 different pixels. Since each pixel can hold a value, we can say that an image is a single point in a 3072-D space. Let's put that statement into code."
      ]
    },
    {
      "cell_type": "code",
      "execution_count": null,
      "id": "b6e90904-3250-4d8c-a226-6980961ac71d",
      "metadata": {
        "id": "b6e90904-3250-4d8c-a226-6980961ac71d"
      },
      "outputs": [],
      "source": [
        "# Consider a 2x2 grayscale image.\n",
        "img_g = np.array([[[0.3, 0.2], [0.7, 0.1]]])\n",
        "img_g_vec = img_g.reshape(-1)\n",
        "print(img_g.shape)\n",
        "print(img_g_vec.shape)\n",
        "\n",
        "print('-'*10)\n",
        "\n",
        "# Consider a 32x32 RGB image.\n",
        "img_c = np.random.randn(32, 32, 3)\n",
        "img_c_vec = img_c.reshape(-1)\n",
        "print(img_c.shape)\n",
        "print(img_c_vec.shape)"
      ]
    },
    {
      "cell_type": "markdown",
      "id": "16156325-b8d0-4a1a-a0ac-288682a0bc88",
      "metadata": {
        "id": "16156325-b8d0-4a1a-a0ac-288682a0bc88"
      },
      "source": [
        "</br>\n",
        "<b>Question</b>: If we make a 32x32 <code>np.uint8</code> RGB image, how many different possible images are there? (answer as a calculation, rather than the resulting number)\n",
        "\n",
        "<details>\n",
        "<summary style='cursor:pointer;'><u>Answer</u></summary>\n",
        "    There are 3072 pixels/dimensions to the space of possible values. Each <code>np.uint8</code> value has 2^8=256 different possible values. Then there are (2^8)^3072 possible distinct images.\n",
        "</details>\n",
        "\n",
        "</br>\n",
        "<b>Question</b>: If we make a 32x32 <code>np.float32</code> RGB image, how many different possible images are there? (answer as a calculation, rather than the resulting number)\n",
        "\n",
        "<details>\n",
        "<summary style='cursor:pointer;'><u>Answer</u></summary>\n",
        "    There are still 3072 pixels/dimensions to the space of possible values. But the range of possible values for each pixel is enormous: 2^32=6.8*10^38 different values. Then there are (2^32)^3072 possible distinct images. That's on the order of 10^29592 possible different images just for a 32x32!\n",
        "</details>"
      ]
    },
    {
      "cell_type": "markdown",
      "id": "1f7ed266-ae9e-4381-b6bf-bf2004bfea6c",
      "metadata": {
        "id": "1f7ed266-ae9e-4381-b6bf-bf2004bfea6c"
      },
      "source": [
        "## 2.1 Toy Dataset\n",
        "\n",
        "With so many dimensions in our images, it will be difficult to determine how to make a decision about something complex like \"is this an image of a dog?\". This is called \"the curse of dimensionality\". In order to begin making decision boundaries for images, we need to reduce this complexity. As a naive example, let's try to reduce a whole image into a single number that represents that image and try to use similar logic to the above example. Consider the following dataset of 4 \"inside\" and \"outside\" images:"
      ]
    },
    {
      "cell_type": "markdown",
      "source": [
        "<table>\n",
        "    <tr>\n",
        "        <th>Inside 1</th>\n",
        "        <th>Inside 2</th>\n",
        "        <th>Outside 1</th>\n",
        "        <th>Outside 2</th>\n",
        "    </tr>\n",
        "    <tr>\n",
        "        <td><img src='https://raw.githubusercontent.com/ltu-cse5cv/cse5cv-labs/master/Lab02/inside_1.jpg' /></td>\n",
        "        <td><img src='https://raw.githubusercontent.com/ltu-cse5cv/cse5cv-labs/master/Lab02/inside_2.jpg' /></td>\n",
        "        <td><img src='https://raw.githubusercontent.com/ltu-cse5cv/cse5cv-labs/master/Lab02/outside_1.jpg' /></td>\n",
        "        <td><img src='https://raw.githubusercontent.com/ltu-cse5cv/cse5cv-labs/master/Lab02/outside_2.jpg' /></td>\n",
        "    </tr>\n",
        "</table>"
      ],
      "metadata": {
        "id": "VAdCP0C-aDhK"
      },
      "id": "VAdCP0C-aDhK"
    },
    {
      "cell_type": "markdown",
      "source": [
        "The code below reduces each image to a single number representing the average value of the green channel, and attempts to use that value to separate \"inside\" and \"outside\" images."
      ],
      "metadata": {
        "id": "xeQSjJ6ljbpU"
      },
      "id": "xeQSjJ6ljbpU"
    },
    {
      "cell_type": "code",
      "execution_count": null,
      "id": "92a3f5bd-bab6-45d7-a9c7-61c826a398ca",
      "metadata": {
        "id": "92a3f5bd-bab6-45d7-a9c7-61c826a398ca"
      },
      "outputs": [],
      "source": [
        "def extract_feature_g(img):\n",
        "    ''' Takes the average green value across the whole image. '''\n",
        "    g_channel = img[:, :, 1]\n",
        "    return g_channel.mean()\n",
        "\n",
        "def classify_outside(feature):\n",
        "    # Threshold determined manually from looking at the data in this case.\n",
        "    threshold = 125\n",
        "    if feature > threshold:\n",
        "        return 'outside'\n",
        "    else:\n",
        "        return 'inside'\n",
        "\n",
        "# Collect features\n",
        "all_features = []\n",
        "true_classes = []\n",
        "for fname, img in dataset:\n",
        "    feature = extract_feature_g(img)\n",
        "    is_outside = classify_outside(feature)\n",
        "    print(fname, feature, is_outside)\n",
        "    all_features.append(feature)\n",
        "    true_classes.append('outside' in fname)\n",
        "\n",
        "# Plot this feature\n",
        "fig, ax = plt.subplots(1, 1)\n",
        "ax.scatter(all_features, [0]*len(all_features), c=true_classes)\n",
        "ax.set_xlabel('Average green')\n",
        "_ = ax.set_yticks([])"
      ]
    },
    {
      "cell_type": "markdown",
      "id": "069db869-aebb-48d0-a037-02a62dedba23",
      "metadata": {
        "id": "069db869-aebb-48d0-a037-02a62dedba23"
      },
      "source": [
        "We can see that the rule works for \"outside_2.jpg\" and \"inside_2.jpg\", but not for \"outside_1.jpg\" or \"inside_1.jpg\". Note the variable name `feature` in the code. Essentially a feature is just a simpler representation of our image, ideally capturing something important from the image. That is, we deal with the curse of dimensionality with dimensionality reduction. **But** it's an imperfect solution. In this case, we have lost too much information from our image by reducing it to a single number to be able to classify correctly.\n",
        "\n",
        "<details>\n",
        "    <summary style='cursor:pointer;'><u>A closer look at the threshold condition.</u></summary>\n",
        "    Our condition says \"if there is more than an average of 125 green per pixel, then it's considered 'outside', and then, Inside 2 and Outside 1 are clearly more green than the others, but are classified as \"Inside\". You may initially have expected it to be other way around. What's going on?\n",
        "    <br />\n",
        "    Well, this is an example of where our feature didn't measure what you expected it would. Remember that pure white in an image has maximal green, too. Inside 2 and Outside 1 are noticably darker (many more shadows), so their absolute green values are actually much lower than the others. You could try to measure <i>relative</i> green values, but that also wouldn't be useful to distinguish between Inside 2 and Outside 1. Creating good features is hard.\n",
        "</details>"
      ]
    },
    {
      "cell_type": "markdown",
      "id": "67926c45-758c-47bf-893e-ee9fc766fde2",
      "metadata": {
        "id": "67926c45-758c-47bf-893e-ee9fc766fde2"
      },
      "source": [
        "<b>Question</b>: Can we modify `threshold` so that `classify_outside` works for all of our test images?\n",
        "\n",
        "<details>\n",
        "<summary style='cursor:pointer;'><u>Answer</u></summary>\n",
        "    We cannot choose a single value for threshold that works for all of our images. We could make <code>classify_outside</code> more complex and get perfect accuracy on these images, but it's clear that this would fail for most other images.\n",
        "</details>\n"
      ]
    },
    {
      "cell_type": "markdown",
      "id": "44bf0d4c-05fa-4719-b4e2-79a47d87188a",
      "metadata": {
        "id": "44bf0d4c-05fa-4719-b4e2-79a47d87188a"
      },
      "source": [
        "**Task**: Modify the below code to use the mean value of both green and red. You should be able to classify  all 4 images correctly. The solution is hidden below.\n",
        "**Important**: This task is **not** how you should create a classifier in the real world. Hopefully you see how fragile this method is. Later in the lab we'll show you good classifiers to use. This is just used for illustrative purposes.\n",
        "\n",
        "**Reminder**: Images in *OpenCV* are loaded from disk in BGR format."
      ]
    },
    {
      "cell_type": "code",
      "execution_count": null,
      "id": "c58cee2e-1d22-4df6-b7d5-3a578e993010",
      "metadata": {
        "tags": [],
        "id": "c58cee2e-1d22-4df6-b7d5-3a578e993010"
      },
      "outputs": [],
      "source": [
        "def extract_feature_g(img):\n",
        "    ''' Takes the average green value across the whole image. '''\n",
        "    g_channel = img[:, :, 1]\n",
        "    return g_channel.mean()\n",
        "def extract_feature_r(img):\n",
        "    ''' Takes the average red value across the whole image. '''\n",
        "    # TODO\n",
        "    return 0\n",
        "\n",
        "def classify_outside(features):\n",
        "    # Threshold determined manually from looking at the data in this case.\n",
        "    # TODO - add extra branches to cover our cases\n",
        "    if features[0] < 125:\n",
        "        return 'outside'\n",
        "    else:\n",
        "        return 'inside'\n",
        "\n",
        "# Collect features\n",
        "all_features = []\n",
        "true_labels = []\n",
        "for fname, img in dataset:\n",
        "    # Get features and classification\n",
        "    features = [extract_feature_g(img), extract_feature_r(img)]\n",
        "    is_outside = classify_outside(features)\n",
        "\n",
        "    # Print features and classification\n",
        "    print(f'{fname:20s}', f'g: {features[0]:3.0f}  r: {features[1]:3.0f}', '    ', is_outside)\n",
        "\n",
        "    # Append features and true labels\n",
        "    all_features.append(features)\n",
        "    true_labels.append('outside' in fname)\n",
        "\n",
        "# Plot these features against one another\n",
        "all_features = np.array(all_features)\n",
        "fig, ax = plt.subplots(1, 1)\n",
        "ax.scatter(all_features[:, 0], all_features[:, 1], c=true_labels)\n",
        "ax.set_xlabel('Average green')\n",
        "_ = ax.set_ylabel('Average red')"
      ]
    },
    {
      "cell_type": "markdown",
      "source": [
        "#### Task solution"
      ],
      "metadata": {
        "id": "RJSxOR64dWM6"
      },
      "id": "RJSxOR64dWM6"
    },
    {
      "cell_type": "code",
      "execution_count": null,
      "id": "ae642690-bd25-4f61-832e-e734228ffea3",
      "metadata": {
        "jupyter": {
          "source_hidden": true
        },
        "tags": [],
        "id": "ae642690-bd25-4f61-832e-e734228ffea3"
      },
      "outputs": [],
      "source": [
        "def extract_feature_g(img):\n",
        "    ''' Takes the average green value across the whole image. '''\n",
        "    g_channel = img[:, :, 1]\n",
        "    return g_channel.mean()\n",
        "def extract_feature_r(img):\n",
        "    ''' Takes the average red value across the whole image. '''\n",
        "    r_channel = img[:, :, 2]\n",
        "    return r_channel.mean()\n",
        "\n",
        "def classify_outside(features):\n",
        "    # Threshold determined manually from looking at the data in this case.\n",
        "    # Solution #1 - Fitting a line\n",
        "    # Rise/run * x on graph - some constant > y on graph\n",
        "    if 35/15*features[0]-167 > features[1]:\n",
        "        return 'inside'\n",
        "    else:\n",
        "        return 'outside'\n",
        "    # Solution #2 - Manual rules per image\n",
        "    if features[1] < 100:\n",
        "        return 'outside'\n",
        "    elif features[1] > 140:\n",
        "        return 'inside'\n",
        "    elif features[0] < 125:\n",
        "        return 'inside'\n",
        "    else:\n",
        "        return 'outside'\n",
        "\n",
        "# Collect features\n",
        "all_features = []\n",
        "true_labels = []\n",
        "for fname, img in dataset:\n",
        "    # Get features and classification\n",
        "    features = [extract_feature_g(img), extract_feature_r(img)]\n",
        "    is_outside = classify_outside(features)\n",
        "\n",
        "    # Print features and classification\n",
        "    print(f'{fname:20s}', f'g: {features[0]:3.0f}  r: {features[1]:3.0f}', '    ', is_outside)\n",
        "\n",
        "    # Append features and true labels\n",
        "    all_features.append(features)\n",
        "    true_labels.append('outside' in fname)\n",
        "\n",
        "# Plot these features against one another\n",
        "all_features = np.array(all_features)\n",
        "fig, ax = plt.subplots(1, 1)\n",
        "ax.scatter(all_features[:, 0], all_features[:, 1], c=true_labels)\n",
        "ax.set_xlabel('Average green')\n",
        "_ = ax.set_ylabel('Average red')"
      ]
    },
    {
      "cell_type": "markdown",
      "id": "c8be67dd-005b-4b9b-9d6e-846369b09db1",
      "metadata": {
        "id": "c8be67dd-005b-4b9b-9d6e-846369b09db1"
      },
      "source": [
        "## 2.2 Computer Vision processes\n",
        "\n",
        "Recall from the lectures, the basic idea of a computer vision process:"
      ]
    },
    {
      "cell_type": "markdown",
      "source": [
        "![Basic idea](data:image/jpeg;base64,/9j/4AAQSkZJRgABAQEASABIAAD/4RT8RXhpZgAASUkqAAgAAAAHABIBAwABAAAAAQAAABoBBQABAAAAYgAAABsBBQABAAAAagAAACgBAwABAAAAAgAAADEBAgANAAAAcgAAADIBAgAUAAAAgAAAAGmHBAABAAAAlAAAAKYAAABIAAAAAQAAAEgAAAABAAAAR0lNUCAyLjEwLjMwAAAyMDIzOjA3OjEzIDE0OjEzOjAxAAEAAaADAAEAAAABAAAAAAAAAAkA/gAEAAEAAAABAAAAAAEEAAEAAAAAAQAAAQEEAAEAAABgAAAAAgEDAAMAAAAYAQAAAwEDAAEAAAAGAAAABgEDAAEAAAAGAAAAFQEDAAEAAAADAAAAAQIEAAEAAAAeAQAAAgIEAAEAAADWEwAAAAAAAAgACAAIAP/Y/+AAEEpGSUYAAQEAAAEAAQAA/9sAQwAIBgYHBgUIBwcHCQkICgwUDQwLCwwZEhMPFB0aHx4dGhwcICQuJyAiLCMcHCg3KSwwMTQ0NB8nOT04MjwuMzQy/9sAQwEJCQkMCwwYDQ0YMiEcITIyMjIyMjIyMjIyMjIyMjIyMjIyMjIyMjIyMjIyMjIyMjIyMjIyMjIyMjIyMjIyMjIy/8AAEQgAYAEAAwEiAAIRAQMRAf/EAB8AAAEFAQEBAQEBAAAAAAAAAAABAgMEBQYHCAkKC//EALUQAAIBAwMCBAMFBQQEAAABfQECAwAEEQUSITFBBhNRYQcicRQygZGhCCNCscEVUtHwJDNicoIJChYXGBkaJSYnKCkqNDU2Nzg5OkNERUZHSElKU1RVVldYWVpjZGVmZ2hpanN0dXZ3eHl6g4SFhoeIiYqSk5SVlpeYmZqio6Slpqeoqaqys7S1tre4ubrCw8TFxsfIycrS09TV1tfY2drh4uPk5ebn6Onq8fLz9PX29/j5+v/EAB8BAAMBAQEBAQEBAQEAAAAAAAABAgMEBQYHCAkKC//EALURAAIBAgQEAwQHBQQEAAECdwABAgMRBAUhMQYSQVEHYXETIjKBCBRCkaGxwQkjM1LwFWJy0QoWJDThJfEXGBkaJicoKSo1Njc4OTpDREVGR0hJSlNUVVZXWFlaY2RlZmdoaWpzdHV2d3h5eoKDhIWGh4iJipKTlJWWl5iZmqKjpKWmp6ipqrKztLW2t7i5usLDxMXGx8jJytLT1NXW19jZ2uLj5OXm5+jp6vLz9PX29/j5+v/aAAwDAQACEQMRAD8A9/rhPEvxT0fQNSfTYI3vr6I4lRG2rGfQtzz7AGuh8XaudB8I6rqikCS2tnePIyN+Pl/XFfJOlX1w9887RyXU0jF3YgsSxPLfWsMROUIXjudGHpxnL3tj3hPjLKZstoR8rvtn5H/jtdn4b8baV4lASBngueT5E2AxA7g9D/OvHfDNl/bErJcW1xBAg+ZliJJPoMA13Vl4d0q1+eOG8EisHSTy2DIw7jAHNeVSx2I5veV0d1bDUErR0Z6bRVTTLk3enxTNu3EYbcu0kg4PH4Vbr24yUkmjymrOwUyaaK3iaWeVIo16u7AAfiaY9x8xjhXzJBwQDgLx3Pbt789KaLYSHdcESnOQpHyr9B/U80xErSIqBiwCnoSazR4gsPskM0k8cMkiq5gmkVJIweu5c8bRkn0wa02UNjIBwcis280W31DU0ubqNJYlt5IPLcZBDkZ/QY/E1cOS/vCZUv8AU3uMxWkmWS9tkBhbJZPMXzOnYDcD7A+lb2RnGRn0rP07SY9NmmMLEpISx3HJ3F2Y/h81XpIY5du9QSpyp6EH2PanNx2jsCH0VX/fwDvMg79HH9D+n41LHKkoJRs4OCOhB9x2rMY+iiigAooooAKKKKACiiigAooooAKKr3d7DZJG0xf94+xQqFiTgnoPYGq/9s2v924/8B3/AMKiVSEXaTsNRb2RoUVn/wBs2v8AduP/AAHf/CnRatay3EcA81XlJCb4mUEgE9SPQGhVYN2TQcrXQvUUUVYgooooAwfG2ny6p4I1qygUNNNZyKgPdtvFfIelXLWl6hU8E4NfbJGQQehr5H8faNb6H8R9VsrdCluJhJGvYB1D4HsN2KwrxTjqdGHlaR6d4afV7CwgmS1aS3nBcGNlycfU9TXU2cmoT+cJoJo2Me+NHkwc+hwayvBWrG00u0tpAGUxjZn6V0l7fvHq0CC1lkEqffjwFXr1JIr56nGDjdPqelUclK1ja8LrcjQ4mu02TOzFk3btvOOv4Z/GtkjIwap6WG+wIXGGbJ/WrlfR0VanFeR5FR3mxqKkahUCqo6AcUNIiLud1UepOKiNlaEkm1hJPcximSabYyoUksrdlPUGJSP5VqQRavqEOnWJnlfGCCADy2DnArOPiJC06EqGidMEHqDIVx+Sk/jWnPZQy31vKVw8UMiJjoA23P8AIVTHh62jtrmGJECyKQqkcDKKv/sv60ncl3Klr4phupEbb5akSL8xwCQUx/6EfyrR0bVE1KBmVgxQDJ/Mf0pRpUBu45fKH7kgqT3+Vl59fvGo9N04WtzeIybonCgBsEHlv6EfnRqGpq5HqKr3FvbzywmRtsqtvQq5Vjj6dRz06Uv2Gz/59YP+/YqvdQ2No0Mw09JJvMCxiOJSwJOCfYDqT6UyjQqA3kAtZLnfmKPduIHTaSG/Ig1JLGssexs4yDx7HNYup6Gt5qumyRp5dvC7yThCV3/L8oODzyc+nHvVwUW/eYi3f6mIPtcEQInggSbcR8uGZgP/AEE/pWff+JYdNGpyHEy2eXYBvSIttHvlT+dPs9A+yXcvmv8AaIJA5UyDJT5Y1Veev3WOf9o/iWvhyyWysFCb/s0cYRnxuOCCSTjnNFRRVlAWojeJ7aLUpbN9xfzSiFR6BM/kWqRPEMDPbjeP3zLGAepbGT/hS/2DbRSMywKwZYUxj+6xyfyNQ3GhxQ2sIjiUtG78gDJDNkZ9+lZahqbskqRRtI5AVRknNVYdWtZo3k3FEVY2LPwPnAK/zFc9ceH4rXxVYaiDtj80QRRKfl2eUc5GOuV9aNL0oXtqlym3zLfUL3qeql5Vx+ZX8qnnle1jv+r0lDm5u3430/D8Trwc0Vm6Tp5stDtbQAQTrAiyNEFzvCgE8gg8+tOk065cKP7XvVwwbhYhnB6fcq1qjkkkpNJ3I9a+9p//AF8n/wBFSVX3Lu27hn0zU+tfe0//AK+T/wCipK56XTJhfXFxBBHncJlLEbmkBXADAZAIBBz68V5OOV6vyOij8JtBlJIBBI681GCDqmmEHIM7c/8AbKSsE6FcxXnn2/lq0sCQXBJI3qWdpDx/Flsj/eNalhbtatolsQEaNiny9BiFxxWOHSVWNmXUfus6qmySRxKGkdUBIUFjjknAFUJdOupIyo1i9TJHKrFnr/uVHq2mXOpGGJLhYoUVyWZNxLkbQeCOgLH649K904jVormH0jV5286WYRyyzFphDcMoCG22FVODj97hhx79a3NOhmgtdk4UNuJABzgds9s/TigC3XgfjHSrXUfih4gt7tDiWCJ0bGCpEaAEH8DXvMs0cEbSSuqIoyWY4Arw/wAS6lDqfxBm1W0ikNnFapbysBkkksQ4HXHAGPfNcOYTtRaTs+h14OL9pe2gaZM2l20MV24zF8qS/wALqOmf7px68e9djo7abrd7C8Uru+0b4lbcuPUjmuQjZdTYW9tFLM5z/AVQfVjx39z7V2PgnSoNIvdQmR/MnkMcMkg4DFBk4HYAsRj25JNePhIc0rz0O/Ezsvd3O+RVRAqjCgYAHanUxJA496fX0q20PFIHilRi8L5J/gc5Un69R/nik+2wrNHBMwimkJCI5++QM/L61YpGRWxuUHHIyOlMCG4u7e1G64mjiAUtl2xwMAn6cj86zp9ejDRm1VbiGRCUlVvlZsgbQehONx4/umreq6emqafNZudolXaWxnjIJ/lWDZWsNna6VaQJtgh1KeNFJzhR5oA561Em07HVRp05Q5nv26bNm9BqtncuVimVh/CwOQ/rg98Hg+9Xay7DR00+4V45MxqJgF24x5km/wDIdK1KqN7amNRQUvc2GSyrEm45JPAUdWPoKZDEwJklIMrdcdFHoP8APNSGNTIJCMsBgc9KdTMwooooAKOlFFABRRRQBXuLRLmS3dmIMEnmLjudpXn/AL6qPT9PTTrd4Y3Zg80kxLeruXI/NquUUrK9yueXLy30/r/MKKKKZJl60rEWTqjuEuMtsUsQPLcZwPciqnnD/nlcf9+H/wAK36K5a2FjVlzNmkKrirIwPOH/ADyuP+/D/wCFJHvl1TTysU2ElZmLRMoA8tx1I9SK6Cipp4KEJKSb0KlWbVgooorsMQooooA8h8S6J4x13x1cNNbTvolsc2ahlCFtoG7Gc55bk+tGl+DtZhlupJbJkMk2VyR90KB6+xr16iuGtgKdabnJs66eMnTiopI4Ow0O+tJmdrNyAuRjHJrU0fSrm202DzYWSdx5kq8cO3LD8ya6iilTy+lBWTZM8VObuzEkGoGVFiR0CncXx19q1LWWWWL99EY5AcEdj7ip6K66dPk0TOeTu7hRRRWggxVX+z7bMZ8vHlytMuCeHbOT/wCPH86tUUWGm1sJiloooEFFFFABRRRQAUUUUAFFFFABRRRQAUUUUAFFFFABRRRQAUUUUAFFFFABVHWEmk0i5ht5JIppk8pJI/vIW+UMPpnP4Veqjq2of2baJIojaSSVIkEj7FyTzk4PQZPTtQBjTX+sxRwt5ip50x6wFtkfnDGB1J8kPnPfBxjiprfU9RMpjmV8uU8kfZ2GU8xyWY4wCYwvHGD25qYa3EI1mvoljETDLIC4BZiiMpIBweR07+nNQXHjHTYZp7VWJu443Pk7lLb1TfsKgkg474xnjOaANbSTMdItGuJGknaJWkZlwSxGTxgY5q5VGw1OK/luIo0YNbvskyV4b0wCSOx5A4INXqACisq/1n7Gl/5du0z20YKKM4eQgkITjC/w8/7VR/8ACS2ZkljjjlmdJFjAiKtvYvs4w3GD1zjgE9qAKFnN5t3dXc5u1uBNMI0Ek+AqsUTEf3DkAH3zmpBe6tJcQF98MrLteER7kVjKqnnHO1VY5zzuB6Vbm18eWht7OdiZI0kZtoWIs+07jnkgZPGe3rUw1SS9JOkC1u4ggfzjcYRs5wFKhs9OT2yOtAGTNrOqrdYjidYCxVy9u5ZAJUTIAX+6XPUj7p4Ga1dNeeW+uJJbiZ4xHGER4jGP4juwR1IIB/3egqK58S2dpC8sqSBEd0yGQbimd+MsM7SMGoZfEy2txdNd25js4mZVnLqAdpVTnLcZZto9Mc+wBv0Vif8ACSQ3Fks9jE8+8cMrKyKS5RckNyCwI+XPStugDCf9/qs6XbXySrMq2ogMips2qdx2/Kfm3Z3emPq23vdSuTbqpZDIU85mgIERwzMoyOeFxk55IPfFb9FAHPLql99nMrCYSrErrELVjvBQHcT2O44x/snjniqNU1hp5QFYrGZNhMTAMMxAFjt5xukbgDIA61s2OuWuoXV1bwbi9uoZvmVgyksoIwTjlD1xVG48Z6Nb28UzXClZY1kQGREJBUPj5mHIVkJHX519aAGvqOppGHw5AaIAJAzF/Mm2DJKjhQCTwOCDwOteLWdRurpIjBdxJJ5TqfJIKZLkoTtwMBArcnlhzzWhceJIIrczxWtzPEZVgSSMLtd2kWPb1yMM3OQOh9KkXX7d9uyCdvNCtb4C/vwxOCvzdOM844oAgstR1H+ybu8uYxI8UAdY40cEyBSWUBlBx90AcnOcmqcmo6p9kO1Z1DGWH5YDlNjrEH5BJyxZgehXntmte71q2s9VttMdJmurlC8KIudyggMc9tu5Sc+oxk8VpUAZVjdXU18Y5N5RRJ5m6IqEIcBADjklck9ex4BFatFQXdytpavMwLYwAo/iYnAH4kgUAU9Vu3trrTgC6xNMxmZUZvlCNgcD+8V/KqEtzq73d2bYqkYDGENCTlsoiA57ZEhOMcEdOpuT6pc2Jj/tCG3iSR8B45iwACM7ZyBjATr79qig8UWVw8aJFN5jzGDaSmAwCtjdu2scODhSTweODQBVTUtYZXZkjQeZtI8pyY/n4GNv9wEE5b5ipxg1f0m4vruR5bg7YQiqsZjKsXyxJJIHbYOg5zUb+Iofs88scMh8lmUqSpJKqzEYDfKcL0bB5HFVx4tsraSO2v5I4rtmCtEHUFeQpwC2W+bcPlyeDxQB0VFVrG9W/gM0cUiR7iEZ8fOB/EME8fXFWaACiiigAqKW3inkgkkXc0Dl4zno20rn8mP51LRQBUuNMtLqZ5Zot7OgRsscEDdjj/gTfnTRpNoGkbZIRIQzKZWKk5BztzjJKjPrz6mrtFAFa1sYLR5HiEhZwAWeRnOBnA5J4GT+dWaKKAK/2G3zMfL5mlWaTk8uu3B/8cX8qz/suj6ZdwKz+XMVLQxtKzfKnHCknhd/0G4VsVQn0wXOprePI6GOHyozG20jLZbPsdqflQAkWl2ImiuI1fMYUqPNbbwMAlc4JwepGaW5sLG7uw0pJl2DKLMyh1B43KDhhn1B64rMHh2XdcMzo5mLByxB8xWfcQfk9AAM7sDIGKS38PXFtJbyL9mZoiu7qNwDSttHHAy6n/gOPegDRfRtOkj2GMquJAQkrLkSNufODzk8086RYtxsYEhvuysDy+8ng9d3OayR4XbyN0hgkuCybm2gblC8rkhsAyFn6Ht9as2uhNbahaTqLcLAoRmK7mICkALx8mCx6HGMjHOQAXW0ayd4ndZWaPZjdM5ztbcpbn5iCSec1foooAKKKKAKNjpFlp0zzW0TK7RJCSZGb5E3bV5PAG5vzpiaHp8UEEMUJjSHcE8uRlIBIJGQckHA46cD0rRooAoDRrEM7LG67pRLgSsAG3bsgZwMtycde9Nh0LToJYJY7fDwMGiJdjswrKAMngAOwA6DNaNFAFKTSrOW+W9eItcowZZCxyuARgc8DDHjoc1doooAKjngjuYHhlXdG4wRnH6jpUlFAGcdDsGiMckckmc5aSZ3bkY+8Tn6enalXRbNH3ATff8AMIM7kM2QckZweQOtaFFAGeui2IZnMbuzLtLSSs5IwRjJPTBP5n1py6RZR3AnjjZJMkkpIy7ssX+bB+b5mYjPTJq9RQBHb28VrbRW8K7YokCIuc4AGBUlFFABRRRQB//Z/+EMd2h0dHA6Ly9ucy5hZG9iZS5jb20veGFwLzEuMC8APD94cGFja2V0IGJlZ2luPSLvu78iIGlkPSJXNU0wTXBDZWhpSHpyZVN6TlRjemtjOWQiPz4gPHg6eG1wbWV0YSB4bWxuczp4PSJhZG9iZTpuczptZXRhLyIgeDp4bXB0az0iWE1QIENvcmUgNC40LjAtRXhpdjIiPiA8cmRmOlJERiB4bWxuczpyZGY9Imh0dHA6Ly93d3cudzMub3JnLzE5OTkvMDIvMjItcmRmLXN5bnRheC1ucyMiPiA8cmRmOkRlc2NyaXB0aW9uIHJkZjphYm91dD0iIiB4bWxuczp4bXBNTT0iaHR0cDovL25zLmFkb2JlLmNvbS94YXAvMS4wL21tLyIgeG1sbnM6c3RFdnQ9Imh0dHA6Ly9ucy5hZG9iZS5jb20veGFwLzEuMC9zVHlwZS9SZXNvdXJjZUV2ZW50IyIgeG1sbnM6ZGM9Imh0dHA6Ly9wdXJsLm9yZy9kYy9lbGVtZW50cy8xLjEvIiB4bWxuczpHSU1QPSJodHRwOi8vd3d3LmdpbXAub3JnL3htcC8iIHhtbG5zOnhtcD0iaHR0cDovL25zLmFkb2JlLmNvbS94YXAvMS4wLyIgeG1wTU06RG9jdW1lbnRJRD0iZ2ltcDpkb2NpZDpnaW1wOmE3MmE1OGU3LTQzYzMtNDNlMC05NjVmLTAxY2JjNzg3YTU4OSIgeG1wTU06SW5zdGFuY2VJRD0ieG1wLmlpZDo1ODU3YTYzZC1lYjhkLTQ2Y2ItOTBiYi01NDRjYzg5NzQzMjUiIHhtcE1NOk9yaWdpbmFsRG9jdW1lbnRJRD0ieG1wLmRpZDpmYWY4ZDMxZC0wZWQ3LTQ0NzEtYjFlZC00ZjM4OTUyYWQzZjgiIGRjOkZvcm1hdD0iaW1hZ2UvanBlZyIgR0lNUDpBUEk9IjIuMCIgR0lNUDpQbGF0Zm9ybT0iTGludXgiIEdJTVA6VGltZVN0YW1wPSIxNjg5MjIxNTg0NTYyMDc3IiBHSU1QOlZlcnNpb249IjIuMTAuMzAiIHhtcDpDcmVhdG9yVG9vbD0iR0lNUCAyLjEwIj4gPHhtcE1NOkhpc3Rvcnk+IDxyZGY6U2VxPiA8cmRmOmxpIHN0RXZ0OmFjdGlvbj0ic2F2ZWQiIHN0RXZ0OmNoYW5nZWQ9Ii8iIHN0RXZ0Omluc3RhbmNlSUQ9InhtcC5paWQ6N2Q1NmE0ZjgtMDhlZS00ZmQ5LWIyYTctMmIyYmE1ZmY0NDg1IiBzdEV2dDpzb2Z0d2FyZUFnZW50PSJHaW1wIDIuMTAgKExpbnV4KSIgc3RFdnQ6d2hlbj0iMjAyMy0wNy0xM1QxNDoxMzowNCsxMDowMCIvPiA8L3JkZjpTZXE+IDwveG1wTU06SGlzdG9yeT4gPC9yZGY6RGVzY3JpcHRpb24+IDwvcmRmOlJERj4gPC94OnhtcG1ldGE+ICAgICAgICAgICAgICAgICAgICAgICAgICAgICAgICAgICAgICAgICAgICAgICAgICAgICAgICAgICAgICAgICAgICAgICAgICAgICAgICAgICAgICAgICAgICAgICAgICAgICAgICAgICAgICAgICAgICAgICAgICAgICAgICAgICAgICAgICAgICAgICAgICAgICAgICAgICAgICAgICAgICAgICAgICAgICAgICAgICAgICAgICAgICAgICAgICAgICAgICAgICAgICAgICAgICAgICAgICAgICAgICAgICAgICAgICAgICAgICAgICAgICAgICAgICAgICAgICAgICAgICAgICAgICAgICAgICAgICAgICAgICAgICAgICAgICAgICAgICAgICAgICAgICAgICAgICAgICAgICAgICAgICAgICAgICAgICAgICAgICAgICAgICAgICAgICAgICAgICAgICAgICAgICAgICAgICAgICAgICAgICAgICAgICAgICAgICAgICAgICAgICAgICAgICAgICAgICAgICAgICAgICAgICAgICAgICAgICAgICAgICAgICAgICAgICAgICAgICAgICAgICAgICAgICAgICAgICAgICAgICAgICAgICAgICAgICAgICAgICAgICAgICAgICAgICAgICAgICAgICAgICAgICAgICAgICAgICAgICAgICAgICAgICAgICAgICAgICAgICAgICAgICAgICAgICAgICAgICAgICAgICAgICAgICAgICAgICAgICAgICAgICAgICAgICAgICAgICAgICAgICAgICAgICAgICAgICAgICAgICAgICAgICAgICAgICAgICAgICAgICAgICAgICAgICAgICAgICAgICAgICAgICAgICAgICAgICAgICAgICAgICAgICAgICAgICAgICAgICAgICAgICAgICAgICAgICAgICAgICAgICAgICAgICAgICAgICAgICAgICAgICAgICAgICAgICAgICAgICAgICAgICAgICAgICAgICAgICAgICAgICAgICAgICAgICAgICAgICAgICAgICAgICAgICAgICAgICAgICAgICAgICAgICAgICAgICAgICAgICAgICAgICAgICAgICAgICAgICAgICAgICAgICAgICAgICAgICAgICAgICAgICAgICAgICAgICAgICAgICAgICAgICAgICAgICAgICAgICAgICAgICAgICAgICAgICAgICAgICAgICAgICAgICAgICAgICAgICAgICAgICAgICAgICAgICAgICAgICAgICAgICAgICAgICAgICAgICAgICAgICAgICAgICAgICAgICAgICAgICAgICAgICAgICAgICAgICAgICAgICAgICAgICAgICAgICAgICAgICAgICAgICAgICAgICAgICAgICAgICAgICAgICAgICAgICAgICAgICAgICAgICAgICAgICAgICAgICAgICAgICAgICAgICAgICAgICAgICAgICAgICAgICAgICAgICAgICAgICAgICAgICAgICAgICAgICAgICAgICAgICAgICAgICAgICAgICAgICAgICAgICAgICAgICAgICAgICAgICAgICAgICAgICAgICAgICAgICAgICAgICAgICAgICAgICAgICAgICAgICAgICAgICAgICAgICAgICAgICAgICAgICAgICAgICAgICAgICAgICAgICAgICAgICAgICAgICAgICAgICAgICAgICAgICAgICAgICAgICAgICAgICAgICAgICAgICAgICAgICAgICAgICAgICAgICAgICAgICAgICAgICAgICAgICAgICAgICAgICAgICAgICAgICAgICAgICAgICAgICAgICAgICAgICAgICAgICAgICAgICAgICAgICAgICAgICAgICAgICAgICAgICAgICAgICAgICAgICAgICAgICAgICAgICAgICAgICAgICAgICAgICAgICAgICAgICAgICAgICAgICAgICAgICAgICAgICAgICAgICAgICAgICAgICAgICAgICAgICAgICAgICAgICAgICAgICAgICAgICAgICAgICAgICAgICAgICAgICAgICAgICAgICAgICAgICAgICAgICAgICAgICAgICAgICAgICAgICAgICAgICAgICAgICAgICAgICAgICAgICAgICAgICAgICAgICAgICAgICAgICAgICAgICAgICAgICAgICAgICAgICAgICAgICAgICAgICAgICAgICAgICAgICAgICAgICAgICAgICAgICAgICAgICAgICAgICAgICAgICAgICAgICAgICAgICAgICAgICAgICAgICAgICAgICAgICAgICAgICAgICAgICAgICAgICAgICAgICAgICAgICAgICAgICAgICAgICAgICAgICAgICAgICAgICAgICAgICAgICAgICAgICAgICAgICAgICAgICAgICAgICAgICAgICAgICAgICAgICAgICAgICAgICAgICAgICAgICAgICAgICAgICAgICAgICAgICAgICAgICAgICAgICAgICAgICAgICAgICAgICAgICAgICAgICAgICAgICAgICAgICAgICAgICAgICAgICAgICAgICAgICAgICAgICAgICAgICAgICAgICAgICAgICAgICAgPD94cGFja2V0IGVuZD0idyI/Pv/iArBJQ0NfUFJPRklMRQABAQAAAqBsY21zBDAAAG1udHJSR0IgWFlaIAfnAAcADQAEAAwAGmFjc3BBUFBMAAAAAAAAAAAAAAAAAAAAAAAAAAAAAAAAAAD21gABAAAAANMtbGNtcwAAAAAAAAAAAAAAAAAAAAAAAAAAAAAAAAAAAAAAAAAAAAAAAAAAAAAAAAAAAAAADWRlc2MAAAEgAAAAQGNwcnQAAAFgAAAANnd0cHQAAAGYAAAAFGNoYWQAAAGsAAAALHJYWVoAAAHYAAAAFGJYWVoAAAHsAAAAFGdYWVoAAAIAAAAAFHJUUkMAAAIUAAAAIGdUUkMAAAIUAAAAIGJUUkMAAAIUAAAAIGNocm0AAAI0AAAAJGRtbmQAAAJYAAAAJGRtZGQAAAJ8AAAAJG1sdWMAAAAAAAAAAQAAAAxlblVTAAAAJAAAABwARwBJAE0AUAAgAGIAdQBpAGwAdAAtAGkAbgAgAHMAUgBHAEJtbHVjAAAAAAAAAAEAAAAMZW5VUwAAABoAAAAcAFAAdQBiAGwAaQBjACAARABvAG0AYQBpAG4AAFhZWiAAAAAAAAD21gABAAAAANMtc2YzMgAAAAAAAQxCAAAF3v//8yUAAAeTAAD9kP//+6H///2iAAAD3AAAwG5YWVogAAAAAAAAb6AAADj1AAADkFhZWiAAAAAAAAAknwAAD4QAALbEWFlaIAAAAAAAAGKXAAC3hwAAGNlwYXJhAAAAAAADAAAAAmZmAADypwAADVkAABPQAAAKW2Nocm0AAAAAAAMAAAAAo9cAAFR8AABMzQAAmZoAACZnAAAPXG1sdWMAAAAAAAAAAQAAAAxlblVTAAAACAAAABwARwBJAE0AUG1sdWMAAAAAAAAAAQAAAAxlblVTAAAACAAAABwAcwBSAEcAQv/bAEMABQMEBAQDBQQEBAUFBQYHDAgHBwcHDwsLCQwRDxISEQ8RERMWHBcTFBoVEREYIRgaHR0fHx8TFyIkIh4kHB4fHv/bAEMBBQUFBwYHDggIDh4UERQeHh4eHh4eHh4eHh4eHh4eHh4eHh4eHh4eHh4eHh4eHh4eHh4eHh4eHh4eHh4eHh4eHv/CABEIAS8DIAMBEQACEQEDEQH/xAAcAAEAAgMBAQEAAAAAAAAAAAAABAUCAwYBBwj/xAAaAQEAAwEBAQAAAAAAAAAAAAAAAQIEAwUG/9oADAMBAAIQAxAAAAH7KAAAAAAAAAAAAAAAAaZiF2WfCQAAAAAAAAAAAAAAAAAAAAAAAAAAAAAAAAAMIcZz61+bvHz9d0r/AF5uk059sgAAAAAAAMT01WjGVPpi1zTS7a9L59wAAAAAAAAAAAAAAAAAAAAAAAAAAAAAAAABUxPwrH6Gjztm2l8onOrC0W3Wn0z0/K6nTnSAAAAAiHhMIt45bfW3yzD7xnCp0xfYLedF9jt4egAAAAAAAAAAAAAAAAAAAAAAAAAAAAAAAHh+f+Xflcm+5waLLL2k8emdY1dOea0utfoX0Hj9TuyJAAAAQCrL42lPprbZbUW2vB+5y6Hz7c16dO68Pr0uC4rTWWhkAAAAAAAAAAAAAAAAAAAAAAAAAAAAAAAc1E/mnhql8dF1g1WeTvOz2spp0vXNMms/pzhLdV9D5e7pUAADSVxPJAB4Co01qtMdL59qbVGUr/FYAVR6WgAAAAAAAAAAAAAAAAAAAAAAAAAAAAAAPltL/FuXfKLyeXWfw6zOdvoWatjfnvtXZeMazcbs/Q7swAAqzMsQAAAIJAAADEqzaWIAAAAAAAAAAAAAAAABWlJk6+gAAAn6Od7eAAAAAAB8ipf5Dy7SefbpPL1W2Hv0FHYbMm7tTFPktXO0vZwv/WwgDWVhaGYAANcRsmQMTI8PQAADUVxDOiAAAABgZgAAAAAAAAAA5wm/O7/QAAAVftY+p0UAAAAAAHzKl/iXLtlFrfFqvPP732Lve25zu3ONz63mvNApeZszdZ7XnJAAAAACHFRqhtMCRMxkaaxumbC1gAAK4sQAAACg2UsMVsiXKtrFhMjA0I2JlTIAAAAAA5wm/O7/AEAAAFX7WPqdFAAAAAABy1bfnDjo8JHHv1HlbewyxD7sNOe68zXf7c1LMXHsYOx1cAAAAAAKqteV58vDpb35bnz3zMq1t8R7Nr695syAAAAI9o31n0rO9dHVNzzzvoUmeQqK1lHhhEb5tttMhMWK9T06gczn9XXFuo0eSMpj0AAHOE353f6AAACr9rH1OigAAAAAAwh+X+GmnTup16vyt/2SmTCydp4aed9VbyO3OZp42W/OABXGAAKcvTGteK5cfZYFva9LSkiZ0xFve9PWnc9O2y1tAAK8kF4CF1in01ypNforhLX1WWOaStNfm1wllCTM1laT7X0xE61tcRfvWpeXoTb5oVNOuLbZrunnd9vOuOmUAAc4Tfnd9H1rjMeGUKXrXt8vXidXLt8vWr9rH1OigAHLGkuyrLE0F8AD5dz6fFufSTy0dF5m36hldL6WCRo5Q8vWNz6yetJOnja+hlAAAAAEWIpqUlzOMtyYEVtLXqqUu735SnPo7WsbXAAAAr+0TuM+nxP63P8ATfnu3zr6Pj23idPPGrf36RUV8RcTaprW0tamrS0taqpTpr6fjXl/fdVo8S4645V83OZ/X3zz73b836cvMeEY2HXRPOE353fSda1fSus2FJ1rNpO6HcZetX7WORp5xyMbDron5Uai6N5LIx24AKms/l3holcu/R+Xs7fze11s42+nNomOTza+t0ZbT0strtzAAAAAAQYrOm2uI2TMeI1G43zNHWkwsLXAAHLHUgAHFepz7Xy+kW8Umytx58y0+TOqI3pjI1wymNiaOnPo+nXnOHp0fH0bTpmtuvn4RNdz19Tp8j0AAHOE353fUdK1XSsuszKzHtFR0i25zf8AG9X7WPqdFABgUJIK0lmJCOvABhD8q5tmPPp0nnbO38rRI7UvtOTd151WbRO2ceq9rzNt4AAAAAAjxEiZAAA0RG2ZyAAIBgWQAAABFiJMz6ADE9BFiJUyOAxfS2nTLbdfPtemQD0AAHOE353f6AAACr9rH1OigAAAAAAGuH5fwel2Pk7Oa20+j+J3z60utPDT1pEz9+v9nzbbflSAAhkQsTcAAAAAAAAAQzAngAAAAAAAAA8BxGX3pk8rbrgtemUD0AAHOE353f6AAACr9rH1OigAAAAAAGMPzD5/p/TPnd1d2RdFeh4ts0vtPCZ2523q4ZPagAAArjUWhkAeAgU7UHH0/Ytd9vOsumX0AAEYjFkAAAAAAAAAAAAAAAAAc4Tfnd/oAAAKv2sfU6KAAAAAAAYQ/MGPd9I+Y9TZW2XWKTvTV1rKtz7bZl7H1fPzsAAAAFKQDqSupopeezl8/sdH28uDXRlE+p2W5dRo8ifbiANRXlqAAAAAAAAAAAAAAAAACIUvGwAAAFh0ra2AAAAAAAeQ/OWPb1PzvqWHG+dkWYi9I5r6DyPu1uNnq5ZSSAAAAAHhQ8fR4HH9F2mnxanns7HX8/ymX3tUW77b80ABBJwAAAAAAAAAAAAAAAAAAAAAAAAAAAAAABC43+B5dtj52jpvK2ZWiJr5Rd+K268u9msjZw39aZ3AAAAAARK9aflt0171PPX3uz5uLHWv56rztgAAAAAAAAAAAAAAAAAAAAAAAAAAAAAAAAA8KfN1+efL+7y3p5bjLaJ3rKrNnNe1ivIaePeUS92fb357utc7QkAAAAB4VHLbXc9lTz199t+bAHoAAAAAAAAAAAAAAAAAAAAAAAAAAAAAAABDifj/AA1VXhejeedqqfUxdN5uqRLKYt+/GLvyZ0XxI18d1qaOlJevlLsSAAAAHhX00RKd6qmzsNPiAegAAAAAAAAAAAAAAAAAAAAAAAAAAAAAAAA+e8dPxHn2+k/L+vh15ZaOVzl7SbVFx34c/vydpzrlM+2IVWnJutxs9N7PrIAAAAAAAAAAAAAAAAAAAAAAAAAAAAAAAAAAAAAAAAFBTpyFLdB5uvV35zIiTWc0a4mReKrRx6KsYxPko46595oTZdpzkAAAAAAAAAAAAAAAAAAAAAAAAAAAAAAAAAAAAAAAAAAAAAAAAAAAAAAAAAAAAAAAAAAAAAAAAAAAAAAAAAAAAAAAAAAAAAAAAAAAAAAAAAAAAAAAAAAAAAAAAAAAAAAAAAAAAAAAAAAAAAAAAAAAAAAAAAAAAAAAAAAAAAAAAAAAAAAAAAAAAAAAAAAAAAAAAAK0sgADEwNoAAAAB4ccTTpQRyQAARyQAAACoKc649AAANBvAABHJABAJ4I5IAAANZGN5gSQAAAAAAAAAAAVBxRYGokkI7E4A+gFmAAAAAUByh2ZzxtKcsiSayMbCSdgAAAaDijszkyMbSGXJpJpUEAtARzItSvKktTadocaVhKKkuycdQAAcsWpTkMhFsQC/OdJB1RPAAAAAAAAOFNRZnLl0UxtJB9DMwAAAAD5+dATD52XhAOvOKIJ0BGO9JYAABFODLIhGJsNpHL44syLEojqTAFASiWc8dodafJz6KfPSedCYHXAAHzs6Uoj0FIWJBIx0J3YAAAAAAAANIByp0xuNBsNx6AAAAARiKbSaaDAlkUzNZvBsAAABHMzI1noPQajIHhvMDw1mQMCUeGg3mB4aiWAACKRiaAD01npkbgAAAAAAAAYGBkYG8AiEsAAAxPQegA0GZsI5tMwCGbCQARCWAAAAAAAAAAAAAAAAARCURiUAARCKSiWAAAAAAAAD52WJTnTmZpBUko6AswAYnBmwuivN5ELE48+nnLHp4RizI5zZsOkPDw5Y+pAAAAEQ5I68qSaUxqJ5CKYvTYQTrzkjw7MAAAA+fFyV5sMC2I4JBDOZOnNBMJxcgAAAAAAHzAviESjWc+dEQzadOWwAOcKAqS8Kgtz0wNRfHOH0cpjnzUQC0BRnQGk0n0IAAAA5A54+gnOkEgk8HXnJHpieneHy4xPqYAAAB8+OxOOJRzx2pUkw0nOE4ilwV59KAAAAAAABVFqVZ4elcWJHK06o2AAqy0KsgmBYggGwvyIcsdIbClNxNIZpLIqSwLkAAAAqSuL48IhpPDE3kc0FmZk4ojw6AAAAAoiEWxHIhuNhDJgJJkVZZlmAAAAAAAAAAAAAAAAAAAAAAAAAAAAAAAAAAAAAAAAAAAAAAAAAAAAAAAAAAAAAAAAAADkjUWxAOkOZJZHOiK4zKsvigOqPQAAAAAAAAAAAAAAAAAAAAAAAAAAAAAAAAAAAAAAAAAD5yWhSFuQiKbCcSylJpKIBtO6MwAAAAAAAAAAAAAAAAAAAAAAAAAAAAAAAAAAAAAAAAADnDoyhK83lcSTIgl0SCnLQqDtAAAAAAAAAAAAAAAAAAAAAAAAAAAAAAAAAAAAAAAAAAAAAAAAAAAAAAAAAAAAAAAAAAAAAAAAAAAAAAAAAD//xAA0EAACAgECBAMGBQQDAQAAAAADBAIFAQAGERITFBUgMBAhNDU2QBYiM1BgByMkMjFBcID/2gAIAQEAAQUC/YTS5BVbXeofwWUoxw7uRBc34m5sfiJnQtyZ0veIFwOcJx+zMSIhALA4bRwirDXwu1/kH8EtXhV6VhctWRoZxr8+ccmun+Xhy6r2WFJU9sN31WGQA0swJmOinEIltjPivi1fp59RlGpOIFbZnE6wd5aSu3wkXp9ccfwPeNnl2wFwxFMWc4xD34HqUddPjocOQpVMwlRvyOP0jswHJqvm9EQ4CHptWRn9Xohyq9rJxZOZYwtbZ+F2/CE6P2FVxz9zMOo5xLH7/uY5F6OOuOOAT8IiLjWJ4zlMEmpDrF46imvHPTjwKvDGRS54ecxRihzMM6AEYI+W6+UbZSisicUTAkiupXbexmNJ5JK9PMW+SX79/UFvEU8a46hzcY5PoEG8yUm2IXXstRJZZ1EllxmSw1SlJMfmm1mcgq4xP7GUcSj2xAaE1HM/2O0Z7Kv7y413lxrvLjXeXGu8uNd5ca7y413lxrvLjVS6ZrPrf1DWxyR0LP5gE46xnjqtjjJIYjrnjjPWHx64tZOPVeSOT+QkuSHRMzqEYwj5izwOHtjnGcaxnGfQKOBYdJhfSFqJpn0syxjP225vp/0aX4/1v6hR41mv+1p6hPhpYuYxGQWsTW49XkJDEZRZJjE6rlyx6rvwhzwFHDMIhaLkaaUo5WASJgq/rPExwYPy588kVMy9GrbKyyb4s7Igi46fJyxlLEcT/wBAfo4JxaiXEjetub6f9Gl+P9bdKvdUvsHnhpaOZ4lWnwNRRjJIeK5dksTVfx6LyOSq7WT7RL1XzDwrksyVd8aEaeyny1Zj5Xqq0+SWCLGRSJL+7M8CuISzJH0mDCXFj340i5BuV4Yi9SjOREqD464Z7bTks4C/Pjf7jJjotvcrKjhiCC1wqEc46qRvf7UrAp7hd887+UoxxGWJY8+5vp/0aX4/1pxxKFupJKw1DVVL/IXljI8J/niHho8caX90p4jLSnuz5ZTc5ud7XO9rne1zvasT2kJJSamOyMQCKIy3AcJkGx28rAsoMtl5MsSwAiODc65zImgEYc5xW/AmkzifO9rne1zva53tWBrGCtaWwJH2PMjUVvVj2FVOziAEtxoY1WT7NuxsAWA03ojT7rwnREnmIzmQmlBzK24Nl3GQztJr9QcIZKbLMDjypBgBEX5OEJuKENAsTPlIKdSfGMrkm9i1wq3JEgmG5F825vp/Vs9JPSZLXr0rxHBuOkHZzujDv85xjFNcHetNUvx/l3M4VZDbjJ8ybsFVGBX1dM9jYqIaSt0mmPJv1GRF9Q48Kz9dEv5RE4658aYzjgHONTzwkp75+o5DJFKFPC1csPi4qKA7BQX5RrY8Sb1Zq87LEMkBMfTxXfCejYqxcTjjhjSK4mr46EpWVf8AV23vid1LTaUyPprgXzJZQHRo8gz06NfEIdIcrBBbILe0DIo5/piCEWcKsNy21jhbbr+TqLjboUBRBumf1l7O2uddtdabVuMq0S9mGOtzfT+rev74ab7oHvgt01P+VcGU7x5qwk7QLCgDdeqX49gFpI/bXWm1bjtaJezDHTr/AFN1GssQ3JuEcC7j3r8ptUXJWIrDErHyXAcsVeh+7VV+Y4vy5AXQ88cWUsiW8TJ3GMnJGuxnp+qh8DrEI4nqI+B2eOdGH1R6YhKClfjOFfMzZ5y75aOu5GdCAEWaVcwDt/6yxiUcY4YGKMB6VhkQI/HSHnLTH6DeOAdVNdJJjb/zrdfyen+VRQFGykifO4fPub6f1YQsMyCg6exvUjOAqFOyrkUygta+mkvdYTL+INUvx/knzclBXeGpXSMbGtnWsFbvkJ2KVgk5NqFY6w75J/6kjDMuXMJU2P8AK/6FxxkUuGmCinGHbwlhnBCDjyw9VaHSX85x4KHHux5Wz5hoCYhy9FiOZY8vDHH2GFzk9m3/AJ1ur5PT/KvR3N9P+jS/H+uX9OHLjT9fg4UiZAfHCUYZ/MDhLTiS+gLzxNcfGfmYXgbPVYX0Igyw+zaPgMVAZH9vRgMO33V76io+Vejub6f9Gl+P9eX+pPy6F+m0oJjShZpS908DJyygXGsTxwX94vQKrHM+4KDUZYlHy2EpQRpjmNRbVKQ1c06uqXzsGiEaoZ837Hub6f8ARpfj/XnjEo2Q+gcOf7ev+YkX5J4Zajk1nFfVUGbYI4xjHpMr5DCoaa9liQokiMNQpcXj2q6GbRI2c17h5ZqGKvHjAaVuwsQKxaj5SkgIa45lL+yOrjbV8HhrweGvB4a8HhrweGvB4a8HhrweGvB4ar0RJfYZ1uqGRWtdLqJ493snHjrkjDRQEbwnDAA4z6+4Pk4q6cqra3yW5+pGginHZ/yzZfwXlIDqMfv7bIlh3c/ELuhnmGJajjjo5wAkiiWzk7HuNwQzqOsZ9ZoEGV31xq0G1vktx9R5xxwuuFeFRXxrg/wRmwWFhs8zlR/uXLtfE88ytoj6L5iV1SuPEPdigxEzY86jn36jnj6118p2t8lufqP+CuMDVXuNzMGHTi5Vs+7FHHjiPshHhkGNXhYAraYOQ1+P+Y54axnTBujBc8TR9SxFM6NIsROus1GC3f8ABd9Zlis4ZnMMeWLucxUphZhX8udQjqf+wfdjcHVJOA4wjn2cdZl1p9OUdKs9TP8AE7utjZri2gEZI0sY6aooHCCogIXh0ddhjjmtxzYT14NjxXpa6OujoynUhFPGNdDU08SzDGcR/wDoSudXsFvLOUYQESBRennPDEdzVMsKXiDTHsCYRs+Vc4jx9Cxskq/GNx1vPjOJY85DCGTzSMKJ/b159/7BGEWXnLOIxotBdVPPIwKkkVf7i6P21RgxKjYjI7rwuxtWY7QbDd+Hu27BNrWh+0q7kjs9oVqs1F/T3Gbt6KhuqhKnrrFSw1izlXWIc2M67b0Cpbd2/wCLOKGhaGdpHz5YQla24jFtBUG01CLVHnYLEINqL9wFoAml3zyrY2vitWjuGyYEK9nb1qVw+zFnILtRi08SIyBpxS/Kuw5u+TTj9iJlxG77qya3Esw+puWwxZlfrm2xX6ADtbqC05bNINtgu9VT5isUWbmzqqZ1pis23KSG30w3Dqu3XjuL+Xdhuht6oD21Xupw6dXeOPBtbYlrVStHmJ2Tpn6ktv4hnRmHq+xtnHvxCiE4QfY73nLwbc0eaW7zZDt7cGMKBvrdQlXahhXD3dZhZq9zyGJuEozh6e+iQxVYuajGIWKM17FZy1BfWEWNn3R147NewVWipYUGa2iFE1HT3NYtQ7mZKfaaZAFX87ge4U29aARTPeYOxZSilu3cTgrNc8Yk3fu3ibTxRpbwBbhas67NcewrMpfjPbzAZ39crTRcpFqObmz8YLFL/I3hQ+FGDtvtfxPs9gRtUalDFTb69RIhp4EFaeVdgow7ClV5gbAsYQb2Ti+qsI7VVMuh5d8FF0fGqnV7LDN0LHcb2v8Age9bWrsbpTU24Wy/w2Nyz8Nzuuq4Mbr+yIIRNSEKRCiEaMwHLu0ay45kHAsMLLYgYIjRxjGMemdcB9eHV+uzU6X/AFAAICwqtiGoLrwKMIRz7ZbrEhAkBwgOHoHAA+BDGKJIQJAIQgxgQsFmIU5lGMsBCGGBF1yEkAMi9AHWOuA+oxjGIhDDCAhDlldfJugHrQACBTLLGlj3YnGM4yACQZRjOGBDwIIhBhFVaJfMdZc+vDq/XSF1IiHEmRCyYwhGiIQxQMuA2SACTIxDHn7KU4w1gos5LOIxrlGcPtmyCDPnxKOdZziOMe/HkYMNcI5xIPRTgFqEozj7W2l1BLGEyH2tMgVj+x9ytz592FGAtB8uGQZalYoxcWZAzj7K+FB/crm36XtkLUwNmuv5QK1YyxZNWZO+SsyysRZiXeK1pYugrGpOKeScsRjsnhmr3oTjTWDea8Xiri7lrb9jYzt3FnbOzyszud5ySA44GPcbrAYrbfrBxTpoo2cbpgzj9gwAy1oxizt8utboMxZl3K1Zk71SzL4kxaGlYWLRn7j0XDxVVna2o01DjZWurDNdG0cGggW2IJadq2oa0su0KG1aHYdxZMbrNaGI8hZkJYZuTzsg5nkVzdSrLJ27lG2x6J+reW0tv00gkCxT7aSLin2yzb2CIrSy7UmH7ETR7M8rFB5ojir82dbVmeFaC0AGiNZ2i69tbjTqEGW2CevhTxTdctvhLrco4ZnugkWAbQ5Yq7cUdZgpW8bjbcw50Wrbqw07nf1nk3MfC9DV7aqZVrlRXr7l7h2zu3QZ/Ey+O53recD7iqOBN23coN7neVtis23MpuPjjgnZquS2TDjUoFeuWUxZJvKq/wAjdVB/fvaBVxma9bmVvszhJZaQ3d7+jfutDa3QEqNLXBwshvKEpbfLLF1clXO1vBurMedb+feXdr5e2vnrNbI4eE83dbz2bjqr63oeD2f6e5Xwt6O1ZRC/YOLorbqNhukfZbNd7nVnjVkkpYkA1YIW7NcJxirsWetXy7XYdpxR2Ldqy752vb7e2WhEv2CCAEiaOiE1gmgBU40QjsWqVMzCKCyQF6pINXjb6fAQ4CH5LNENirj/AIygDNo3TqsNkpEpFTRCqz2IPFHqZNttaoSXd02sBsH4ar+HZL4RSWEmqSkTk1CoUG+giFPK1QqvYNUqZ2a9FZAZKFGTNfWKon9Gyr1rCBKNIqqwsAA2CDS1XXr1q1jVqvTQqlEy2NSo6aurlUMIVKqTbFImVhVBZVWuUCgnLHGNZUJ15Q1CgbX0bKpSfmvQV4jOIgaYsKpV0xqNIoW6dRkqFUomYlEnkwqlMSLFUqarsEAPQsEVnwrUiYjzRDOy/wDBt2uFTpsVVhwRXIjD8Q1mpmFAH4iq+F7Zwrq5e2EKnYNBdclmoOvVsVWjS3BWY1JpeKn4greXGcSx/Fd39U73DdGtyZsChZzcmTITsKfcR7UFDfCnip3R/dc3ibItv7gXxKO8pEHUDncDXVpDz2sWxZVEOMID/ipK+c9wauK7vo9jbMyt60rLVnUv2KlpWut5tKxpqbtO89I1fMt9cV8LFSSV0xCxTYLFmssbCP8A5H//xAA3EQABAwIDBAgEBQUBAAAAAAABAAIRAwQSITEFEBMwIjI0QEFRYLEGFHGBFSA1QlAjYXKR0aD/2gAIAQMBAT8B/ggZE+h20HlMsydULEeadYjwKda1GoiO6hEwimdX0KBKt2AKVChRuqW7KgVa2dS7i7UFYgiQQm6I5xClNED0LTamZBUwgFCc2UGKIRh2RV1b8MyNOeRnudoqYlRqqfimdUehRqmqUx+SDliT6sLjFGqVjKnEMJTm4THcHaJggbogJnV9CsQKlNeUHu8ljcPBGp/ZYljWNByuR0p9A8Fy4LlwXLguXBcuC5cFy4LlwXIiDHPYgqZQKaU85JxKglcNy4blwnK5YQ0H0VU63PZruBTCggJCdPghKiU4kJuiuz0Oc7REwpROSbpuCcUT3JpmdxMbifyeKnvNTrc9mqhQmJoXEAMJxQycm1Aq5zRdOSrzMc5xyUyFUPRTzDUTDU10kIGJRROaGnOBlOMBDRN1Ke6EUesFVKc7MBBxzQOSCBz/ACXOz20bOncA5uVawps2ey5GpKAJ0REa9yqdbuAMhSmqnmqogo14CNWVTequiaSq3nzXGBKb/UErDnCIxaojEiJ6KDcK0y80WZICUzTlEwnCQsULiBDIouDuigckXYNfFFhOe5ok4k4Ys1GOD5LTLzWpjyTkMleWJtQwuPWEqnsCq/D0h0hKq2DbRjKtXMO8lSq/iTKViwRE5oONwxuzBqCc/wDabZP2bF24zhdEK4tvm2OviYaSn0aQaSKk/wC+S50IYvFNdKJzhY+lG5r5O6p1u4MPhuYqOqqslVGLCVTbmnjJMEq4EDmnRU24WoaoDNAKM0U5ucooBM6vKIkbwJciM5TeumeKqtxBHRRkmiGqEwQozTWw5OEo6J9R74xGUbulaii6qYGD/i2yZsrdfD3b2ff2Veu+3vn1GaglXdV1XZAe7Uu/6m/obv8ALlObKDiDBWj03MkqJLkXS1DJ+6p1u4DXcxUdUU5kp4hUek5ENhDCDkro9KOcNPynf5pmnNa3e0ao7wI3BeKjNFO0G6/2j83TpswxhELa/YLb6L4e7ez7+yv+1VPqfdOvqhthbftGabfUxs42v7pnlGfBYSTJT2zomiAgIJKDIdKjpTuqdbuLGyoLSqO4lPEpjC0ozELBAlOMmecO9Hkkb9r9gtvovh7t7Pv7K/7VU+p9+6VOt3GlGSqMxKn0VKKeclTfJzTqghVn+H8rtO4pVLOgxpzGq2A4NvmE/wB/ZXxm5qfU90qdbuLMmhBYZ3FESjTWBVOt3G2aHVmg+a2tb06F/wAOmIGS+IKNOjd4aYgQqFnWrsc+mMm6/wAvU63cS7ohDMbii1ZhPqNbqqt0NGrXnWlNlSu1lQwCqdrRfffLjqzEr8Et4cZOT8KvgNn3DqNIaRmdU1nz1CreVT02wqTPxOnVuK56TYV/OyqhoUDk4ZytqWVtY1AyCZHmqppGOGI/jMbljcsbljcsbljcsbljcsbkTPcXODmBUnYmA/ke4NEqo7EZRbl3DZHbaf1T9oBt0bWNXzK2/wBvf9vZbO/S7hUqjmmAdV8TdrH0C+J+0M/x9DU6bnmAjRwwxWz46J3uqAJ5NTVEJzURz6NZ1GoKjNQrWs6vfsqP1LgviDt7/t7LZ36XcbqtapVOKoZW0NoPvnh7hECPQtKi6oYCo0m0hATelWVShizCmsFhqu1XBjVPKaM08Jw3HnbO7XT+oW3+3v8At7LZv6XcehgCTARoBmqtGYWynOgK2zk73FPKc7JMOSKcEWqB4861qijXZUPgVtS6bd3LqrNCrK8pUrCtScek7T0NajpI5lNyEKsYaVb5MRKlBPVRSp3QqjvDcPSlOoWGU2uQZX4g7yVS9c8RCbeFoiF86fJfOHyXzp8l82fJOrElcVcZcZOrSoUIZf8AqU//xAA8EQABAwICBggDBgUFAAAAAAABAAIDBBESIRATMTNBUQUUIjAyQGBhIEJSFSNQcXKhNDWRscGBgqCi0f/aAAgBAgEBPwH8BaMTrKqg6vM6Ll6HdK0KSta3Yj0g7gEK9182ptXGUDfyjGl7g0cVIx0bix20KlphMyRx+UXUXjC6W/jZPz9Ck2UxunN5q7QsYWszV8SbVGM2UNS2TyDWOcC4DIKkc3USx/M61v6oUk52NUFPLFK1722AP+VWsdJUOe0ZOJt75qlY6nZI2UWxCw9zdMgkEliNm32XSMrZap72bCfQrin5lVMoGQRejIg5ayydJdqZUObmqOrEwtx7+KcMhfH9Vv20UDnCoZY8Qul6h0TcI+bEP+ybOx4pmN2tOf8AVdM+OH9Tv7rpIkVktuZ9ClFWUkFzdPiKLLJsfNFi1QQiCDdW7EFG/G2/kKI2qGX5hdKVRmlLODSf7pjyxwcOC6zJNM10h4rpJwdVyEc/QrtFkQE4R8Snak8VqmE+JalvNaoLVWT2Cyoj2begeuxrrsa67Guuxrrsa67Guuxrrsa67GmPD24h37tD9ilYUQmhMDViaOK1rOaM7OBRmaeKoJBiIHoql3Q792gqZicy6eCCmBvFYWq4BTQHBOA2AKgZaTvjsRKuickNmlxR8lVU7YmRuHzC+i+gn4OKv5ml3Q792zS8KZ2EoMJzKa9g2BPcwx5DNOhPFU4ysowWHEVTEOGLvnbFe4T9id4UTZqa65CB2oq+aHdsY6R2FoudM9O6ENJ+YXXR8TZqljH7CVM0NkcBzXSG6g/T/kpxsij4gpEXbEHbUDkgh8DJS6Qt5JspMpZ5Sl3Q8gdBVUOzdQ5hClJTaeylYoRYp4BVJll3rjYJvbCwq2JEXRF8kBhRyyRbkrXTdndQQumkEbdpXR9Q2lqWyO4JtKZH2Dhn7pvRFQ7Z7fuqq9REHN2RgAqlpJaUsq3+EWP9VPTuMgP15hV1S0tjZ9Isi0nPQBniRF1bFmv8oZ5IoZKOXHdGrAvkmy4yQ1EakmQq2AmZazXfdpj9WREg519ncxR47k7AnCO3ZKljDLW2FNjBYXFagGLENuiWAMZfRS7oeQcNDiq09hQyWUUqxhSuBURzT8iqPMnvSmNwhBAZoBWzRTm8dLdndU85gkEg4aZpnQ0eNm0BijqsMEkZ2ut+yqv5X/tZ/ddI+CD9P/qkFwjsVk0dlWTQrZprbFOCKAA2LVufiA5qm3jlV7oprQ+IApgw1FhyR/iR8R+CKTAU6Nrm42Lxw/kpeyxrP9UH4Gxn802LBKb7AnHFBf30Uu6HwHvDoeq4WYmOTJE191P2WJrje4KcXOGaom2Zfvhs7luzva2sxsbGw5WF/wAxodI99sR2KtmZI2IN4Nt8FtPFcdDuGiKLASeag3r1V7oqLwBaoY8a1R12PumFnzIyMawtZxUMgYe1sUr8brp7wWNbyT58UYbxWMarB76KXdDyLjZXxBVvg0NTCpHBwQDQ66BxGyYMIt3w/A7aYN69Ve6Ki8A8pS7oeRlvmqWpwGzlUM1jclhIyTU3NSNwjJMY5xzVNENv4rCwiRxKqt0VF4B5Sl3Q8i43cUdpUVQ6PaiGy9pqLSE02WsTZAofB5F5s0qB5dFcqlcXMuU6RrCAfxel3Q8iBmU7JxW1NNk2pOwhExOHJMp3vF2qGhde7ygLd9ISGkhF7hFi4rrL/wBlF963EUTqnNjbsROpIY3iovvxidwUEj5RdNxcfwzUR8lqI+S1EfJaiPktRHyWoj5LUR8lqI+S1EfJBoaLDyLGFjiqtmCVyB0xxukdYKNojGEKN5BQN+/qN2UIuxj9lS7oKbfMTgCqLwKi8B9DSzNiF3IVALDJwXSEWO0rdDc1FTPegWwZMTXWZcqN6Y66B75zQ4WKe0NjICpd0FNvmaA0N2KKIRiw9C1FQ2FmIqaodO65U3ZpQFT12Dsv2IijcblCemjAwhPq3O2JgVSbABQuzUZQcmuv30vgKpd0FNvmehibLWFy6TlxPwqMFzrLpA2wtVlhugyyY1QN7Snzem7Uw2TXoPtmmuxd69uJpChYWMsVJG4ytcPQ0xyXhbdSnE8lUjbyBVnalWFWtoaqcDMoi5usOgFAIGyY+/pRzMSfFibZfZLfqUPR7YnYrp/Rwe7FiX2Y36l9mt5r7Mb9S+zhzTaYBmFdU911P3XVPdNpAOK1K1K1Puh/yk//xABREAACAQMBBAQHCwcKBQQDAAABAgMABBESBRMhMSIyQVEQFCAwYXGBIzRCUnJzkZOhsdEzNUBDYGLBFVBTkpSys9Lh8CR0gqLCBnCD8WOAo//aAAgBAQAGPwL+YWfnpGaiutGjeDOnOf2GyxAFbtBJcd5jHAVlLIj5T1ncwqPSa91hQj900NTmM/vCtSMGHeP0R5ZDhEGon0Uk0RyjjUp9FWUaKpE82hs1L8g/dVp8j+P7Cvczcl5DvNHWdMOejGOVdH21zr8a5V3+it9bOQvwozyrQ43cw7O/1ed92lRM95ovCSy8s48CRu2HkzpHfirC80MILfWZXIxp4V76Tj/91PbwTq8ssZRFHaSvCo4JX0yW0KiYfE4dtWUlq4lW2mEkxHwFxzrhJwmGmI44OT3VbQzJodV4j9hfFoyDDAccO09vg1Nyrh5AOayhYDmprcz/AJZe343m92oMkvYi8/8ASgbqTSR1VTkv40saDCryHgs7gMAINeR35HguXaNSyQvpJHLhRlZiDbmJxjt6FbenkTEc0XuZzzwhran/AC0f9yrLWithARkcvCZYWMMh5leR9YrF2mkf0i9X/Ssg5H7AXMsRw+nAPr4eAUB4cDooObVx1N7azuhWMCtadBxxBWgw7fMa5GCr6a6GbeL4x65/CtMa47+8+Vd/Mt91LOGbVcRRlgezC08L9V1KmrhbaIKTCVJ7WwOFWisCCIxwPk6rR9yfi/APsoJdJuW7D8E+3+f4bMN0pH1EegeHgD9FdGJ/orAgc5pUj2c2B3yCvzcPrhXvFB/81cbOIf8AzV7xT2TU6SwmMqe/PlmO1XesObfAWt7M2+l7zyHqHZ+haWAIPYazaPgf0T9X2d1buVTDL8Vu31Ht/mSe60a90mrTnnX5vtf7Sf8ALX5vtf7Sf8tfm+1/tJ/y1+b7X+0n/LX5vtf7Sf8ALX5vtf7Sf8tfm+1/tJ/y1+b7X+0n/LX5vtf7Sf8ALVwlxAkUkDhSFfUOQP8AHz9teZ4g7s/f5JburiwrriuuK69dcUyhgeHkltJbHYKzcnRH/RKfvNBVAAHIDyy55DyMg58HA8vMaJEDL3GvcH3qf0ch4+w/jTwY0H4Oe3zYGeJ5fo9780fNbU+fX/DXz8B7pv4HyQE4V7o2T666DLXEDFZArQi5b1VgA6gvHI89L8mpScndprI9H+xUs0zKiIxGTUsyc1QsM+qsgjAZh9tJKvJxkZq5+c/8Vrdg9JXiJ9r/AOlBU62tQfafMavF4w3eBjzV9HJpxBNoXHdUH/VRcnPPl6Of3eCNfjyL94ricdlN6qQn4ooKrZXQT9tGMceiGz5+9+aPmtqfPr/hr5+dfhINa+zyMA0DF3VzCY+ERqNbvW8kWeOocMUM5og8xUmW90PLjwohuLk8fPS8eWEPrP8A91dyMx1GE/32q6hJ6bsSPY4/Gn/ejI/7auJANWGk4f8Ay1s4Bjo8SPD0/wCxV7M3SOpM/RU7+mE//wBDTBOI9xbP/UagZjkmNST7PNmWaRY0HNmPCs+CdUVhuJTGc9pq5mhbTIiZU1C7nLNGpP0VtX/mf4VG6414OB9Az9tBOwtdH+9+NbMUNnG8yM9umjEM6lXV/v6KtIJGPukzD0cJBirwtg6LvdL6sgfxqMFzvTb5B9Ok/hUeTzRv71Qbs5zGiH/u8i4s2VAkQOCOdTWTaN0i5HDj2VliAO81lSCPR5i9+aPmtqfPr/hr58q3EEYNTW5HVbo+rs8KUK1rwrj4dJFaR5R028RHZ7r/AKV72h+uP4V72h+uP4V72h+uP4V72h+uP4VFuYFyc8FOrP2Vm6iSNv3WzU00QBdEJANRyzybrWTL7l8ZTp7ezlTWUTNJHLmOVjzCjpZ+l6MFy2n4J3f7w1H7UFPE8gWFFI6PaMkf+P2mhYO2I5j0iOfEbz76kuEPvUGGHUOsuNXH21Dbh9QvF3jlhxGOwUS0zHo63+UpyB6uJp5RKylF18O3QAwH0uaiHxRp+jhXuUMbr3mTH8K97Q/XH8K97Q/XH8K97Q/XH8K97Q/XH8KZkhRW4Y0PqPPuxX/FwIg788fo8L3MudCDJxUltCqqXxgsfSDRaS0uwsfAnd0crPw1fB7udPFIMtfytNDjux21NsmHULiUvENQ4ZXiaZRG7eJjdzY7wOzvqe6miLLey64wOYGO2g+uNY4E3elufDGT7dNGLRl4dWs9++5fRmk2qundqWm0Z44ZdP8ACmm0qiv7mobmOJqG6i0ots29IbtDHXRiCrqvZxOmT1c9LB/qGhYxKN5Au5LHlwBGf++kZ9OlcqMHtOf8wqFnMZi1hcDnni3/AJVOkcQXcvpOpudS/wDCt7m+jrev8KmgtQsLxHiz9IGp9qSsJt50dK8OdPt89JJYx7l2jOO2m2cse6MkQfUTnHI1HslYd9IicCDjPbUavYMit1m3gOny735o+CGOGLezzvojUnA9Zrd3tvb6CPykTcvWDUy3CKk8EpjcLyq0soVVjLlpCfgqKeykij8WV1j19oZhkVk8qeB4ESAxGWI9pGrHg2p8+v8Ahr5Sx2zYubiQRRes9tXez7yUyXFrLjUfhKeRqKG4k0NKGK55dEZNRw65EMhwhkiZQ300njEhDScERVLM3sFeLIzpNjOiSMoT9Pkx3kSZMfB8d3h49goZ8GazQ8B87Ki9ZkIFW416joz/AFuNTy56rlcetU/CrjT2qh++nY5DEsPZqP40naII1wfYRUXzgpLs4xGmnHpLCnjHNlxV2q50rHIM/wDQlJ7fv81JbOxVZBjIrHgMEy6o3muMjNWNyjKI7ZWGO3iMUv8Azlx/dran/ONUMcSguZhj0cDU/HrZP2U6sca2Vh9C/hWn4apoJ9RNKuQcSl/tJ/jVxw6DEKB6AtEsoJjRCvo69Su2cytI3s6NDHJekat/+YX+7TGKJELcW0jGavEt494wmyePyqvgf98af5S1bwS50tCmcU0KdVIsD6BSfI/8fD+cY/qhX5yj+qFS6r5JBoOVEQ6XooeMyjddiNxPgvfmj4I9MphmibXFIOw1Fs/akaa5c7qaPk+K7or6P/vX/Sr7aB4qp8Xi9Q5/bW34V/Ke4tH8oKcVbrCfd73EPq+NSwxjCps4KP6/g2p8+v8AhrTNDfIkfwV3YOK/OUf1QqXVfJINByoiHH0UPGZQIuyNuJ/08G98Vu7mCxXSu4j1e6HnVrtAWd3bRyjxeYzx6Qe6tiI4yuqQ/QAajbtW4TH01BtOwaIzRIUMcvJhVtBtbZni1zk7iTg659B7PJuYQcFozjwcaI9FDwhh38aAWInj9NZkj3dFj2nz1v8ANr93gL46R4E+B5c9YAfRn8ajwP1grQTjwbQJ+GGI/qAfwpQRjn9/liytozvC2CzDl5Vxc3ELLKLiQxkn4J8DNHEiF21Ngcz31tBpU0iW5Lp6RSfOL99YPI0AOQrd8xx5+BUbmKl+bT72qOXhhVYfTj8Kk+SasuGPdVz9HguZGlD7455cuf41tH5R/vU/ylq0+ZX7qa/1PvGGMdlLfdHdBcc+PLzF780fAj2E0Ix1klXg3tqG92jJB7hndRw5xx7cmojasqXMMgeNm5VFbkgso6Z727av7piui43ejHPgO2pbtnUwZLQJ8Utzo3+U3Xi26x251Z8G1Pn1/wANfJbRjVjhmjG8m9mdy8r/ABialtCdJYdFu49lbLuZZ0L2asJOHXyMULdHVCJFfJ9FJd2N7uZAuko41RsPV31BcbSu45Bbtqjjij0jV3nyTXR7TWCMV618GK41gnNbzUvCtKBsd+KC93no4yc6FA8w8R4B1K1jyhHENUz9UfxPooSka5u2Q8z5pcD4YP2+VnHHwwtwwjZP0Hw7R+Uf71P8patPmV+7zV780fNbU+fX/DX9Ab1UnDjmhLH18cfTSlh1TQZeR8HGtYiya6Fui+mg2OqPLDcVccnU4Ir3dd8n9Ig4+0fhWuNwy94/RBw1O3BF7zRkkOqZ+s38B6P0e+eSJ1VmOkkc+NNj4wq1+ZX7vNXvzR81tT59f8Nf0A1jHwjxpfVWeq/xq3VyvufwXHKtSMGHooA+EHzO9iYwy/GXt9Y7axdp0f6VOr7e6gykEHtHlTspwwjJB9lSSyyMz9PpGmaWRnO8PFjnsFRRTMQ0pwnDzGtvYBzJ7q8Yn/Kt2fEHd/Ml780fNbU+fX/DX9AKnkeFNF2I5UH1Gh4MEVrhdoj+6a91RZh3jgaUSBlLcaS5Z8ROMgDnWB5t5rPUsnPQvVb2VuL2KRW+C5Xn4JZIBmRR0RjNePM5WXRkoV4Z++l/J8Yi/V7eP4Ul1cyyhmDKVRsL2jlVtsu397zdbVz4mraztPycrZbVxNLd3n5SCXoaOA7DRk3sSaXwfc+YpvGJUf4ulcY8kyOcKOdeMzjB/Vofgj8f5lktpc6JBpOK9/3/ANdXv+/+ur3/AH/11e/7/wCur3/f/XV7/v8A66vf9/8AXV7/AL/66vf9/wDXVLoeVzK2pjI2Tyx+gyxHnq1fTUbjtHHyC78AONeO44SybuJO2khQdBBgfoFx8mhtDeDSsDDTj11F62++rD2ffRd40ZlB0kjlUvzp+4VN8v8Ah5SvI2UTqp6e/wDYDXK2P41nTp3n2U9pLwkQ5C+ECR+Lch30k94hgWNuCaetVtDuQY4RryDy/wB4/QWgkzobnip4Is6FibGai9bffVh7PvrBopBGsanjhRTxrIX1HPEfsK4EqPIvwA3GjJIcn7qkbsQY5VrhbdSE9JqYbpGOrA9VSrJMscTJgaeNRtJmSSPkTXCrq8MciOz4wft/Qrr5o1F62++rD2ff+wzzynCIMmjHaruVbtz0sVrPWc5rV3VNMR1n7/JkzKYyw0qR31EN5vOGrPr8jXzOcYrhz7R52aFManQgZpIJdOsE9X11Z3EceY48amyOHH9howCRmXj9BoKO3gKA7BUjcBw7eVRnAGrjw8PLwW1stuJlkfJ4d1BVGFHACuHh1nl8EfxrWh0kcq3b9GQfb+yiRNKY9LasgZpX8cc6TnqV+XP9WmiM+Af3KSNZeCjHVr8p9lZ3n2Vne/ZX5T7KW/8AGpMqMaOyutXWrrVo3hAPPhXX+yutWdZBHbXSOT3/AP7C+MWrFo84yVx5RdjhQMk0ssbakYZU9/nMmsrLKR6IW/Clt4WlLtyzEw8L7pw27bQ2Ow93lF4XDqGK5HePMjxqcIW6q8yfZQWbf2+rk0sRUGgQcg+YjjdwHk4IO/y1gLjeMCQvo8jxbxeTRo1b74Pq8MixuGMbaXx2HzDSOcKoyTSXNuS0b8iRinkVGkKrkKvM+ikkeJomYZ0NzH6TdT/FiOPXUcsR0S7sFfWx/wBaa8baPi8iRa90IgRwHae+o79W3d1Kq6cDtNSXf8oiKVI9e5WIFeA5ZNW17A25ubh1jGBnjnj9xq4uM8Y4iR66tXe5ff3AVSMDp6+/2UIWuZJ8ctQAwO7h5y8lzj3Iges8KtrZp3DInSG5fn29lObR2fR1soV++r232lNmILvrdsc1+L681dX13cPbal1xRKB7ko/jT7SlupG1RPMY+GM9/fVreXN5oTGTHuxmT0k9lS69oJY26nESoFZm9JzW0LS8nWYWeDvwMZBFG9S98Rt3J3MaxhjjvOavGvpNzPBq0TJj3Qdnqq3LXEjiSMPu2AwueP8AHzEkzdVFLGjtm6Gu6uSSCfgLngBTwToHjcYIqy2PssDfzdFN4dWhRzNG/G0jdbrBkjeJQGHoxyrZ3iLe63Uq4X4y/wCyK/lD+UhIVcaodyAhyeQ7attnWGkXVxxLsMiNe+oHS88fjLYmRkVMDvFRxW08Vpb4y8xwWz3AVb2El6L2G4RjkqAyEeqpEW+mRbaHUGAXoFuzl3VNaWVwLaC26Ms+kFnbuFW9jc3XjcN0rbtyoDKR6qvLK1mEcMSLlioOg/xNJs2e78bimh3gJQAp9HqoRxXUdlaBfynAu59tNsye6F5GYN6smkArxxg4raEovpgLYLGG0rxB46eVTeK3QtLOF92HCgvKe3nyFHZd3OLlXi3sUunB9R8G1ppZC1vby6IxjlpHGo55b/xfOcMIwWbj9gq/W7ucSWsjx79VHIdtPte6uZSsmuVozjpMTjPfk0LuXaJtGlGpIo4gQg7M5qZLoLv7eYxOy8mx2+VeN8ZNH08KtYMY0RKD9FDxV9NxLKscZx2mtm2dmctLqMgPbirW5O0fGVknWN4jEAOPdSbKsHSOYpvJZWGd2vq76tpmv/HIJJRFIjoARntGKijsZIoVY+6zPx0D0CrJTtLx2K4k3bIyKCPTwq12fYuBqhZ3yOA7jWi4ujcvnrlQv6ELaPr3MyxL/v2VsnZqfrLhf6q86udPWcCMe04rYdjpZ904kYDuQcT99SW9lcJc3Fyu7jSI5PGtgwTnTbwyjeN2av8A7rxSxdZ2nkWMsh4L/vFbGtpXEduJtbOeXQxig6EMrDII85Fbu2kTzqp9XOgBtG14f/kFSXCXUTRR9dg3AU22sGPxfp2cJXrAHJJ9dS3lvymjA9WTg0ILKVZgQluuk5yeFSraflYoMR4HcKimn8XuruUZkEnTkZ+7FbZS3VEuZmk9xXGVHYMVbh7hEkiiCtF8PUPRQkmga3M7IGUnqjPbSNbSJJFyBU8PMTQZxvEK59dLszabi1ubfo9PgGHYQaS12OgvJdQ1v+rRe3jVtf3XRt3tzEJDyRs5pdlbOlS4luGGsociNe81YWy9W0tmf6eFbPsB+vul1fJHOorq6YRwSWu7R26urNLaWS+MIFJlmU9FO4emtoS7ceHxiOcqiXDcFTswDTbmGG1iW2xEMBN4T24razSyqtw8+7SM89K1tCLbSxLc+MsymVtOUPLH208+zrP8gcCfjpJ9HHjW0L7n4xdNg/ujlV/MOPi0CxfTxqW52y8D3xkIdbg8V9ABraJSGO16KrFFgKcc+XsFbQzIouJbl33Z6wFNDtZYUvYpGEm9cqedSXezrJo9J0CU5w/qp5WOFRSxq4uNPTuSx/rNpqFG/UQDPsFXM5y0lwGd/TqOKEVgy3G6SPUEOeWMihOLuNujwjB6ee7FPNcrpnuZTM6/Fz2eVY2srALNcrqzy0jn99fnG2+sFbGtV6QMhnPqA4VM/Za2oUes1sez5+6mYj5I4VeHbKLu50RoHc4XgMEUsNlZiZ0GsyxklE9uavl23IgWHT4tHM2Ex3+mtn+LxW9vbojOJAoQSnlw762pccxCqQg/f936Gu8jR9JyuoZwaWRo0Lr1WI4itMsaSDnhhmo5zE24htiA5HDUTRkjgiRzzZUAJopIiup7GGRSoLeLSh1KNA4HvrTNEkg7mXNYAwB5wb+COXHLWucV7xtvqhRi8Vg3ZOSu7GKxRiSGNYzzULwpUFvDpU6gNAwD3+AypBErnmwUZNM6RRq7dYheJrfeLxbz4+gZopIiup5hhkUEjRUUcgowPMgTQxyY+Oua0RIqL3KMUUkUMp5gisQxRxj91cUZRGm8IwWxxpXaNGdOqSOIrRKiuvcwzWiKNI17lGKEjwRM45MVGaErQxmReTFeIrfbmPe/H08fpob6COTHLWua0qoAHYK0RRrGvcowKZkjRWfixA51vjBEZfj6Rmt9uY978fTx+mmlSGNXbmwXiaDTW8UhHayA1gUUdQyngQe2hC0MZjHJNPCijKGUjBB7a3QjQR4xpxwrRDGka9yjFb1beISfG0DPljfwRS45a0BxXvG2+qFCXdprAwGxxAppFjQO/WYDiaExjTeAYD441oljSRe5hmtEUaxr3KMUDNBHJjlqXOKUyQxuU6uVzimMcaJqOWwMZP6H0mC+s1gSIT66aRzpVRkmlmhbVGwyp7/IS2aQCaQZVe/zBAYHHOsk4FZHktNM4SNeLE9lLIhyrDIPg91mjT5TYrUjBh3jyN7czJEnexpZoHDxtyYdvkK08gQM2kZ7T/MmjxiLV3axms0JreQSRnkw8prUSAzKuor3ChZm6j8YPDd540xgkDhG0tjsP6Hs2wlGqJUeWRe//eKkPiqQ4UneKcFfTSXtwnjT50AN8PpYqyRoFFvO27ZwfybdlR7PtId9L1pTnCxL6fwo2Wz7XxqZOMpL6Uj9Z76/k++tfF5yuuPS+pXFXU7no2dqF9WeNeNWWzUMB6hkn0s/sxQme3kt2zhkccj5JY8gM1LdMelc3DyHNeLRka7mVIh9NQQW9rJcyv0I0HAe09lW8O0bBYUuG0JJHLq6XcatbQW7TGcE9Hn6Ktob/Z6wx3L6FdZdWD6aisra3NzdyjITOAo7yaOzbm1EE906rEUfUrceP+/TSoOSjFW9lZEC6u30Ix+AO01maAXUp68s3SLGvGLCbc27D3WDmGPo7qu7Wysd/JBJp6+B6yahtbeya4uJF1HpaUX21HYbQsxbvKpMTJJrVsVa2ot7dxbq0wVpODDlx4VFbRW9v/w0Jk0CYhePDjwrxGxtvGrhQDL09KR+s0Nn39r4vO66oir6lcU1js+1FzJEPdWZ9KpWzNm3FvuJUn3si51AgcsH6fNSXDhmCDOFGSaN8+yAIANZG/6YXvxio7iLqSKGFWz7rWks6xNx6ue2pbuXkg5d57qtg9oWvrkZS2VuXrNQjaVisMMraBJHLr0t6eFRWsEDXN3L1IgccO8nsqGz2jYi33/5J0k1gnuqSNIYCtpHjTvTjpdvLnjsqSz2daeMvF+Vdn0onoptn3tt4tc6da4bUrr6DV5Y2llv5ICoHTxnvz3YpDKuhyOkuc4NW8M9uPFpv12rq1HsywthdTfrDqwI64+Znst40ez7Xoy6Dgyt3eqt14hEB3jn9NXqyXhn0I25J5qOwVa+4STNoXCIOJY8aW4v9mLHb5Adkm1FPZVvbwQG4ubjO7TOBw7SahjvNm4jlbTvIH16T6eFSWFhaCeSEAys8mhVzyp7S8sWgcLqV1OpGHrraEtvaw67eXdBmbGvHPJxVztSW3h3crSTmQv0+HZyqLaM0Ah3vERR8SxPICvG7jZKrAOLhZ8uo78YpNoRgSrJp0AnGc0xks9zBj3Ni3Sb2dn6Bfv41cQeLIkatC2DWm52htG5j7Y5J+iforZOzI1Cxvcg6R8VaGyIk3t1c9UfEHxzVxC4/wCMjmIuSTkse+ry4j2pJbSNcvvUEanj7aS5n2sbua1BGjSo05Horam0J3RUnuiupjwKjl99PLsm/KQpl/F5hqT6eYqC80aDIuSvk3khP6vSPbw/jVs1xZ6pTGpc62549dbKgs7cR8Wlk6RPLlzq7soLo2lvaaQxRRrcn11syy8euLrSxmcSkdHA4chVzIeVrbqg9Z4/jWx7XnpZpiPVyra0r8XjCInoXFbKsQQd0xmk9Hd91M9rtZbeLsTxcNj21sa6u5dSBWiaTkNWOf21nPCrjcEssBwz46J9Rp7v4dzM8hPtxV1IL17S2hmMSpEBqOO0k0I/HJrpbSAnMhBwx4Y4CtqXJ5QqkCfea2xd/B3ghH/TzraE0W0ntWN24dRGrffUU9xtc3c1pn3PSoxqHoq9nP5SS7cv31NKhDC0tt3kfGz/AKnzVlYWbrFJdsRvSM6QKlaTa93I8nQCNpw+efZVvbj9XGq/ZUzp1oisg9hqGAcbOzAll/ecjoirrd3rWskcChCFDZXt51FbXm3WfLa1iMaDVitptKenHEixD93trxLXmcJr045Ctr3o4l7ooD6FHD76kf8AWtcOZfXWqPjHZ2+JG/ePZV5tAj31csyn93s/j4I9i2sW/u2YN83VzCYtF4j+655kea2rZyHE/jRkweZU9tNcXMgRF+2raJQ6C9mjTDDB76j2PZzC1QQ715AuWxywKs7A7Tup2up1VkkK9Xv4ClQTmK6tuKNE3TjzVts69nS7juA27k06XGO+jtDZ181vcHotJEQytjvFX1pf7ppLNdRlTgGGKuLluDzh2J7yx0/hSwjouYUTHpPP+NbC2ek5t0QHS2M9JQMUyXf/AKhdYpOgdUSDOeythbHzvFWTJz2hB+g3EkWrVcSbyQse3wQXr695ADoGeHGpp11PNMcu7nJ9VSX6ahLIoVxngaa4Vri3kfrmCUpq9dNFbJo1cWbOWJ781/Ju712/HIft45rQ0968X9E1w2mljjUKijAA7PJNtcat2SCdJ8A2idRmEe7HHgBRuw88E5GGeCUpq9dQzJvopIeTJIQT6z21c3EeoyXLanLGv5ROozbvdDjwArxs76GfGC8MmksPTS3cSsJFTR1s59J9PgMFzEskZ5g1oL3bRf0RnOmmso03ULKVwnDnUdtCMRxjAqSeN7mAyHMiwzFA/rxSXkO8idV04R8Kw9I7anaLUTPIZHLHtp72Eyq8hLMmvoEntxTXCtPbyv1zBKU1euilumNRyzE5Zj6TTzqbiHeHMixSlVY1NLbqVM2nI7BjljzSrOGyhyjocMp9Bp4JjPNr5ySSln+mliDyPp+E7ZJ9tSW8udEi6WxW4tgdOdRLHJJpJZNaSp1ZI30sKMybySYjG9lfU2KWd97HMoxvIn0tjuptwp1v15HOpm9tSXFuZV3hJKa+hk+innR7i3eTr7iUpq9dNb26btW6x7T6c0lrBndpyzRGSPSKlmhDtLL13dsmn2lFvEmk6wDdE+zzSyzRkTL1ZUOlh7aWZ1luJF6pnkL4q2nl1Zt21IM8M0k772OdBgSxPpbHdSIxn1o+sS707zPyqWYtPFMF072KQqxHpozrvJZyMb2Vy7Yp5IZLq21nLCCYqCfVU1pGrKk4IkbV0mz6aTZra9wgUDB48KiSfVpikEgAPaK3VymoA5Ug4KnvFLM7T3Lp1N/KX0+qo79tW9jTQvHh/wCw7vBJu5ndUQ+nNDO3bvPyVqWS72jJcLjOZcAJWreSiMnG9MLaPpxRneRViA1as8MUG3sojJwJDCwX6cU1xhmJX3PC5GezNJd3xlQjSsmqIrl/QKknlOEjUs3qqO/dmEMmNJ08TnlUscLlt11m09H6aY7yRo1ODIsTFPprxszJuNOrXnhig7NOsZOBI0DBfpxQIOQf2W2XY22gytMZQH6vR7662yPokrZuz5VhkmnlzKqEhGC8ccaktjsm1COhT3xy+yrHY9xaC8upl0CHPR4d57qnFxbWKQld3hJGLDPDhwrZWy+2WWON/UBxrZNiP1lzrI9C1OF68uI19prYuyM9FpRnHcoqKytQF8YlWHA4cO6hAmx7VYwukL4z2fRX8lzsIpdRYY6QHSyKEG3dnp4u3QM0R1R+0dlKkahUUYUDkB+y0e0mddEcOhV7c9/gieOYwXED64pAM4NIt7tCNYVIJFshVn9tW17aTrFc22dOtcqwPfQFzeRb5XDIqIRGPt41Y3CXEKXVsST0DoOasruK6SO9tfhaOi2efCrZ7y9jdoplfSi6V0j+NQbQZ13cMRVV7cntrclzG6sHjkHNWHbW5udpQpF8JoI8Ofb2VC1nePBLDyz0lb5XfQg2leQeLZBZIIyNftJ/9pP/xAAtEAEAAgEDAgQHAAMBAQEAAAABABEhMUFRYXGBkaHwECAwQLHB0WDh8VBwgP/aAAgBAQABPyH/AMHD+TTmieVShmtf8GYlWqtBBDjanxHXwjdFbJl+RFbG0DS74kR9Y6Ktv3EFJuiWfZWXV/C7hNK6BbK6P0KtaQ4UmLg6fD71j8v8FuydB12gjy2QjDvzKDQHcxNtOmstvbAmNs7YDbCtdrwgtfmcdf8AH1aPjRUvhDIl1YL0vX4bVkNWq2qi2YHMDrzKQUKWYc46OJZizC3keMw0Ctb56OzNzuxJYXhLlvaqBoUahTPs2/ATRHb/AAJiNZCp27eGkWyzG/YRmB4uCmRgU/naPkRxyQrpwbHzli8Orbz3+ne7y/VnYdWHRUIMF5y5Vb+kJmag2+CVqTa4WJQmYvLAlc+nEC7i7jXMxYy0nFONvGe4c4p4DI25IfBeZt/Ej+esH1+9Pvv48dYJMhYjh/wCpTdIsftDXaYDmdEYgHmVgSW93B+CGlu/FdeLmWZA4hQ7uhZh6eH0EQ1ups3FPJP3z0JXRZtapyuq/MFELf3ogwBWHRiFutYtNJTD6gAu5LO8GC0hSQ+KCUxVuDbW/wBLuVMwnhW36fq0wz/7xcvc11/EpdTURaz7Q0qnIVQ6C4bXgwb6wQwhDXFhuc+k0JPF+oIyh0P5LdHQQEeE+cOaKdruO70PSAHjoftnj1+ybYLIWM0R5RfE1/HpDzpp/pH/AIhRQksphtf0vHjx48ePHjxZ8SkXduj65dQIKtbwfCnzlLySvOoSMHebTAsaugrxYXIHqxUPVgOUHQDF4nbbrYeP+/KgVJdNr2m6F335uxjvBLtQKD57Dabah8aUhyfBRAVU1t9BYrahZNRU9C9unmJbCbrG3Pjr9NKg0HP3FzT7iI2z5JBiXViGW3EomY92WVm/aMrCkWmIESukOk5lM4auVRNARoIfV9ZgtIpN8v6islDUANSoB2dYsS0Egb3GMtAClqpIzwcl3HgAJ+0s1ham1X9h8yXhgauNg0Pc+iwSBiKnDeeg/AlQcFTO0qO+Upi0L0lc3YLHSmgRIKC+Voj85ErlrYvaIcLiaWAgAAClw2v8+wuafcRKJL1Fvl+LgFHMwvSXMus1wKxKoFIdipZ8qGhDiYQRt5K/7Cbirp2mEMEFH1dHxcy4h1NRt9YHbWAbU1+EbsvW+nXlGuVfW1n8Ihwv8qm5AC0ZZ+5khB4gMFE62cuBAsYJp48nkCvSNsfDVUZ+nSePAC2ogBo/B7DgfBudMzT6wRp8ZYMB8qL+DrSFqbl8hSCKrV3Mfyg1uVbRy9c+sx8Zro2H5QBKgaGEt4Ed/AVaf2kA2n59jXnOEpBCW6sjcAvhwh9T5GnwEbUhnPWZvhp1OvxYzKtUohdq0VY/RuafcRC2tg5IjIGs773lLllJZ38+EFBxWIa0s8MfGj6wW0phrMTyZRyxXzFK65KFO3y9OnTpr0Nal0a4VBNE6fgbebAeqYop2iIzthoU1aBd4qCaTWFO12bcYjcraUclV3wOiwF0OlOo7svCGL06WNzrbhpp5zKGcXGQaVnI2gpImUNKorGd7gtAL65Je/wA0lIS8xEidGx2PG5qcLtg/Er1Q1Tvtb5dOnTpImGxNB3YQ6MV/J+viDjwnbUsWHozG07Tj3VzVGM5GbrEOPHl1hvQu6d7Hzhi4owlkeIJ15LWuv8ApC+y+NUm7Rm+rfarBDgq+Y5zqcWNj1IEAsrLSGlWL84jqqwiA5xzcuzU7mpBW9Yl9BtQNBh40OSGzXkyVezDyYUxcy3YF00/AxtALZkbNOIdGWHUZwdITZMrHPLSMQVhoWmhUrOQRYqM34SlZGDEMyoYqNhUQo6il00zpDKYtKecY10NOfkcFvyXNIYbrwTdOCVtlkXTNsjPJLrCJaNEuZq9Z6ruuICBV96zdqsSMmAFqwcirurSvfL8sRwW/GxJ3NRM+A/UVArd50rhlIaLBdqJl78htqRKWxeAAyTQ7gaOlM/IxGl2tv0Xt+4GIchBrEPxyaxYUZRT4RDsSp2p3ju8H1QnsO6pGQjQarCKzs4BrYil2K9zTj+oIEz76sjfmQFZp+lwiBBGwfGXuSDuMj5CeMd0EBepKbO0vD/E9d+f6VjzDUJQ8Co6So8IkXpuRGSN3bAr4Ne+cEC6wn1G20a1bycGgDI4P2QF+mitGp/ZTthbxhqRpdqbigfuvCZLQvdYvyWBOBV6ZVSaS7U7I/qe88Y6TbBt5a1inwQAUd7GKUjT557FzN8TBTgGWU173NE/YdfwbprWe3P1PYn6gGhzsFaMbyqNTZfjt6/G5pCdX8b8LclJXWXWWbMP+J/q/qHSjr6PvuiaQCLpEMtpWcajlo+wD5yoox6APjEfVnIgd6nsT9RBocrDWjG8xRjYfj/t8DtIRaAycmhjuTVs9bNYi5vnYhv8WeQPUhMIuXwxfP667nCaPvurNAdTuB1PHy0pmqrzUy50mJE9Ih3WcKOIoUqSnHeADdGnSKgZAUYgVUBgW1naeeH1XSe9cJUA4BOQF1+X4DcLeOIDkjSNHeEiAo2dG/gZeMj2/cUR0rxTq+d5rE0c0N8Z/sNPg/B0hsrTDRzWmfgvoDGX6rrGIsRTOaz2HhFBWFJDNUFE5i1u1V/fweobLrv8NJ9bVN8pBSC1qDtK9m2VZtNoeQEBXUo945T2Lme08IdM12MaDjpBLrjkuafRuaSqZ0WdKmmSs+cxcuoocFQcrtCCtRocTJYwW7G15sU/ehNLx0dYPjiVuteqo0qCyZrntlVVdfnia8F3Fe0UO5PVr5VMjsuDbXnFpIAsxscaXKnaBsyuorG77YXeWOqWN6W6oVWuPl9BAedpdt7y1dlURt0ImF5mUPaHXDvKJ6dYbgbiyzxTUzXi9YRWz5rLr52KGJVN6K+gzqgJqCVDRw+ajzXehz0Er9N7gdfe30iu6ldgQ+XNqsUvxbWDJ3xflPj7xynuXM9p4fTuafcxNhraAleqVZQPrCXRDkOm81oZioGP5hUGZiShu51mJj0y4jVHj86xff0rOjiaKl6N7dfJDStol/aUE3Udf5dZQTmbXTgH29ixxwy6QIxb++Yi6/pfTuafcxN5xKk1sIdS4uXlOMegJbJfkCAfWC1FVxIWisXSzEQBvn6L5E1/1jxTaHgL4GvrOsLC1iWPxfi5cqNRtCCsomcGJRO9ZVdSVmHA22w8NT6De/jsEOssaUqNRwf27/cV9W5p9zE0zC0a9vp8SWtd4C4C6swpETR3mor50HwlIAaRKcQoOWvZBsblA68QEFBofSZVyjCteujxKjVv20g6F0v4Zvu6g9ouBSHDatK/KW8826RXfoj0dPuX4iohHi2cNMbHOr5MGGW8yjoGbxl5fW5YBxnG8Yzt4R1zn5SNltMBNL96ev005/8AFymfbpqexfyexfyexfyexfyexfyexfyexfyexfyexfyG02WyQauwfYqgKLDxfuAo0f6nFEzrMq2yF+g3J1ouE7qYEcem5oY5lTIJdiG/WZ6d+SUg9xTp18Z7lzns+uUdTlXtdvgS9F/D5k1kVWOtz0/wBDUbG/ZLKzEBwCj8TO/G4rX9wZuAtYQw2tXyTC+FUdDm+1TUu/Tyd/EYgrRF5y7v9VmKU1ZTNwQhbuz2LnPf9cBAscMXvlqAvMOP5dFYr/BLmPLCZD1NomBNDboIRa7AvRof2EKfU3k91DgIF35MK1GFKPTfmWWpamtb0uVSmK0jTUXcHDq2SlmsOJro0yl1h9N+HvPE9i5z2/X8h/gSV7wq5l673WIlWt49NoBUgC3Mp5Nwt1/ct23mHtxMguJeXBFrAt20Io8lHnV6zjlhnPzFEAoHKXTEamp9XXfRKLZbOVbWZTF46ZGCeb+Q/wACE+EAdck0EYZpW5hDHSbjL/ul4MFru7maJjFTA1A1SIzVBs5DXQq7YBUAAwEIVSGKeZi3eCBsWxtj+vxFA3VICAbDhyfWr/BgCG+DCfuELGAj+xzW9usUgGlyr1lCAwD/AGhzX36zfFynK9+8EAtRGZJQU4Vz4y9fxO/5Rv8A6S/TLTqOIzd400emADmRTJAhTa0q/wD9COC2GGdlFk11+YBbSNAN4SoMux0fqE6UBbOpZlkN6toJgvVK2+IyuvCdfmJxAaFlJ9F70oB7IZhFCVeN1DLAsRwn0FK6p1YW14fOJ5v2Rq+p8n9y5fr+NfNVwrr1PoW/v4wFsvClcWprR7R9JtaQ0dWWbEvIXr9zz03wKPWpcZ3a0v79LSoDnigjZt0oOsFcFV+bNDewsJg+AXIvIvXHaX4ioUvKDcF13s70x6ytl3D0sMdlQGQQdVFUofUHJYt4D1SDMTQmecjksPJK2prutBeka2A0CmE0ZFA3YpyewyXlTKDN6XL+NcZ9paskDfeJV44obfQKDY6zD9gY8mntUelhDvjkMWVFakG6Gr/wIrjin9VZy0gpqlg56QvxL9CxnDHAXKT8mWtHA0jxAKhFaKoM5by70dOlSmMScxBsL1dYT1YKNC0yY5JoqhQFFn5XAABagerN3iMPHbj6sccZhxbNl8pjx9pF1IZV1xRqWEIrqNN6Oq3EVLYjckXBW7UOooBftHQnhEn6xlgVDVOrRmJbdRcXw0/bpLQIkHGQwCeUtVzAf+QcsM3Bz0CJz1iW7wadRo8B/lX3IB00kY8fZGWkoguYu/jHmFvY5OSg4q3W4VBMEUbwcXrEWkGrQrVoDesy72HsMhG1rXSaTgsLwbfMajTS63/qa6ADrq9YwMdwcnXoMHeygUQVbsarUGUg7stuTR3Y0/dG2UVuXWdeW8WYnlK+kJC6hqsBJf5OtDIkKRNusXfFOBLxMzXLgnFH2VdrNO7f8eMIFdpOn/UXTYB2l6LCqEI2p8HZXgxPVDrpq8aYuB6SbMli+Z85kPTzc2F8uyac76ilHjbDWgUwjv8AUNSr1qi2e2CE0AogX/7Ge7KuaueCbndMHaZDsQzgC9skdRO8wHehhaNvJN4aJRa2gc1Dzd4lTyNhUqloZQ2l5YaaCk32v5l7ZIjk35PWUtBlyrGPoAj4DqVLaO01vwDiIVOKcrJ51x/qVobuqsnax9YBYqm1tYxtpDFtb00f15xJrfWH9PKIbbggL0uhiEAzqZyVSe8ZvFrU6BAUismQww1F60S4YIKYpYdf1BCFI64sgf6jsxoWWERuwu0sBdfL+BliptB3r/1lN7a3JjYuxFdaXw2WTrseLLhFk02zCzxhWkNRsTJZVaQYS1YDdu5OtQ7SAdgLixoy5XM8oaA1Ha8sI2yhqsvylQAnJPuBmoqqq2Kp372np2q09ufmEr6vrdHph8HKG1J3S8cy62zbh7vyWXNYpT1E+TDhUH7wLM/yXbIRAcXgvpmKEo1BzIHC08/K0twouFsYNV41GGPyLjz+zMpzFPVF6MuXrQtutO0IHLQYvnMNOzzGYHg/mes7EASa0diJ4MERqmjiGzCxO2CN+MJmBQBgPqBngp8K57H/AFAQhqCXmqq5RoFaVLCgUg71xpAqqr6AGz1+Gmid3cZon1Y7rvFrF1/sdZvpCQ8GafYkDwPoiD9ANfOCQ7Qo8ibgHGHwj16yhF8oBVWJucLrLD4Vr2XaKk/UofBlUQ248iapZzDszS/Jj2nUgTILDT/adiWNfOAiNQFAQqa6HDwI59KWL5eYIKN3rdZ0cVgx9U0UBedx3migpQecAAAGgQDA0Vg4SUgesKa0xpKwUisHCTa+BOPFaVMoIuuL7EQt2Uh59fnTSn6hXPY/6iztLX0A8SrUlSU6W7xQK4DU4vWpuliuPJlWU248iNo9Y/AuJ8C2SfTiJpLo+qeX7Mob7TBCSxoBg91nbBqwdNUdBz8iH4bsGr9B1KVAbqPTBqrREAgjonyheHYhKsfc4dPg7Vrw/lBCLolnyZvnWJbxBKLek+QBdj7jQ/8AEGr9uKiETQZYvaU0DWH5ib0Pqm8v7AAtZ2xpGfpbY6n2ZoXkdFUX4+pm+pg1Tde0eMN5qmO2uPxC/wAaFYYVWiwFDlrrFVq7RjsZkA0KHwESBbSjNaaMzzTFzu+Vxvb7FAasCrTdl6CqshxydflR8FJdiUmWAs61+mOD2SObfqV0i2ENdETSkgGLQKGYFAz1mgOruoEC+DO/oCo1JBaz4YlbWGurqopMakaYZPYnEgcD+Ga7R9wmdIbY+Uu2OUamWun3QYzgM3niV0yGB3t/icmEygGgjHVidFYOekdsy0YbYd5b84K3g1muqB06nQI8KxUe1poycQj5HN/Qum3tGbVWqm3uDh9K+Dd2yCXk/obzwG1xHlvszSSmpg407GdJuac8l4mav3st2TQDWFBnRiaBpXeVpqoVBqzREIBcKmqwVDMAkAXG/YftBLUS9jypV7EpqnTsXQeUNNox7FtJQWN784HUVCirJe8s2etO102VtY66RyS4q6tOm/8AZajC96+jkbQFh6t4e+mmGVQn7pgCRdKKZ3qIZQ1t6KLXMafSHeaFpnwjuS0jULUaEBJTUluNEOukxskGFY0Va4JZXHe8raU9GOXfUPgsCqjvFR0WKbaNmHfwg9Agti4FrHeEMOXYPC43cPePi3wms+3j6+dnP2DUfBPMWlo4u5/3lAAEVliwleT1hFd64JuzYPWXpnG2e7mk07MJEsuhd9Ua9eNnK8W8Oqw/MAM90A5tG5UNBLofSgjT4Y+Wppb72OCCroFqzgjOVSLBV1HcZlBwANyGjDGXYxkzNBlp9IFCRvhcvJjaVw9W15kKrS53LNeIRgYUM4Fh9tSLAtXvwzk5zAAFTC6yxoXCDYAXd4hDv+Kq3kqAyWstXL9GWQFP3UA9MSwwy6z2BsnlC5H0gx+Q9Y63Q/2V+k0/9VyqVy3l32Y24udXD4QZCcHyD5+sIYTqCv8AB9JEhTD62jRc7wiHDB0govVXvNMi95oENS/Cxv0uagObS86tDcsfHDJsOr8ytPyNtvFUymdHmzBp415wdJtJTlq10IHcBJABorVTOe/hUpeCdzAv6fhmKV3sRj1fBkO+jgm69T08JqpH9u8myv79Iz49mL7cwfAeK4DdhmslFF1HOCVTlszKG4NveuBaBjPNBdalMUCp1Bw1oypA42JvEwnWDZ3bQq0lINcITaptNnEtu7j1IYJB5EmnrFHldamlHC49ZtqTXpZdZe9iJ3k8/X7G+GywKv1l+C7o3Sa0tc/yMPmbHjoDiLQbTR6Kcz1XIwQR81rbJbllZUl/JW23O8oRfFlXiuIHfR9ANvleqpVC1pAADQmoDf1W9OdfOFQ04CaYaxLCEPNbd60WohaNLoOAuXYFzNRvBzLYIvziKax3/wA3qG2zL1L8NPwr91Cmc40HxXEof21wKa651jHsjtvjLQhsVujlKIuJwEmTmrCr9QNGQe5dWfrGRhax7eZrmkyxvZy10ofqBvAXYDQGxn6Rm1/PNBMN+UApEBaGNCG9TQrvlrMlzWKaZVbTsBbr5HhApOpY3Fm0J63VdNboTAiy/rCakv3raPdqLskNo1E5YigMuqPkG8za3Q2yZS1e8EfNy25b/cQlqVuEZw923vr3ii3G8Ot08e/0sPLU/BJm7L4YRxLWbzU0MpvVRlrUo+obQtOgbHNWYQQ1C7kazKXH0YC6EZKs89q0xLL6COmVVq6yhUQUI02ywTQoHQvkzCNdGAmiGRi7ptAPkOLl2RmyDrjn/wCDs2ALW1seAx7Cpk/1SijVIQu3HvEwiqWDbypcgieDlcHV6lCqkP6dZuqDAZIdw1LIF4LS3aXVNVXQLZrMSzsWsaea5HgWHR0lf109eEqUR/2KuVeqXAqkIsCxNE/xbXZQuhZhmtfX4KOW/vZRyBPUlKUBpCVpPKUR2q+BjyhEN5QAKY477RHrz5/tKlD1o7Su38zOtRuar9Llt51Gy/zFUhuAO8ONA7SgfYYFKqUtvStku0xcfryxnyIaTAdA0A4/xZXF1Vo1vyNfDyuCICbjvGkFLiOi3B2i3UGBCkGsFDpcg7ildfSZPu0OC8Xe0EUjlasHMH9irhrR1AM2uXSsb3qFS+l1+RqdpPAUg41YRP3NdxH8LecNVQvzSjVtwq2CijtAoo/+R//aAAwDAQACAAMAAAAQkkkkEkkkkkkkkgAAH0kkkkkkkkkkkkkkkkkkkkkkkkkkkkkkkkkkVtFokkkkkkkgkNmckkkkkkkkkkkkkkkkkkkkkkkkkkkkkkkkkkHxbOUkkkkkklXL30EkkkkkkkkkkkkkkkkkkkkkkkkkkkkkkkkkOM1DCkkkkkAl0JrEkkkkkkkkkkkkkkkkkkkkkkkkkkkkkkkkkB2jwBokkkkAkkn1kEgkEkkkkkkkkkkkkkkkkkkkkkkkkkkkkkkQKKlefkkkAkkkgUAkkgEkkkkkkkkkkkkkkkkkkgAAACkkkkkkkiZU1BgEkgkkkjEEgEEkgAkkkkkkgEkkkkkkkkkySSSVkkkkkkkgCEawHUkkkkkhPaZzEkkEkkkkDEO75kkkkkkkkySSSVkkkkkkkEqJGR9kkkkkkkavYeEkkkkDkYhP7eqYATSkkkkySSSVkkkkkkkVkrTuukkgkkAiNiSFQkkgkBX8YVaYQWOLaUkEkyNbVVkEkAkEkAqieJvkkkkkkW9xi1skkkkUlS71mQlrDoqgNUkyCoTVtEkAEEkmTOiARkkkkkkFDHnBskkkEEDF1cCSvYbg6kkkky7ZhVkkkggkkmikPZlkkgkkkAkkEnkkkAkkkkmgAEkAiCAkkkkySSSVkkkkkkkiMm/xykkgkkkgkAkkkkkkkkkkkkkkkkE2EkkkkySSSVkkkkkkkiUXnHskkkkAkEnD0EkkgkkkkkkkkkkkgEkkkkkySSSVkkkkkkkjtFT28kkkkAkNjKEkkgkkkkkkkkkkkkkkkkkkgbbbbfkkkkkkkm2qEFekkkkkElWRnEkgkkkkkkkkkkkkkkkkkkkkkkkkkkkkkkkDjfTUnkkkkkkEWbjEkkkkkkkkkkkkkkkkkkkkkkkkkkkkkkkkk9Dw06YCkkkkkESckkkkkkkkkkkkkkkkkkkkkkkkkkkkkkkkkkiqXRyI6w0kkkkEnAkEkkkkkkkkkkkkkkkkkkkkkkkkkkkkkkkkhDMU6RCjskkkkkgEkkkkkkkkkkkkkkkkkkkkkkkkkkkkkkkkkkD0JbiIotIkkkkkkkkkkkkkkkkkkkkkkkkkkkkkkkkkkkkkkkkkkkkkkkkkkkkkkkkkkkkkkkkkkkkkkkkkkkkkkkkkkkkkkkkkkkkkkkkkkkkkkkkkkkkkkkkkkkkkkkkkkkkkkkkkkkkkkkkkkkkkkkkkkkkkkkkkkkkkkkkkkkkkkkkkkkkkkkkkkkkkkkkkkkkkkkkkgkkkEkkkkkkEkkkkEkkkgAkkkgkkkkkEkkkkgAkkkkkkkkkkkkgEAAEkkkkkgEEggAkkkkgAAAEAgkEgkAgkkkgEkkkkkkkkkkkkggAkkkkkkkkAggAAkkkkEAAgAkAkEkkkAgkkggkAkEkkkkkkkkkkkEgkkkkkgEgEgkkkkkggEkEgAEkEggAEkkkEggEkkkkkkkkkgkkkEkkkAkkgkEkgEkEkkkkkkkkkkkkkkkkkEEkkAEkkkkkkkkkgkkkEkgkgEAgkggkgkkkkkkAAkkgAgEkkkggkgkAAgkkkkkkkgAEkEEkkAkgEgAgEAAEkkkkkgkEEgEgkkkkggAkEggkkkkkkkkggkgkEkkAkEAggggEgEkkkkkkEEgAkgkkkkgkEAkgkEkkkkkkkkkkkkkkkkkkkkkkkkkkkkkkkkkkkkkkkkkkkkkkkkkkkkkkkkkkkkkkkkkkgkkAEAEgkkkkkkkkkkkkkkkkkkkkkkkkkkkkkkkkkkkkkkkkkkgEAEAkkAkkkkkkkkkkkkkkkkkkkkkkkkkkkkkkkkkkkkkkkkkkkgEgEAgAkkkkkkkkkkkkkkkkkkkkkkkkkkkkkkkkkkkkkkkkkkkkkkkkkkkkkkkkkkkkkkkkkkkkkkkkkkkkkkkkk/8QALBEBAAICAAMHBAMAAwAAAAAAAQARITFBUWEQMEBxobHwYIHB0SBQkaDh8f/aAAgBAwEBPxD+hWiVX0MBcE0JNuqUcwAiddXEVPhFAtiEsl4ObNGavoV3RMlWZVwQbmFI4QalrTMYvZ4BQxA8gR5kcAxAB4RjXAxCecYR+hasxlcvzHmOokUOZ1YD4UXjrv7Q8uw24KvlXtFF+f6mvkPoYG4IRBUoHZhZXoisTxmS4NeJGVeA2zOc4llMqgQUPoUZucqN2chHagymGdwk4RPKZQ7mIOP0UAAA9zv3mpUzAHMCUsVjkZy05BOlAM1GAd8tF/3m/wABBKGXRowskNcIm5Ys0RumFyWKjPfbIO0qCsqSRXA2TZmKjp7yjXglQeEdkAWy5VRLrcdQ1L0hlXid/fquwER0kJI5RGTeIG1cTgoaUlGkQC0d8AopV5fmFYlzHd8/eYnpP1LyYtvl7wWh0jsd2oFvaNq4RlSKwz1kwY6K8/zHj85gqVq4vsxRbg1MMd1NzymJXL9/wSyq2Yoq/wBRLHGeXH9c4hQtiKhT4Lf3403M9DCZVMFRLZjEm8RGK4KXAoLvWccIK1jjj/IMQ44+3xguvj5UTB1MVaf/AGbvLBFUeZNBZtX8MxWe6AWx6yNGSIzOHjmEI3BKcoeY2m7a+fiKuK1+ZvfzX4jehG8er/cwyeZfz/IOJvD5/sCIwrF18ZZhqFcL4NxUmp71jHrHFrtCpK6okyIWhN3hdBBmrbcNclXHCClGFSzf2iBtSmVLrONwVyHBVnWdUffl3OKBljtQjFvZHCOMWWa7GrTHZv8AAV3BiK5l2ApM1RCka3ZKA702iVxDk9f1AHUxZhfyzgl45SCypRYfME1d1cHaFD1lo5J7rNvNGAOcFKFqc5iY411h2qUb8v8AuWTzv8SpNXn+JSmoUW3RyOktmCNLmuWEg5P4npvcip1V8eLNj5XzY+R5duZmNwv+FXdJAk/WnoWNZ5Sjrbj9wFBy7N8zMxGF94qDAtgrsMoUCrIrbhqupdEi1cO+1dldlZucESyuyqIFE72pV5vYAajDbnOCJcMQBXYKIbfOcbBmkNeYe3YHMiXd4OmNT1D2J6b3J8NzRMVZwZvP7i0G3CxWOu/t3R3UBeDEJxEriOpxqXnBwl+nXZv8AQgE3E2uYNwpwUuktwTLfCKy74UB3CWV4IX3NidvqHsT03uT4Lm8Jv8AAEIFBAkdqYhzHiIWIkAcItJd/wBqLtFpywRqaK2xxQEDY+8+E3+AICZNEQLgIUwYxKUQ1F3N54EF7ED92NAjp5hcpVoYPvL1AXkFGefl/b7/AAA1GywUQKmUCsQAjsV0Yqre+u1IFuqPOA1t1Bynnr0jwoGxqw5bzCCIkANqHdRm7QqgxzIj9SCqDjshxu+hc2boqGwApgUqmcZMax5zOnDNt29MFHTP9Z1p1p1p1p1p1p1p1p1oit8C4HDsQY5lEuyIyhNold/6NNr45Opw+0+V0T2sKOBFg78589zZ6Z7v0NSm464kC/C7Fqb9zM1hNYSo7JK75tKSzzjwWg/6T4XRPawabILSzFrePvCNrQvq8fP6FqZOKOK15TkFgSgixtUoTZlEvbLJjicGCu++W5z5XRPY/QxqAAq2WK4wEZRT4QblkqJmLCJWJd2Cx3zXCS/ZgVJRV7wBKI1FKc/fR9/oYF+UbXADA0oAIEcMTTMzmBUKlQthhHCX4QYr+lEQIHpqLcMwGIdpivYQZULRYqnkluUEcIhqpvKwQ/8AKT//xAAsEQEAAgEBBgUEAwEBAAAAAAABABEhMRBBUWFxsTBAkaHhYIHB8FDR8SCg/9oACAECAQE/EP4Gk4mOw3er4/QygWwbLFqFyxVsx2CM0tMEWeSrYMNqo6sEmkROZGwTC55Cvee7O896+haFxhVxFzhqjM4ERvQ0oHvfaE1dPkLSFFvC9LmVbojVUhVFa1xzrviP8GVRwAF+zjriMEXnWjg4xNLewdBg6Rkm3Y3gc3wqNtdgfoatBUkQZiGkccRQlsBHQmZbzhM+M6i3U4WuEFkBu55NYbIQJfAbj0ibZHRZTrifqOGGiq+99CqiZwSrLSCRRbKswLmGwgAdJCE+QBao/MRqVQibxTf+TW7QnUmbPVyLbaNCIHYrJ1+hVRGaJvjLeH1hKqyxcoJDuWAyGKghluvoHq+nzOr6fM6vp8zq+nzOr6fM6vp8zq+nzOr6fM6vp8wloPkLCuMJm5VrMlsRVsGwbyKWwc9rxlov+c7/ALvj6dgsqXQLDGWYzMOqTWiXwIx1Ut8boeLrSiVC2UJI4G8w3zB6d4q8kzrdrraY9I6kQGyqppHSGkvRDKvM9/3fHF7VxBuYzViOVYxMQBbhr7ARcDXxllFI8oy5HUWz+6zAtKlSotXp3janSOw8M4pNxlmmHYqo0CuDZnniDdYBOU0EhHvtQSxXWPF1ixUqQ73sxE5GpgXrFkuPJ0/4UZiEpoEUC2Denku/7vjpZBTUqVqGKAY47Y1G1sM02Q3VSiT4qIk1TiFFDpGzMTF0lQe//ZquGCKxxZmihrXFZ8LgYhLo0tpzE/MEXujqzncc5RUM8XNXaAGqyuKunEhMXf05pUY43FohvDilat3Q+GbPC7WzlmKckVccPzLoNnM4N2fzDGOK/wB9IrU3YhRGBYsBgNGoFZYai4knGXuu6xKI6IY9ImwKUu4FBaEUBr9zwQsKC2Z5r4PxGE7CyMNppzYENkLXIcwLhYtt09avZ3/d8hvosAm472VYDVzHcMuYEWSKx4osqEJDlf3dAFWwPRm5LE4IlkCr/eE0/CL+1XmLauwo1UL9mGOtVfCy+9xBT9rT23vFcHGClCxKKTRK7qUbSxXfcsmg6/iWlJZDf+oK+3Ow7k0QkIaaR/Sew22cJZwglxH/ABbWWOEj1cGo7p6r9n5nNjl99PaXBpq6XCRxP9RUWr+Ozv8AuwSWcIJEeIbI4xMogpxiESomDHoRYJfCHUVM43+NpQlbApuO6JZWyqGYnxWsuuOR+NhgRBRbocDlHZtJcm3HvGa7ChRsCib37xlao6TRsZeu1z3k7DuT2Z2gK3qqKjcqvCKIXqQw3iXl0jQFoplnu7um6CzW1/dhgHM8Q0nWMvatnf8Ad8g6SwrpKWERg8YBrs1tsp0MuUp3wRHjCivATyT4LZNvvJ2HeezO3lO/7vkHSWVi2WLgvxQSvdDTmG1bF2wRCM0lfyhaYYVA5d57E7eU7/u+QWjYSqBxmIyIdbmIZJYzNAShUIB4+RRBwZdO3MvrbbHBy6fy/f8Ad8glkJMlyPGW4xDiBMgliGL84lRIAo8bVRl47l1Mhpm3eWNdbwOJQrK5V3FogTysVFNgprT5gF3v+M5ecvOXnLzl5y85ecvOXlQKPIMuF1iiYQYlzO6EixAO5lZckCL8b2cVN9KVP2ddiEtNJq9We8/r6GtvUTEAMwjgl8N8zFYIVrXEbVdnQl/jM9JmkUDP2ddiq4dRqMku8/QrqF18biAb31COuNJeiolXJFUxGCoSnWU0ZaqQEvfCEvxfbs/Z1+h0QtghrSUgcEMDfKHBJrxDfQMIDrFTRGu1pssqDcd0hiyX4jA7yGtYhIYNfoagSxFLo4zle47OWIK4S3whKCtbEUMkFJUzBGdkE06/ShGmC16uBti9CVk2MUszmPSPG+kW3vSA7/pMifeISpp/mVhG4rxleMKNkCv/AFJ//8QALRABAQACAgIBAgYBBQEBAQAAAREAITFBUWFxIIEQMJGhsfBAUGDB0eHxcID/2gAIAQEAAT8Q/IuL/hLuZcuVy5XF81Pmwy9cZFZN7ijQvHj/AGKswV50YHteMAJ107+4FfYPPWB4Jlr2JH1vCbq2lD5pf0MPdFFNfah/UzRV2gB+4fqmAcWhp9zKf4DziQQF4HvDNvU6VSQ2wHRm55MIlUQSj2Y/ZhBcqym/m5v/AENv9ikVmLMECQcyrt/bCi/QpjpgL7r3xOMghkeMef2MAT46KefGX2+i7XNwkB6DCQM2Urbyc7zYkzOxta2Pnk844O1uz8jt9rZe+cHX5g7XCkhOZyftm9ENHuSBp5Nfv+Aj9BcSEGwblsycjgLRRR4H3iJAjpgLJ27fGa9KDEHQKESvGH2rHAtQQIls1lk1JxWhNIXVZnNwUFprNriRqvi2oynCfhd1iqNicn+wmA1mMguYHAl00IQ87bjGgj4+P+M0crY875x8JhaXWMW2nVwttmoMHC+FGeDHEzYstNN9YBTo/RpIOzNIZAYNXD07D570P5QjSEDHSv3IHi8YTZo6oSlSJwBnTZh8maB/eceMrVuXQnTWkrcUgCPImNFuIaCtLU6wmqRCalXU8Z10MmaCVhZoXq/gDXAPpLZQ0+zB+C4agCvv/V14DCFShf3u5923LAlargeETk/2BN3BebRPYKe8JWEfbELNqpeDWbWU206xGWVt9ZBezbdGLqcBrX9x38GJSQ8zp9gxDz41o/fLCb4QQwQZYAgPPh+5j0cieHs/I5HsyC9B5XoNuVxP0w/foPkP6jFp21XyTvsKv0Mv4I+QQDbkUnnQBB273cLVd2HQemLvIfDgARzMNFxXQCEb0jsfoMAEdI95tmo7nLbLfKvNywaT7B6AXw+AcQBGj/rrke6H5kgvyyea8YgFCWuBsv2jjxz9iP8AGFUjrkfPOBhpAF2+U/pgNoi2uVReW4wiPP8A141zo2fgzTE7c3Z2zIhnatnwnNr/AMYKOg7H6lAywakE9g8XvfLyzp8xnp4B72u1gT6piYGTEwPqGUEQDwjpxRMeVM8bPsXDTcVZPjaPhvkMG/6GdZHB+AZ8xwQv5MWLFixYsWLFmCGZcC6wSdfnPGHHl2ZDVfDn/HBWDrlOMlwkTrif/MGvJeEv/mHoTgp6w1QMPufwfzhFHl0fpi50qMPBzjUqhN8j/wDMkKPXPGEWTYVmL29bdVzgb9DlNwaPoKb++UV7xsn1x+z8nBY/AQHQGj69l7zVh4xXn8FmB0VQSmmP7/hKRhVVBj4Yj9zFnOXWCPH08XzzT3vv3l9HekfD1/UwbnKGJBOlITgomzh/LqXurGOYdzLrLi4OUymUyn5/9t4zg+P8gCGLGCednrj98baAtLhA3BucYCiUKVfhw6ahXnjFodq8/wBMIC6GivrT1leHICN175y8RJAfbAbUSAMWh4kJ49Gp0SgPx/1nD6T8j+58OGwe3YDguqwzWD/yIVe3R7WGBkZQaUoUZo8YcOgBAE+REwRSOAAEoLvZkmJSxgnNlWiQ37in/eQJgaw4j3D4fWAICOkcXhEVY0SCN7wIT8H6vTGzRvpFrVrXkn4EiGvdoTvQAdpsnOBlo4F2ssPsP6YhYk5IUvyCffFxxClAHyqB84wwxGE61ioESKqiq5Ji0Yq0p4qYXIsKJQP3294cfhcplPyv7bxnB8f5AE3WTEa1XX2MrabVHGhIJdYQCRSDkfNQB4f7MgKl1rc5uIqkEE+E/UjjxgYvYnBBARG6eMH1tNhZ6U1hCnd3wvH/ABjoqQUexg8im78ZQ09DoAAePKzVfv8AmrMcSyLVhL+v8ORqgq0azwcJ41gXQVcTXeCOju4SGzrIK39sgNFpRq/IYsuepI+f2P0HCSo9EFm/MceYq7uFcujil1HTciLvjG73rVJT2q38pzXitEoKuiqH3xwRAROzHjFV4IgIsF6OY+saMgDdjcCP3MSY+IFQoaKrxmnyP4YRd7Rs0bdEj9jVzomVbqP2fsYBsReAsAOgdtz2x2wBBA0x839jGokvBuFNjgxq+8276Kjv92J8vjWM/wAhVh0HAFrODtwUMVg7EPLBfs4xZXppOlmxS8Z1tzvHnnBEkESalHC4DCerJSQt1E9XjOAuwhubXWBWOifATnD6/wC28ZwfH+QBNCgPCET9M8jqQ2/uIwk1v1gVWg3Ix0S69RMZcoct4WjRdD+pj1ocbV+rjrBwdeO/3yYeK8byBU+TKwhu+7/79Lh6OyvjShRnVfpo0aNGBWTpA7YzzTnJ0M2ae7E+zAGrEULEQp8OMnITqQiLpTWVoQwGU1IdIQMy0TURUiaAgjYuoFHYqiPU3VUUhIYDCEOSWAVBm3NuhBV1a4rDNA+R0mxIiBp5Whmw+E0ARotFbXLZAqbRlHRxFjqKjT0wdkZSQpSaIuKGgvSVVH3BfeaJLe0FI1cbv00aNGjvt9o0IIFWO+Fx43KMc6p/k/DDj8JKrQbQaFLz5zUNP1NxC7F982PVJEVaKhIhsyX+Ut/4lMkobVAqGzWcEe8ZLkELRVdOGbwJKGFluyF4tesRE+XUYDHJsFx1ixMB2UIkow4HApUCTaBocRbDQy4ggGoBVioTuQRwUFqJoAOxXukNeEOSGyUIgN11eNZHdzJ3zygFrfJtEJHQJBgLzNlnottoxAms8v1KbxWyvxHJYQQnk++KMw5mxjg9XzjTDoFbxdDf9cKvJUpgLBoNuFxENStCpK9TvEc6P5JeDJ4wWdrwJUAV3Oc0ebLio+xVxXxSEEiFaEvh8OHH4oRAAqvX4/23jOD4zXQCzi7BAlhW4eoveMTcNmJNb5MLLVofK4sR7enqZI+JFNwidBaU2YxpFKx5DTgCabiG1IQA2rmqxA39lnoBwcjfpAoRADavX48isoCAA9m+Ba8LeeEjd4OGUnRN5bKNoeos7N43jpqDgKb6sqhy4ctFWAVgYO3jYcpiunjRuUhpyhub+jhg7S31ldKxD8YiCbOnFEuCffJlJf01TnN6CkNuv/mEAF8ZZCVL7zckjT1cWxqS8XxlDnWlW4Qu9K/f/wA/NKa0SFSBXjbmjgCekiuxhb1gVYjewV9fzwVfZD0td8fuesNcsGG2A+ab2TAC8ThbgndX3zB7lgok0cFdGY0ELx0Tjgg6wKAv64MYfFnGUJUX6P5amX0PiVHV11hntCC+sJWsT8gwjfkE46cYkf6E6pNTdc/sfH8GAlw5gGljRQe2eskAxrJtE98ZtJKu6Yfunw4Grlt0pB6quLveGrwIdsDnZp7nWTGhdxrC8n8jLRII54XuD7uHl6kK6M7Fvsc0XoHgJfy2fhpqJGkqtQVV2+XNmucmC0jlD75S44eEF/AX4T2saO+wzt2lUEV7c/c8dTCicjT4cbsl+DjhPoEWbC6NE3XPSQj3ovrq+EPw/tvGcHxgcKBGflcmqej4e9mK8UPGcdaqELgvri5yNtPLt2rvNKGFOIL8j7qOFvAbR6BtKSnS5okOTd9M9h6h9Z61CAa/j8QNof4QOFNe/wAI5Z6hF2wujRN7z0kAd6L6avYh+BUKdwGrSiaW7eNsmHl1aakAuk+6VZAlRonkjh+LHd2FPGnJkgNPuiU1d963yYTC9cIGzBDY8C7PpM8mnYJrvYY6NaOJvxjIAOE5c0gxW/ObRfdwZugOdt/bDgmLp3zj+VCFWGzPNbS0ADv9s0gqNVPWg+c3wrldmn8383mwXDgFhztztBhhKH2/ewMPbSLoJD96/THOZkGAbPrFsCuTQP4wIYc4eiruHx/AwbtZiSuafX1jTu2NyjGKphqkOcF39Dkyr4/BxgaAPJcmsd2Yx5ADa7XbiWq0IAGLOHmP4OgHMO7EiZLsAeAIGa/3UJV0dSVY8ZvAUNTaez3nGyiIl9aUCetv1MZ8BBVb1hSjqNjE33oPt+BBu3nMiq3h44+jyKqUdoMHCG1g785sg2j+KvKd4fX/AG3jOD4xaDaw3sPHCj8MBsTLyyCKwNB0eNrlh8CjEUOyRgOsdmKyDV6CikvUxhWi7TMgKiRdczFfFxB3rgIRdPWIXQHWl+Bc7Xrv6wJQMCVTPKdWXAyGUT3DZoPmveGlKUWFo9AL6XBH6jfyxAfMMUiUYhZB253AfaUCJPXaAYg7zgRDsYA77lH6J3cVcdVPwhdetn3ynkUHpwnqU6Xt/wCsUe0c+ldYSVliey4D1ngyT/3FJbpDsHN8RARTfjzxhxfLMroGj9HnAhgJ8/V2BZZ9fDBiF1BHR+n0z8eULUokl1d4YjQB9SNWRWk6XFN+WBtwjNk+vBPQQgcDR3fpCfiGV5T1CILvwGdMTJkyYAAABNoKgvgr+rkyZuZKm7BnsV9sJ1j9LnXV3+R/beM4Pj/JA1oLpB8Ob03Joj4+dfOEBp8EE/n++MVgmxGtCfrlchBuD4f0wh2F44T+uRCNEv6/xhiclD+5LHnBgwZpGXnjBKxwzn/zv9cCfUNr5MHMvHoFeMNv9rT8nX9T4ZwnNMfGuH1z9VMplPOUymU85TL9expdyaw8A2rQC4C2oIgnC8iB3tdr/iOOaSnjGmmAHepI6RxDHFhchGIAR5H8Im8E6+v+28ZwfH+SBYIgBKrAzUBSUKOfblwQxTJp63rGxnA5J9+T3iSrQKnxrgXc6650hQwlT/zI6Wj/AOYbNkPe8iQaftnANdedv5Ezp8IQ9W0fC+EwbEWhz97fkcE6SEA8iaTBv4C/ii6dYJBPY4fGjQ6aPUwaPKIBAqWbde8mBjB1BQm3N5wcOfqTVlDqjQe06D/jGHQ9e3F7eHsegMP8aYYS4GTJkPr/ALbxnB8f5IE26sfIkcqizrtCL7hkSkUHj1hLohu/34xN0wFT5DhNtMGPm4Od18q/ybO+jE41+NyDqza5wly1FfSdPsuC2PANB+UB5wQlETwaoFeUXm8ZcoQ0+WTR03Zrk31jkWTt2NRt70Y8O6EgqiPMcoNnvjlPg6PnDQhVPc7jTl7DxnX1JdQ2BrjTh2DnajrJNHhwlLxqgENuh2ayIuql02mvLfJrWRGjbeZSlXG9fT41biP+V4A5cKOCdi59Rz4adn/REbHJK+Yxj+ViCCCCCCCCwHlYMOBqL7f4HDJBq9UQhfWh+jk9gtb5CD3sd5SmxULvziK2Z/GnBQCnCYto5gIRBeWHBjQQ7QI5ZCmw7S8bF5wPQA671fvmjOfH5iD+A8YM6BbvJeb6eX2/Av8AucyB2l2i1C7A6/DW8aOfocHgYJHLv7BI4Gu2QJ/ryzAsCM9t4HeASvaBVUfaXPeB8QiW8S9SiTz98QT9oRAxZeAIDhavZJTwB5dfLjQJDwam1hpQb3ld8pEAkYBLG74wzBvrGYwipMMx+z82usqrGekEdPXGAMQOONK/K/hf/f5iwDQeEcSyMQyBQdwD7YCJ6EkCNPrDn/YbHLm2i46cANHlc4Ibqy8HRMu2Of1J1tR5xq9BLMiQedL5Mr0G5QEhdjra03p6lX0CIBKCnk3vXrQArsOgNQDuffKOPBE3OsIK50tiGh2T0WHGyY8qccYYuA8ucoWotMKKkaT8x8MM/pPL8L/7v8NPw5f7CgLAkpYAHKqH3w8EzergbNXviutPeHXCY1b5fO3744IiMAS84LDvI2tg26v3XEt2l0nBgLSKIxc22VwYpVTjnEFNIMlCSLEtJvG/k4UJpA7h5ftwOECd+essJVZrFdqMZ5GR3r/wCr0C9Y8V9vP/ACe/y3HWTfrbRIVBh9sflEVmZFB4TrNVPoSk0haTgcuuMX1nWfD/AGExkxAEkfJS77MK8S8hueu8DQRfQf8ARmmUGHmNHysnvFVNQFtK3mQfEwIm+HrvAzSnijj4FuAd+8IYl5c1AjEzQRLIdBfOTJWIEQA8BikFpQyhSdj3m0yJtugDBVqCJTT8+njwrnFBMbfT5PWF6Gt6/sawb+XMmRgT/Ys13YUtSKe32xKmUPUbvBR03s4rzEAhzQ4NBHErQSCHr233zhpYJgs9px4fvgN1LqceFEH/AN5TQ7rpaL0bR2mEBUP77zflGm/X75FLP795HRKB1m+eh1fJTvEQRWr/APeALAJH+3H+sC3PJvCeCgfeTr/+hEIgAVXgzXhBZjQIysvkfqdVp8GqnoAXLcHIgqF6RH8wJiyPQc4aV7GCezBeXN0xU40uX8bp0HSSj5KXx9VHWmoRV3ETWtfkosae2cKj3JgPm1adjIHthhV+HlBRE5PyGvPtvRD0K/XsA2ddD1ghXyfQOhNRQ40dvfxPx3rKA6VXixJ7/IBil3DyfYHA4mnQomAm1yYSVEq4T2BD5wW+lhd8Gvb/ACSthfeFMfuhmoSnlAuBKJCdOQfCOAkWoNQhgAqPgGFFow2EN1jIbNXAmXxExXUGCZtmjCoiMCOnzvF0DqCX+tk++ToKeNCc0FHNXd4xFjPwkAaEta75/MVG8jIOv3EZFyxCO7yPcFMcjRDlqHnFlmrKY8pacUgLAN03j4Vy5DT44opAeOSsU/i7WoKKtcYz4VK5CIhGDwK2BN1AaXvinpwTiKlGyoOJrAWz34x9xAXgrFUf5PNUoC6nnwnEIMSR4PzSisqC1VdT1+R7myapT3DIJM0cUHrKptEveDbGvkSUek5E2OACQbY0DE2GbdYGNBTCUDdK/wDZyy6gqFqRoQUG6y1wd0SpdaFJYunJLI5PvcGwOqb5L0WH9wPflrjncUpVdK1pxI3eeNTF5c7FKgUBsOfW0qrMh9Ki+wpyyfVeDLpN2FvgnPBX9XPugkYanhWFyWYJMCoEASKAtuJewdyFKN8x8iwVYtl1avMeHmkKdIzka1QebDnycfCw4odpDVHiqXDx+ET2ClUB2b+MN+4d5dqnSgDj3PwQbSjCJAaY7PUzci1T4YlRALZoTB+NHZKZI9JJR5RaMNdweQy8HXGAoKApoi4IGGmPGiTpEPkuz1dWH0v1gYxRT+jvocEXQ0jqpPLS+8SMhh3UgTYtnZgCSQN5MKLxChBrm0WYp5rhAApsaxEbvkQxsAYmkAJ5oxKxTZDhich+d0aUWCAmqgZ54nugOuIBUTtD0jx3dCVCEy0mhsWCFBuFm1rlSHWBPbv/AAjbJ2Tf7NjDjDfyRKT0B+zns3OX6w1Pcymdze6Xa6A5gYuwKoJoVIlWTWbbo3i0uhVnrwuRf2I63NF4DsKs1aYoRz0vAQetfa/sig1A9ifmRBSlMLfDY9Uw4BAAACBzislacliO51zs84HUJolkxQlHo5WqO2cWl1HdN7MAKr4ayp2YnlyOWdOkUmpKEeDTlxEpPLcyoAcAq84d44ELpJR47QxbcDlTfkCprF1RbbJSEoWJSB3glRPjbxGtInqT8iTHqF3anctyzaepDUtFBzuU51P0rDIQoOybb8paQ6MwEXEYBeb8OSfg12u42ASLWbggl2KJqKeSP7Msarg32E9Vfdm5cnVj5p7Tk9ZRIRQ05DwRpzuMBUwkMNahrsHge8UhQzF5MlBDkDNsBBoOBTNoNs/lsw296dKQotVI9YiLy7ZsFAF0KR4yAw49yE9NfznKUN0vQfcPyOQm77pOvacCbUPBcQ/SIZEgKXQDc0aFZKMXcGLxdc4QnEy0kSRw1cEgi6ONO1AoervOPAAySX7GKEP3hp+9U9BiZ/K4hL9Ci4G0sqCbnWq+hwnAYitsHcrl6qYj0g5IQDVsiafWLwTglM0eYDHZp19S/NEgUGPA3+rkz+h+uPKVeoD+BwvkPOSCsI/zdL8TxjWA8MPtRfk2ZoT1LjFAsNPVdlhHQLcnnLsHTcyDQj0YvRkq3kbkxENGMyIaBpsU2W5zBBiCif43Hx5/wxUJRQOJmHk3nCQdpJUWjmc4ZAoVjgASnnJjDQDhXb3ehluCbgGsAu/OfvUo0ARwYqRI/EUCuzeDzKWvkAS7d4e7g4BoAOD8w4W1O2S6GWHHg/A0bM5RGQW5HcuBgESAaniYIWx5fQlXvW8HC86HxBPQ3+FZpblmsSt9uLXWv5bSLt5wkYsJL86/ywLSwUPMQRw0PpVFrAA2r+SmJqRL0BmcHEiPwAYKH4EfwrTjlXp48oDDWIOhyQ0aNL0YpYEurzYtdzJR10TeQRwoklAte4BkZ6a92lSk9OBMeGzvSnY8PeEnqEWSRjprnO3X7N5kMyZrjfCAaDGv+riLWABXecwpJ3bQq27bzk+QRowhx6e8/wCBL6TTSalywP8Ace1iXY7cIo0KTwIUwYLQEA8Bi8Pi3SKNImkcjEN4KxkTrWsaUQ2qRRpE0jgQpROrzE+xJmzHty3LALrEiUpwvKk2fn6yGQjQDLoZYcePwNJRvVaeLTZ0MzgysEUiLBxbMpt/Ft6TGzqzbmxpmxZ3BLgZNUA34Azbitv+QM46zdeJeQ1o1o4nBjwjqxOXAp5d/wCGUKURV8XHaJEy/AOcGupjKnwDgtNBongUGP0P4Dop6hCQnf5EuThp+GcOnOIHjB8rgwWqKJ5H6d8BZbErPnDOAgIGFb3sT8AyvgNv6jOCABt8Jr6H4wSIJwO19HjFukEYClKcUfoOtuC7cQFVj/oagVYGVheP+YuDCEp4DK/WBomFDhE+31HwEZtALUBU7wzHXA6iKqbjNb4w5GMM5LTku/8ADff4yJouyB8YVZIr4RlQaXYmt4xYNffYlZe0by5XJOAI6HFNhaSOnRhULNkOCK9Rt7Q3ioaRCdhFcyWfDgRmCpptgPCGh+4ueRmmPkWfh9Y0j5hAgClQD57y4nplMagP0NP0pzYSAFV/TJyjYCGZ72nyuS11PGHXrUfTj/RSwCFRATnn9UQuSY50Br5KfO8moGpIyPHiQAVYOCpee1gYdqgozlrHDN0bqqkSwhrb9rw02GG95kpsKOMrfvXwAfxito7oAM+0JPldyL4L1V7lUnpDXvFcdmCy7aabviSLgLBTGcdUMEtIXCkj/wBAfSMltgKhfAiksTCrsEeT+TF0tqsvaMEAG8nR+DgJkh0JVRE22GLjEK0KKrkQzfrBSZkpU3AhVFgutXXfJ5texzcDP1jFdnYfcNNqCI0/KUHRijgFyqh995rA9KJS1CbOw8YrtBhGQTp3E84WHoU79dtK0yqbxUa8jtNF7QPvcZREUhKTAwUnNCxc7P4tW4oeIoZNCyb4RB2V5SeUB9yALHbHsnlTm0UEafgjDrIohWdsdG4Uap5R0SfrNA80xmqCjagdPjHxpMj6zgJUkhqLtY9AEfA0vcxVIe7oBeOwjZ8ZupPfcNnwK+GgqmcsUmjV9fk7M6sqkFoQiE49mGKRgY+5d/lwMGXn3o7pGwiw0GFcvIwYvGwLgO2GAGYYZQXkg05ZDg6JpIBOlcNSjgOXTnfFyuFb7UvcbLbgP1heXM2UDlfQKX1RgFiA3SDwE2Dg4dEZQIbYC7/NeWCAA6qAAjB0foYFF/KcwEhtF/HRp+kQIRsUTUnbFvuCaC6GUpoLkCDT/A5JDgSXxQ0ht9YCKfJ/cG/rgavClQIak/UGBzgVQfQuSa7Wi7xsortNvsavA4DlSflBQSijTA4JrvGGNBuxrKUojIsKQZ2oJoMobDxAK/pKR55duPekCo5JeUpHsT6VcNIFdf7gxefzcSgA28AZQssHlaRE2ub6ySDp2J0AcNHhbYNyvUbKXnYXnyxy49P+eIPhPGWklk9Ffqs++WWjjZADoVa7Xzm+c7ibwlVTwnyN1TFACaqp4JZmjo+MaGlhnAD4y+KhgB5vjOMHLhQcGhv68IqSw/dM34FvlfOPt9Qm6fWwCcnVVI92BQpQs2KK30JE9gAQP733ZGyrrmuB6ovuY53twqQF4IDjXzhDMA7TXIEQp+7H1NnAIn2VM9srF9lBbbuCvZ6/KLNWaKV9k04andECddxEE2WzTzivrQCKYX2or848YMhxtvsl9s3bxRzYXQocnI9YvJ+ssQFAHVC2O9uV36MqFodzznNDt7Tx8bl8vznhplQAClTSi01nMiYWEA9T9xiPpS21ydhhR83vAEloFdL81fWzJksgbuC86Rnz5/AB7jEI+AKNHQq7aEY4XNiXeAGHCV3+Uoe5UiJHZIs4nyYzeiV9bnJ0H8ZMGPd+F4C2WhSZDALs2Xe9STAaKNcqmJNe5p56XYEXNrk18CIamJzuNrs4V1G+3jPKPDRw2IHIkjdY+c8gcr4ykNbZxUXRO8jV7dP3y5wcaVdbtSn3wGtBH1fCUBbt9uCDlGJWEDaTTcnmWYdtuIjpxP8ABR/cKyWECBgdX8DFqYiq6KoTvphoNFwhAQDpAA/TAtbKn1yyat4x2bUWXkIvO4Ld3D07pZ1r0K70dGXEANrJKAaLSRITjF8nBj5yljUuEfaaKgA4A+kuUADHQqOrH7YKUAD4xMkABQlI7O14WT6TIaBXgAXmAdEiYcvQEWy1WooswbnKd5ShAgN9YkNo4Pi5ql3e3JgsPckToALzALAi6QhgESpdixgHR+Elz7QpwibR0iJk88Bp3iSMfOK5zxG4qDSF5XfOAQmOoO12qqvlzzRdjqI3TYlq8q5tA3rhAPJrXaC13i+B1OZhAg6Oq4X/AC0AROCqu+F1MLqpUJ4Qotu5WtuKHPc0Eqc8sLoMuGNNDU5t7o88q5P+518ECBHdh+VwW6VZ2BYeuPBjJnX/ACp3cNAM2Oc47s2W7i3+mHYuDg0Y9McQa1bEWIqAHoYyOz6Nt+9nTeWZzJ6Jyy/J0Be7lXxuNdocm9muu8YxopA4tVDoIesX0bAAeFNAO4aNZ77wMulFdpL3ks9acupX31ggACVaqoF2usY0sSqnJRKexM5g0bNoIIKrDbLwQmqA4IB7BDl5flGAQBsWBsTbpsrMepxRERrIaDUUmsii5ZXpFtCbJvGpIc5qrnpWPFZK0RjmsgggrlhwdTGEGSyADvE2i+8E6WmbtnkXgL3c5ZA32FIWFkMBPE4Y1cBG+KyYHJJeEmG9gutuS7OsHQavIpq433m0EhAPX3pgSKGs8JQIRik1MnL/AEX1Wlqpbx/+DwQ0/qkVd/p7j0wEpjNmE0LaEYEBGlXw94RaBAUw20XuzJaxvJL4pO8OMdqVYMgPbhJcHkwoSt2LHgrDFEY3Ng5oIiQfDix7hk1oNrB0c48twmwTh5c/G3OORMaKMQI0UmucsnpzIx2WHkU8Y+Exc0uB2tA8rOcBcUm6sGQHtw63H6goj2f7WRo+Aimh3MePRj+mf84y+HqoDZAKo6NdZPZ8laiQIXjXGAAJgAumiA1YvpFAYXjoAQNq9Ip4zznGqRZ8BfA5SIhC8snx+1wn6exYAe86pgbxPGJs0/hR6xjKuhBUkD0Ep1hthmZOB1mT668kaOKuH5xVaN6+AjdbbzApgq4pkAA0AAA6/wBrL/P6MlOApH4Q6lKJbvIgB68UUL6EAkcrJvVeNYzpkSbMQasR7e4jjrhNuuIdmFQ2XHheCAhDRDhV5d5fGg5QhqhGbdI5iLGCRYt9a++AAKsO+RjRivEtgKbbasyKXlEpp5GJJMQv3QlHsMVfuptd4dOEqKvOcniTejCgLF11zgAAAQDr/wDI/wD/2Q==)"
      ],
      "metadata": {
        "id": "XE8VJxR-dIP1"
      },
      "id": "XE8VJxR-dIP1"
    },
    {
      "cell_type": "markdown",
      "source": [
        "In the above code, the hand crafted features we extracted are the average of each colour band. We concatenate them, and our \"Linear Classifier\" is just a few if/else branches (we could call this a very simple decision tree). All computer vision tasks can be broken up into these main processing steps with different algorithms for finding features and classifiers. So, next, we will look at extracting common image features. Then we will look at different linear classifiers. Finally, we will put them together again on a standard image classification task."
      ],
      "metadata": {
        "id": "mgH8Y4oQdEIj"
      },
      "id": "mgH8Y4oQdEIj"
    },
    {
      "cell_type": "markdown",
      "id": "b648d8ba-42fd-4ce7-bee8-fe5b9bd806a6",
      "metadata": {
        "id": "b648d8ba-42fd-4ce7-bee8-fe5b9bd806a6"
      },
      "source": [
        "## 2.3 Colour Moments\n",
        "\n",
        "The first three moments of a distribution are: mean, standard deviation and skewness. You have already calculated the mean for green and red.\n",
        "\n",
        "**Task**: Look at the docs for [numpy.mean()](https://numpy.org/doc/1.20/reference/generated/numpy.mean.html) and [numpy.std()](https://numpy.org/doc/1.20/reference/generated/numpy.std.html), especially the examples. Find the mean and standard deviations _per colour channel_ by only changing the arguments to `mean()` and `std()` in the below code."
      ]
    },
    {
      "cell_type": "code",
      "execution_count": null,
      "id": "d0693b7c-0dd1-43e7-b926-4f18f75b31ca",
      "metadata": {
        "id": "d0693b7c-0dd1-43e7-b926-4f18f75b31ca"
      },
      "outputs": [],
      "source": [
        "fname, img = dataset[0]\n",
        "means = img.mean()\n",
        "stds = img.std()\n",
        "print(means)\n",
        "# should be: [116.26533529 134.68638021 145.60429036]\n",
        "\n",
        "print(stds)\n",
        "# should be: [54.18954368 57.6412593  59.4558043 ]"
      ]
    },
    {
      "cell_type": "markdown",
      "source": [
        "#### Task solution"
      ],
      "metadata": {
        "id": "Iz1RUR6ydgYs"
      },
      "id": "Iz1RUR6ydgYs"
    },
    {
      "cell_type": "code",
      "execution_count": null,
      "id": "c669fa37-1450-49cb-b5b5-83d0c5822a11",
      "metadata": {
        "jupyter": {
          "source_hidden": true
        },
        "tags": [],
        "id": "c669fa37-1450-49cb-b5b5-83d0c5822a11"
      },
      "outputs": [],
      "source": [
        "fname, img = dataset[0]\n",
        "means = img.mean(axis=(0,1))\n",
        "stds = img.std(axis=(0,1))\n",
        "print(means)\n",
        "print(stds)"
      ]
    },
    {
      "cell_type": "markdown",
      "id": "3265973d-1585-42f5-bf21-d7437d91e81b",
      "metadata": {
        "id": "3265973d-1585-42f5-bf21-d7437d91e81b"
      },
      "source": [
        "### Image patch/Window statistics\n",
        "\n",
        "We can collect more fine-grained information from the image by breaking it up into patches and calculating these statistics for each patch. In this way, we can represent our image in fewer datapoints than just using pixel values, but without reducing the whole image to a single number.\n",
        "\n",
        "**Task**: Run the cell below that uses `image_patches()` to break the images up into patches and look at the printed shapes. Then modify the code to take the means/stds for each patch as indicated.\n",
        "\n",
        "**Note**: The terms \"cell\", \"block\", \"texture\", \"image patch\" and \"window\" are mostly interchangeable. They all mean \"a subset of an image\". With some nuance:\n",
        " - \"window\" is often short for \"sliding window\" which means that they are overlapping views of your image.\n",
        " - \"texture\" has special meaning in 3D applications: usually a specific type of file.\n",
        " - \"cells\" are the smallest unit if you have several levels.\n",
        "\n",
        "These are not hard and fast rules. When talking about these things it's more important you are consistent."
      ]
    },
    {
      "cell_type": "code",
      "execution_count": null,
      "id": "e850217a-b245-492b-b702-33820e17b6b5",
      "metadata": {
        "id": "e850217a-b245-492b-b702-33820e17b6b5"
      },
      "outputs": [],
      "source": [
        "def image_patches(img, p_size=(80, 80)):\n",
        "    '''\n",
        "    Splits img up into equal sized, non-overlapping patches.\n",
        "    Ignores partial patches at the edge of the img.\n",
        "    '''\n",
        "    rows = img.shape[0]//p_size[0]\n",
        "    cols = img.shape[1]//p_size[1]\n",
        "    blocks = []\n",
        "    for r in range(rows):\n",
        "        for c in range(cols):\n",
        "            y_min = r*p_size[0]\n",
        "            y_max = y_min+p_size[0]\n",
        "            x_min = c*p_size[1]\n",
        "            x_max = x_min+p_size[1]\n",
        "            b = img[y_min:y_max, x_min:x_max]\n",
        "            blocks.append(b)\n",
        "    return np.array(blocks).reshape((rows, cols, *p_size, -1))"
      ]
    },
    {
      "cell_type": "code",
      "execution_count": null,
      "id": "c17efe6b-4f4c-4e37-aa9b-78d2708b07c0",
      "metadata": {
        "id": "c17efe6b-4f4c-4e37-aa9b-78d2708b07c0"
      },
      "outputs": [],
      "source": [
        "colour_means = []\n",
        "colour_stds = []\n",
        "for fname, img in dataset:\n",
        "    as_patches = image_patches(img)\n",
        "    print(img.shape, as_patches.shape)\n",
        "    # TODO - calculate the mean/std per patch\n",
        "    # HINT: patch_mean should be shaped (8, 6, 3)\n",
        "\n",
        "    # TODO - uncomment\n",
        "    #colour_means.append(patch_mean)\n",
        "    #colour_stds.append(patch_std)"
      ]
    },
    {
      "cell_type": "markdown",
      "source": [
        "#### Task solution"
      ],
      "metadata": {
        "id": "AmGE5viIdqck"
      },
      "id": "AmGE5viIdqck"
    },
    {
      "cell_type": "code",
      "execution_count": null,
      "id": "14608d86-4936-4fda-98dd-149092f62316",
      "metadata": {
        "jupyter": {
          "source_hidden": true
        },
        "tags": [],
        "id": "14608d86-4936-4fda-98dd-149092f62316"
      },
      "outputs": [],
      "source": [
        "colour_means = []\n",
        "colour_stds = []\n",
        "for fname, img in dataset:\n",
        "    as_patches = image_patches(img)\n",
        "    print(as_patches.shape)\n",
        "    # Calculate the mean/std per window\n",
        "    patch_mean = as_patches.mean(axis=(2,3))\n",
        "    patch_std = as_patches.std(axis=(2,3))\n",
        "    colour_means.append(patch_mean)\n",
        "    colour_stds.append(patch_std)"
      ]
    },
    {
      "cell_type": "markdown",
      "id": "fc1dde4e-48a9-4699-a7ed-53783ba794b6",
      "metadata": {
        "id": "fc1dde4e-48a9-4699-a7ed-53783ba794b6"
      },
      "source": [
        "#### Question\n",
        "<b>Question</b>: After completing the previous task, how many features do we have for each image in <code>colour_means</code>?\n",
        "\n",
        "<details>\n",
        "<summary style='cursor:pointer;'><u>Answer</u></summary>\n",
        "    Each image has been reduced from 640x480x3=921600 pixel colours to 8x6x3=144 features of <code>colour_means</code> (288 if you include <code>colour_stds</code>). This can greatly simplify methods of creating decision boundaries.\n",
        "</details>"
      ]
    },
    {
      "cell_type": "markdown",
      "id": "ebfb6b44-5ab9-4b0f-8935-02b6cb46f0a9",
      "metadata": {
        "id": "ebfb6b44-5ab9-4b0f-8935-02b6cb46f0a9"
      },
      "source": [
        "## 2.4 Grey-Level Co-occurence Matrix (GLCM)\n",
        "\n",
        "Grey-Level Co-occurance Matrices (GLCMs) are a way to collect statistics about how much contrast there is between neighbouring pixels in an image. Thus, GLCM is a good way to distinguish textures from one another. A texture is usually a small patch of an image, but we can use the same process on an entire image at once to create global features for image classification, too.\n",
        "\n",
        "**In your own time**: Here's a longer tutorial on using [skimage.feature.greycomatrix()](https://scikit-image.org/docs/dev/api/skimage.feature.html#skimage.feature.graycomatrix) and [skimage.feature.greycoprops()](https://scikit-image.org/docs/dev/api/skimage.feature.html#skimage.feature.graycoprops): https://www.youtube.com/watch?v=5x-CIHRmMNY"
      ]
    },
    {
      "cell_type": "markdown",
      "source": [
        "![Illustration of GLCM algorithm](data:image/png;base64,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)"
      ],
      "metadata": {
        "id": "zSSltEmqbshn"
      },
      "id": "zSSltEmqbshn"
    },
    {
      "cell_type": "markdown",
      "source": [
        "**Task**: Refer to the lectures and the outline above, and calculate the GLCM yourself. Ensure it gives the same output as [skimage.feature.graycomatrix()](https://scikit-image.org/docs/dev/api/skimage.feature.html#skimage.feature.graycomatrix).\n",
        "\n",
        "  1. Index `img` to obtain two views, offset by the `distance`.\n",
        "  2. Flatten/reshape.\n",
        "  3. Count instances."
      ],
      "metadata": {
        "id": "NalzkICVbstE"
      },
      "id": "NalzkICVbstE"
    },
    {
      "cell_type": "code",
      "execution_count": null,
      "id": "3e7e22a3-4602-4a24-b8c5-3511cacbb8b1",
      "metadata": {
        "id": "3e7e22a3-4602-4a24-b8c5-3511cacbb8b1"
      },
      "outputs": [],
      "source": [
        "test_img = np.array([\n",
        "    [1, 1, 0, 3, 4],\n",
        "    [1, 2, 2, 1, 3],\n",
        "    [1, 3, 2, 3, 3],\n",
        "    [3, 2, 1, 3, 0],\n",
        "    [4, 1, 2, 2, 4]\n",
        "], dtype=np.uint8)\n",
        "\n",
        "def glcm(img, distance=1):\n",
        "    ''' The Grey-Level Co-occurance Matrix of img'''\n",
        "    mat = np.zeros((256, 256))\n",
        "    # Step 1 + 2\n",
        "\n",
        "    for i in range(len(a)):\n",
        "        # Step 3\n",
        "\n",
        "    return mat"
      ]
    },
    {
      "cell_type": "code",
      "execution_count": null,
      "id": "6ee9948a-521b-4ad0-b95c-b510af36da1e",
      "metadata": {
        "id": "6ee9948a-521b-4ad0-b95c-b510af36da1e"
      },
      "outputs": [],
      "source": [
        "my_mat = glcm(test_img)\n",
        "expected_mat = skimage.feature.graycomatrix(test_img, distances=[1], angles=[0]).squeeze()\n",
        "print(expected_mat[:5, :5])\n",
        "\n",
        "assert (my_mat == expected_mat).all()"
      ]
    },
    {
      "cell_type": "markdown",
      "source": [
        "#### Task solution"
      ],
      "metadata": {
        "id": "M4ov79Cld8UN"
      },
      "id": "M4ov79Cld8UN"
    },
    {
      "cell_type": "code",
      "execution_count": null,
      "id": "bcce6240-1295-4603-9a6b-e505ee63e4a9",
      "metadata": {
        "jupyter": {
          "source_hidden": true
        },
        "tags": [],
        "id": "bcce6240-1295-4603-9a6b-e505ee63e4a9"
      },
      "outputs": [],
      "source": [
        "def glcm(img, distance=1):\n",
        "    ''' The Grey-Level Co-occurance Matrix of img'''\n",
        "    mat = np.zeros((256, 256))\n",
        "    a = img[:, :-distance].reshape(-1)\n",
        "    b = img[:, distance:].reshape(-1)\n",
        "\n",
        "    for i in range(len(a)):\n",
        "        mat[a[i], b[i]] += 1\n",
        "\n",
        "    return mat"
      ]
    },
    {
      "cell_type": "markdown",
      "id": "8fdf122a-df39-4b6b-a83d-f7ab62acac66",
      "metadata": {
        "id": "8fdf122a-df39-4b6b-a83d-f7ab62acac66"
      },
      "source": [
        "### Matrix to features\n",
        "\n",
        "We do not use the co-occurance matrix as features directly. Instead, we can collect statistics from the co-occurance matrix about the differences in intensity across the patch. Specific use cases will use each statistic more or less effectively, but that is a discussion outside the scope of this lab, so we won't go into exactly how to calculate these statistics. If you are interested, we refer you to pg 25 onwards of [an in-depth tutorial](https://prism.ucalgary.ca/bitstream/handle/1880/51900/texture%20tutorial%20v%203_0%20180206.pdf?sequence=11&isAllowed=y) on collecting GLCM features.\n",
        "\n",
        "It is also recommended that when collecting GLCM features, you collect at a few scales and directions. In the above `glcm()` function we set a `distance=1` parameter. The `graycomatrix()` function allows you to specify a list of distances and angles to use.\n",
        "\n",
        "**Task**: Using [skimage.feature.graycomatrix()](https://scikit-image.org/docs/dev/api/skimage.feature.html#skimage.feature.graycomatrix) and [skimage.feature.graycoprops()](https://scikit-image.org/docs/dev/api/skimage.feature.html#skimage.feature.graycoprops) complete the below code to collect the whole-image statistics for all images in our toy dataset at distances of `1`, `3` and `5`, and angles of `0`, `pi/2`, and `pi`."
      ]
    },
    {
      "cell_type": "code",
      "execution_count": null,
      "id": "5d37d71b-274f-40de-9c8d-fb830bff74ca",
      "metadata": {
        "id": "5d37d71b-274f-40de-9c8d-fb830bff74ca"
      },
      "outputs": [],
      "source": [
        "stat_names = ['contrast', 'dissimilarity', 'homogeneity', 'ASM', 'energy', 'correlation']\n",
        "glcm_features = []\n",
        "for _, img in dataset:\n",
        "    img_gray = cv2.cvtColor(img, cv2.COLOR_BGR2GRAY)\n",
        "    # TODO - collect all stats for this image into an img_features variable\n",
        "\n",
        "    glcm_features.append(img_features)"
      ]
    },
    {
      "cell_type": "markdown",
      "source": [
        "#### Task solution"
      ],
      "metadata": {
        "id": "ihS_FYHoeHxZ"
      },
      "id": "ihS_FYHoeHxZ"
    },
    {
      "cell_type": "code",
      "execution_count": null,
      "id": "f7738d15-0e83-4d04-a50a-5634b73d0b3a",
      "metadata": {
        "jupyter": {
          "source_hidden": true
        },
        "tags": [],
        "id": "f7738d15-0e83-4d04-a50a-5634b73d0b3a"
      },
      "outputs": [],
      "source": [
        "for _, img in dataset:\n",
        "    img_gray = cv2.cvtColor(img, cv2.COLOR_BGR2GRAY)\n",
        "    cov = skimage.feature.graycomatrix(img_gray, distances=[1, 3, 5], angles=[0, math.pi/2, math.pi])\n",
        "    img_features = [skimage.feature.graycoprops(cov, stat_name) for stat_name in stat_names]\n",
        "    glcm_features.append(img_features)"
      ]
    },
    {
      "cell_type": "markdown",
      "id": "cfffb039-8f9f-4f3f-ada9-58364d0c51a7",
      "metadata": {
        "id": "cfffb039-8f9f-4f3f-ada9-58364d0c51a7"
      },
      "source": [
        "#### Question\n",
        "\n",
        "<b>Question</b>: After completing the previous task, how many features do we have for each image in <code>glcm_features</code>?\n",
        "\n",
        "<details>\n",
        "<summary style='cursor:pointer;'><u>Answer</u></summary>\n",
        "    Each image has been reduced from 640x480x3=921600 pixel colours to 6 statistics collected with 9 different offsets (3 distances, 3 angles). Thus there are 6x9=54 features to describe each image.\n",
        "</details>"
      ]
    },
    {
      "cell_type": "markdown",
      "id": "d749be04-082f-4988-a3bc-f5168333b0a6",
      "metadata": {
        "id": "d749be04-082f-4988-a3bc-f5168333b0a6"
      },
      "source": [
        "## 2.5 Histogram of Oriented Gradients (HOG)\n",
        "\n",
        "Histogram of Oriented Gradients is a classic technique to produce characteristic image features based on the shapes of objects. To start, let's break down the words:\n",
        "\n",
        "  - Histogram: We are counting something, and binning them together.\n",
        "  - Oriented: We care about the angle.\n",
        "  - Gradients: In an image, a gradient indicates an edge.\n",
        "  \n",
        "So, Histograms of Oriented Gradients will find edges and count how many of them there are at each orientation. All applications of HOG find histograms within image patches. Thus this is built into the library function [skimage.feature.hog()](https://scikit-image.org/docs/dev/api/skimage.feature.html#skimage.feature.hog), too.\n",
        "\n",
        "**Task**: Modify the below code to use image patches of 16x16 (instead of the default 8x8)."
      ]
    },
    {
      "cell_type": "code",
      "execution_count": null,
      "id": "2df6a7ad-7a01-4156-ad91-b845d6375099",
      "metadata": {
        "id": "2df6a7ad-7a01-4156-ad91-b845d6375099"
      },
      "outputs": [],
      "source": [
        "hogs = []\n",
        "viss = []\n",
        "for fname, img in dataset:\n",
        "    hog, vis = skimage.feature.hog(img, feature_vector=False, visualize=True, channel_axis=2)\n",
        "    hogs.append(hog)\n",
        "    viss.append(vis)\n",
        "\n",
        "print(hogs[0].shape)"
      ]
    },
    {
      "cell_type": "code",
      "execution_count": null,
      "id": "656a8f43-7b93-4d1c-a634-debf489c63f6",
      "metadata": {
        "id": "656a8f43-7b93-4d1c-a634-debf489c63f6"
      },
      "outputs": [],
      "source": [
        "fig, axes = plt.subplots(2, len(hogs), figsize=(25, 15))\n",
        "for i, ((fname, img), vis) in enumerate(zip(dataset, viss)):\n",
        "    # Original\n",
        "    img = cv2.cvtColor(img, cv2.COLOR_BGR2RGB)\n",
        "    axes[0, i].imshow(img)\n",
        "    axes[0, i].axis('off')\n",
        "    axes[0, i].set_title(fname)\n",
        "\n",
        "    # HOG visualisation\n",
        "    axes[1, i].imshow(vis*1.5)\n",
        "    axes[1, i].axis('off')\n",
        "    axes[1, i].set_title(f'{fname} HOG')"
      ]
    },
    {
      "cell_type": "markdown",
      "source": [
        "#### Task solution"
      ],
      "metadata": {
        "id": "yqpXMH0aeUim"
      },
      "id": "yqpXMH0aeUim"
    },
    {
      "cell_type": "code",
      "execution_count": null,
      "id": "95086e26-e0b9-496a-9f1e-4b992e2af690",
      "metadata": {
        "jupyter": {
          "source_hidden": true
        },
        "tags": [],
        "id": "95086e26-e0b9-496a-9f1e-4b992e2af690"
      },
      "outputs": [],
      "source": [
        "skimage.feature.hog(img, pixels_per_cell=(16, 16), feature_vector=False, visualize=True, channel_axis=2)"
      ]
    },
    {
      "cell_type": "markdown",
      "id": "1242b623-af01-4b32-9401-00ec4c90cef2",
      "metadata": {
        "id": "1242b623-af01-4b32-9401-00ec4c90cef2"
      },
      "source": [
        "#### Questions\n",
        "\n",
        "<b>Question</b>: How many orientation bins are there? (Hint: read docs)\n",
        "\n",
        "<details>\n",
        "<summary style='cursor:pointer;'><u>Answer</u></summary>\n",
        "    There are 9 orientation bins.\n",
        "</details>\n",
        "\n",
        "<br />\n",
        "\n",
        "<b>Question</b>: After running the above code, how many features do we have for each image in `hogs`?\n",
        "\n",
        "<details>\n",
        "<summary style='cursor:pointer;'><u>Answer</u></summary>\n",
        "    Each image has been reduced from 640x480x3=921600 pixel colours to 78x58x3x3x9=366444 features! There are 9 orientation bins. Generally, we use HOG on a smaller image. It was originally defined for pedestrian detection, and is optimised for finding a 128x64 image of a person. You would generally tweak the parameters for whatever task you work on.\n",
        "</details>"
      ]
    },
    {
      "cell_type": "markdown",
      "id": "ff1d1812-964a-4daa-9954-c48a7628c083",
      "metadata": {
        "id": "ff1d1812-964a-4daa-9954-c48a7628c083"
      },
      "source": [
        "# 3. CIFAR-10\n",
        "\n",
        "We've been ignoring a problem. Our toy dataset does not have enough images to properly test our image features. In Section 2.1 we saw that we could perfectly classify our 4 images with just the mean green/red values. But, what happens if we have 60000 images?\n",
        "\n",
        "Introducing CIFAR-10. It is a dataset of small images that are classified into 10 classes. It is a standard image benchmark/dataset used widely in computer vision. We will use CIFAR-10 to try out some of the image features we have used previously. Take some time to explore the classes and the images.\n",
        "\n",
        "(**Note**: downloading CIFAR-10 needs about 350MB of free harddrive space)"
      ]
    },
    {
      "cell_type": "code",
      "execution_count": null,
      "id": "b4ce4a59-7e60-449a-b22b-60ae8d0ef7c2",
      "metadata": {
        "id": "b4ce4a59-7e60-449a-b22b-60ae8d0ef7c2"
      },
      "outputs": [],
      "source": [
        "# Download CIFAR10\n",
        "cifar = torchvision.datasets.CIFAR10('./cifar10', download=True)\n",
        "\n",
        "# Display the first 32 images from CIFAR10\n",
        "fig = plt.figure(figsize=(10, 5))\n",
        "for i in range(32):\n",
        "    img, lbl = cifar[i]\n",
        "    # Each img is a PIL object. Don't worry; we can just turn it into a numpy array.\n",
        "    img = np.array(img)\n",
        "    # Each lbl is just an integer. The cifar object has the class names.\n",
        "    img_class = cifar.classes[lbl]\n",
        "\n",
        "    ax = plt.subplot(4, 8, i+1)\n",
        "    ax.axis('off')\n",
        "    ax.set_title(img_class)\n",
        "    ax.imshow(img)\n",
        "fig.tight_layout()"
      ]
    },
    {
      "cell_type": "markdown",
      "id": "d2c7e746-f944-4284-969a-d187c553f5b1",
      "metadata": {
        "id": "d2c7e746-f944-4284-969a-d187c553f5b1"
      },
      "source": [
        "# 4. Classifiers\n",
        "\n",
        "A classifier is essentially a function which takes a set of features and predicts a class label. Classifiers are generally created via machine learning. That is, we must provide them with a set of images and true labels to \"train\" them. A trained classifier will tend to only do well on images that are similar to the training images in some way. For example, we should not expect a classifier for CIFAR-10 to give us any meaningful result if we give it a picture of an MNIST digit.\n",
        "\n"
      ]
    },
    {
      "cell_type": "code",
      "execution_count": null,
      "id": "ae30945a-1ca6-45de-9100-e626775d212b",
      "metadata": {
        "id": "ae30945a-1ca6-45de-9100-e626775d212b"
      },
      "outputs": [],
      "source": [
        "N_IMGS = 2000\n",
        "lbls = []\n",
        "for i in range(N_IMGS):\n",
        "    img, lbl = cifar[i]\n",
        "    lbls.append(lbl)\n",
        "lbls = np.array(lbls)"
      ]
    },
    {
      "cell_type": "code",
      "execution_count": null,
      "id": "9bacd700-c76c-4ad0-9b5a-0166d97fd58b",
      "metadata": {
        "id": "9bacd700-c76c-4ad0-9b5a-0166d97fd58b"
      },
      "outputs": [],
      "source": [
        "def classification_accuracy(predictions, lbls):\n",
        "    return (predictions == lbls).sum()/len(predictions)\n",
        "\n",
        "bad_predictions = np.zeros(N_IMGS) # always predict class 0\n",
        "acc = classification_accuracy(bad_predictions, lbls[:N_IMGS])\n",
        "print(acc)"
      ]
    },
    {
      "cell_type": "markdown",
      "id": "5c04d33d-d54e-4ead-863f-8594b074ae2c",
      "metadata": {
        "id": "5c04d33d-d54e-4ead-863f-8594b074ae2c"
      },
      "source": [
        "**Question**: There are 10 classes in CIFAR-10. Thus, what accuracy should we expect to get if we randomly classify each image?\n",
        "\n",
        "<details>\n",
        "<summary style='cursor:pointer;'><u>Answer</u></summary>\n",
        "    Assuming CIFAR-10 is balanced, we should get 10% accuracy when choosing randomly.\n",
        "</details>"
      ]
    },
    {
      "cell_type": "markdown",
      "id": "9faf7f9a-6cd7-45e1-a35a-4f5d7d3669de",
      "metadata": {
        "id": "9faf7f9a-6cd7-45e1-a35a-4f5d7d3669de"
      },
      "source": [
        "## 4.1 Feature space\n",
        "\n",
        "If we flatten an image, we get a vector. In the case of CIFAR-10, with 32x32 images, we can consider this image as a point in 3072-D space. This is impossible to visualise spatially. We can, instead, choose precisely 2 features to represent our images. We would then say that the images have been embedded in 2D feature space. Then, we can easily plot these features.\n",
        "\n",
        "The code below goes through the first `N_IMGS` of CIFAR10, collecting all the image features we have previously discussed in this lab. Then it plots 2 of the features against each other. This code will take a while to run since it is processing many images."
      ]
    },
    {
      "cell_type": "code",
      "execution_count": null,
      "id": "710f36e4-f1c6-43f1-a444-1e54f3c05ded",
      "metadata": {
        "id": "710f36e4-f1c6-43f1-a444-1e54f3c05ded"
      },
      "outputs": [],
      "source": [
        "# These arrays will hold parallel lists of features such that\n",
        "# green_means[i] is the mean green of the i-th image, etc.\n",
        "green_means = []\n",
        "blue_means = []\n",
        "red_means = []\n",
        "green_stds = []\n",
        "blue_stds = []\n",
        "red_stds = []\n",
        "contrasts = []\n",
        "dissimilarities = []\n",
        "homogeneities = []\n",
        "hogs = []\n",
        "\n",
        "# Collect all features\n",
        "for i in range(N_IMGS):\n",
        "    img, lbl = cifar[i]\n",
        "    img = np.array(img)\n",
        "\n",
        "    # Colour moment features\n",
        "    r, g, b = img.mean(axis=(0, 1))\n",
        "    red_means.append(r)\n",
        "    green_means.append(g)\n",
        "    blue_means.append(b)\n",
        "    r, g, b = img.std(axis=(0, 1))\n",
        "    red_stds.append(r)\n",
        "    green_stds.append(g)\n",
        "    blue_stds.append(b)\n",
        "\n",
        "    # GLCM features\n",
        "    img_gray = cv2.cvtColor(img, cv2.COLOR_RGB2GRAY)\n",
        "\n",
        "    cov = skimage.feature.graycomatrix(img_gray, distances=[1, 3, 5], angles=[0, math.pi/2, math.pi])\n",
        "    contrasts.append(skimage.feature.graycoprops(cov, 'contrast'))\n",
        "    dissimilarities.append(skimage.feature.graycoprops(cov, 'dissimilarity'))\n",
        "    homogeneities.append(skimage.feature.graycoprops(cov, 'homogeneity'))\n",
        "\n",
        "    # HOG features\n",
        "    hog_f = skimage.feature.hog(img, channel_axis=2)\n",
        "    hogs.append(hog_f)\n",
        "\n",
        "# Normalising the features, and converting them all to numpy arrays for ease of use\n",
        "\n",
        "def normalise(feature):\n",
        "    feature = np.array(feature)\n",
        "    return (feature-feature.min())/(feature.max()-feature.min())\n",
        "\n",
        "green_means = normalise(green_means)\n",
        "blue_means = normalise(blue_means)\n",
        "red_means = normalise(red_means)\n",
        "green_stds = normalise(green_stds)\n",
        "blue_stds = normalise(blue_stds)\n",
        "red_stds = normalise(red_stds)\n",
        "\n",
        "contrasts = normalise(contrasts)\n",
        "dissimilarities = normalise(dissimilarities)\n",
        "homogeneities = normalise(homogeneities)\n",
        "\n",
        "# HOG features are already normalised\n",
        "hogs = np.array(hogs)\n",
        "\n",
        "# For the following, there are many features created per image.\n",
        "# Currently contrasts[i] is the vector of contrast features of image i.\n",
        "# We want contrasts[i] to be the i-th contrast feature, over all images.\n",
        "contrasts = contrasts.reshape([N_IMGS, -1]).transpose()\n",
        "dissimilarities = dissimilarities.reshape([N_IMGS, -1]).transpose()\n",
        "homogeneities = homogeneities.reshape([N_IMGS, -1]).transpose()\n",
        "hogs = hogs.transpose()\n",
        "\n",
        "\n",
        "# Arbitrarily choose green_means and red_means to represent our images for visualisation\n",
        "plt.figure(figsize=(5, 5))\n",
        "ax = plt.subplot(1, 1, 1)\n",
        "for i in range(len(cifar.classes)):\n",
        "    idx = (lbls == i)\n",
        "    ax.scatter(green_means[idx], red_means[idx], label=cifar.classes[i])\n",
        "ax.legend()\n",
        "ax.set_xlabel('green means (normalised)')\n",
        "_ = ax.set_ylabel('red means (normalised)')"
      ]
    },
    {
      "cell_type": "markdown",
      "id": "c0a24b8e-8f54-40ec-8941-ac3fbfdeb8da",
      "metadata": {
        "id": "c0a24b8e-8f54-40ec-8941-ac3fbfdeb8da"
      },
      "source": [
        "<b>Question</b>: What does each dot in the scatter plot represent?\n",
        "\n",
        "<details>\n",
        "<summary style='cursor:pointer;'><u>Answer</u></summary>\n",
        "    Each dot is an image, reduced to two features and plotted on a cartesian plane. The image is \"in feature space\", which we have visualised.\n",
        "</details>\n",
        "\n",
        "<br />\n",
        "\n",
        "<b>Question</b>: Can you draw a straight line to separate most of the blue dots from most of the lime green dots?\n",
        "\n",
        "<details>\n",
        "<summary style='cursor:pointer;'><u>Answer</u></summary>\n",
        "    No. This means that there is no combination of if/else blocks with simple \"green > a\" or \"red > b\" conditions which will classify these images well.\n",
        "</details>\n",
        "\n",
        "<br />\n",
        "\n",
        "<b>Question</b>: What can do we do about this?\n",
        "\n",
        "<details>\n",
        "<summary style='cursor:pointer;'><u>Answer</u></summary>\n",
        "    Use more features and use more sophisticated features, such as we have gone through previously.\n",
        "</details>"
      ]
    },
    {
      "cell_type": "markdown",
      "id": "1909a0be-bffb-4d70-8ba4-d04bda5261a0",
      "metadata": {
        "id": "1909a0be-bffb-4d70-8ba4-d04bda5261a0"
      },
      "source": [
        "### Graphically comparing discriminative power\n",
        "\n",
        "The discriminative power of a set of features is, roughly speaking, the extent to which we can linearly separate the images in feature space using those features. We're not going to find a perfect pair of features, but we can do better than the average green vs average red.\n",
        "\n",
        "We will now explore various combinations of two features and observe their discriminative power on pairs of classes from CIFAR. If we can't separate even two classes, we certainly can't separate all of the classes."
      ]
    },
    {
      "cell_type": "code",
      "execution_count": null,
      "id": "beb193ee-3899-45fb-9e00-709401fbe81a",
      "metadata": {
        "tags": [],
        "id": "beb193ee-3899-45fb-9e00-709401fbe81a"
      },
      "outputs": [],
      "source": [
        "# Helper functions to visualise discriminative power\n",
        "# If you want to read these to understand them, come back after the section on SVMs.\n",
        "\n",
        "def plot_decision_regions(x, y, svm, ax, border=0):\n",
        "    '''\n",
        "    Colours regions on ax by sampling a dense grid of the space\n",
        "    and predicting a class with the provided svm.\n",
        "    '''\n",
        "    # https://stackoverflow.com/questions/51297423/plot-scikit-learn-sklearn-svm-decision-boundary-surface\n",
        "\n",
        "    # Make a meshgrid that covers the whole space\n",
        "    x_min, x_max = x.min()-border, x.max()+border\n",
        "    y_min, y_max = y.min()-border, y.max()+border\n",
        "    n = 200 # number of samples\n",
        "    h_x = (x_max-x_min)/n\n",
        "    h_y = (y_max-y_min)/n\n",
        "    xx, yy = np.meshgrid(np.arange(x_min, x_max, h_x), np.arange(y_min, y_max, h_y))\n",
        "\n",
        "    # Make a prediction per spot in that space\n",
        "    Z = svm.predict(np.c_[xx.ravel(), yy.ravel()])\n",
        "    Z = Z.reshape(xx.shape)\n",
        "\n",
        "    # Plot the space as a surface with coloured regions\n",
        "    ax.contourf(xx, yy, Z, alpha=0.2, antialiased=True)\n",
        "\n",
        "def compare_discriminative_power(feature1, feature2, lbls, n=4):\n",
        "    '''\n",
        "    Plots an nxn grid of pairs of labels from cifar.classes,\n",
        "    showing each image as a point in the 2D feature space, coloured by it's lbl.\n",
        "    '''\n",
        "    features = np.stack([feature1, feature2], axis=-1)\n",
        "    plt.figure(figsize=(5*n, 5*n))\n",
        "    for lbl_1 in range(n):\n",
        "        for lbl_2 in range(10-n, 10):\n",
        "            # Find index into features and lbls for this pair of labels\n",
        "            idx1 = (lbls == lbl_1)\n",
        "            idx2 = (lbls == lbl_2)\n",
        "            idx = (idx1 | idx2)\n",
        "\n",
        "            # Train an SVM for this pair of labels on these features\n",
        "            svm = sklearn.svm.SVC(kernel='linear')\n",
        "            f_idx = features[idx]\n",
        "            l_idx = lbls[idx]\n",
        "            svm.fit(f_idx, l_idx)\n",
        "\n",
        "            # Plot\n",
        "            ax = plt.subplot(n, n, lbl_1*n+lbl_2-(10-n)+1)\n",
        "            plot_decision_regions(feature1[idx], feature2[idx], svm, ax)\n",
        "            ax.scatter(feature1[idx1], feature2[idx1], label=cifar.classes[lbl_1])\n",
        "            ax.scatter(feature1[idx2], feature2[idx2], label=cifar.classes[lbl_2])\n",
        "            ax.legend()\n",
        "            ax.axis('off')\n",
        "\n",
        "            # Show accuracy on plot\n",
        "            pred = svm.predict(f_idx)\n",
        "            accuracy = classification_accuracy(pred, l_idx)\n",
        "            ax.text(ax.get_xlim()[0], ax.get_ylim()[1]*1.01, f'{(accuracy*100):5.2f}%', fontsize=13)"
      ]
    },
    {
      "cell_type": "markdown",
      "id": "4d1744e6-57cb-43fd-b25d-634f93d7631a",
      "metadata": {
        "id": "4d1744e6-57cb-43fd-b25d-634f93d7631a"
      },
      "source": [
        "Now we can easily compare the discriminative power of pairs of features on pairs of classes.\n",
        "\n",
        "**Task**: Try a few combinations of two features in the below cell. Try to find discriminative pairs. Choose pairs of:\n",
        "- `green_means`\n",
        "- `green_stds`\n",
        "- `red_means`\n",
        "- `red_stds`\n",
        "- `blue_means`\n",
        "- `blue_stds`\n",
        "- `contrasts[x]`\n",
        "- `dissimilarities[x]`\n",
        "- `homogeneities[x]`\n",
        "- `hogs[x]`"
      ]
    },
    {
      "cell_type": "code",
      "execution_count": null,
      "id": "8b3f151e-f50e-40b5-ab77-914e58a66eaa",
      "metadata": {
        "id": "8b3f151e-f50e-40b5-ab77-914e58a66eaa"
      },
      "outputs": [],
      "source": [
        "compare_discriminative_power(green_means, red_means, lbls)"
      ]
    },
    {
      "cell_type": "markdown",
      "id": "5076cf99-f856-4b96-9728-071ba61587e6",
      "metadata": {
        "id": "5076cf99-f856-4b96-9728-071ba61587e6"
      },
      "source": [
        "<b>Question</b>: Did you find any combinations that resulted in linearly separable classes?\n",
        "\n",
        "<details>\n",
        "<summary style='cursor:pointer;'><u>Answer</u></summary>\n",
        "    I (the tutor) didn't find anything close. There's quite a few that are around 77%. I don't think any of these pairs will get close to 100%. This tells us that we haven't found any combination of two features which are really good for classification of two classes of CIFAR. <i>Note</i>: Randomly classifying between two classes gets 50% accuracy.\n",
        "    <br />\n",
        "    The <b>real</b> test is going to be discriminating between all 10 classes using all of the features.\n",
        "</details>"
      ]
    },
    {
      "cell_type": "markdown",
      "id": "1ae4cf59-2251-4569-99c6-e1f2c3dfcc3c",
      "metadata": {
        "id": "1ae4cf59-2251-4569-99c6-e1f2c3dfcc3c"
      },
      "source": [
        "## 4.2 Support Vector Machine (SVM)\n",
        "\n",
        "A Support Vector Machine (SVM) is a popular machine learning classifier. In previous sections, we said \"imagine putting a straight line on these graphs to separate these classes\". An SVM is a method to do that systematically, for any number of classes, and in higher dimensions. In the above helper code, we have used a linear SVM to create the coloured regions.\n",
        "\n",
        "More formally, an SVM finds a hyperplane (i.e. an (N-1)-D plane) through your N-dimensional data, segmenting the space and assigning each segment to a class, and classification is performed by placing an image into the feature space and querying which segment it ended up in. The hyperplane is chosen so that it minimises the distance for misclassifications. While we have 2D data the SVM finds a 1D line to separate the data.\n",
        "\n",
        "That's fairly complicated, so let's go through a few small examples using [sklearn's SVM](https://scikit-learn.org/stable/modules/generated/sklearn.svm.SVC.html), building up complexity. We won't cover how it works internally, but we will cover how to use it."
      ]
    },
    {
      "cell_type": "code",
      "execution_count": null,
      "id": "ad23db05-5ea2-493c-9762-acc7994030e0",
      "metadata": {
        "id": "ad23db05-5ea2-493c-9762-acc7994030e0"
      },
      "outputs": [],
      "source": [
        "def visualise_svm(features, lbls, svm):\n",
        "    fig = plt.figure(figsize=(10, 8))\n",
        "    ax = plt.subplot(1, 1, 1)\n",
        "    plot_decision_regions(features[:, 0], features[:, 1], svm, ax, border=1)\n",
        "\n",
        "    for i in range(fake_lbls.max()+1):\n",
        "        idx = (fake_lbls == i)\n",
        "        ax.scatter(features[idx, 0], features[idx, 1], label=i)\n",
        "    ax.legend()\n",
        "    return ax\n",
        "\n",
        "# First, we'll cover the basics of instantiating an SVM from sklearn\n",
        "fake_data = np.array([[0, 0], [1, 1]])\n",
        "fake_lbls = np.array([0, 1])\n",
        "\n",
        "svm = sklearn.svm.SVC(kernel='linear')\n",
        "svm.fit(fake_data, fake_lbls)\n",
        "\n",
        "ax = visualise_svm(fake_data, fake_lbls, svm)"
      ]
    },
    {
      "cell_type": "markdown",
      "id": "84ce0628-ffd9-4654-b0a6-ec604a9c4f41",
      "metadata": {
        "id": "84ce0628-ffd9-4654-b0a6-ec604a9c4f41"
      },
      "source": [
        "## Task 1\n",
        "\n",
        "**Task**: Reading from the above graph, write down whether each of the following points will be classified as class 0 or class 1 using the `svm` from the previous cell. Then, test your predictions in the next cell:\n",
        "\n",
        " - (0.2, 0.2)\n",
        " - (0.5, 0.6)\n",
        " - (0.6, 0.3)"
      ]
    },
    {
      "cell_type": "code",
      "execution_count": null,
      "id": "e04454db-9615-4f48-9205-0c0eecb9dc17",
      "metadata": {
        "id": "e04454db-9615-4f48-9205-0c0eecb9dc17"
      },
      "outputs": [],
      "source": [
        "new_fake_data = #np.array([[]])\n",
        "result = svm.predict(new_fake_data)\n",
        "print(result)\n",
        "# TODO - Write your predictions down (on paper, or here)"
      ]
    },
    {
      "cell_type": "markdown",
      "source": [
        "#### Task solution"
      ],
      "metadata": {
        "id": "iapq2OXigPsE"
      },
      "id": "iapq2OXigPsE"
    },
    {
      "cell_type": "code",
      "execution_count": null,
      "id": "a37c1af9-0c10-4c06-8a90-44711c3dc5a6",
      "metadata": {
        "jupyter": {
          "source_hidden": true
        },
        "tags": [],
        "id": "a37c1af9-0c10-4c06-8a90-44711c3dc5a6"
      },
      "outputs": [],
      "source": [
        "new_fake_data = np.array([\n",
        "    [0.2, 0.2],\n",
        "    [0.5, 0.6],\n",
        "    [0.6, 0.3],\n",
        "])\n",
        "result = svm.predict(new_fake_data)\n",
        "print(result)"
      ]
    },
    {
      "cell_type": "markdown",
      "source": [
        "### Task 2"
      ],
      "metadata": {
        "id": "JkOR3wH2gTI5"
      },
      "id": "JkOR3wH2gTI5"
    },
    {
      "cell_type": "markdown",
      "id": "a1e057a7-baaf-4f4d-8eea-5c53a90dd6a4",
      "metadata": {
        "id": "a1e057a7-baaf-4f4d-8eea-5c53a90dd6a4"
      },
      "source": [
        "Next, let's look at a slightly more complicated example. We'll consider two normally distributed sets of points for an SVM to classify.\n",
        "\n",
        "**Task**: Fit an SVM to `fake_features` and `fake_lbls`."
      ]
    },
    {
      "cell_type": "code",
      "execution_count": null,
      "id": "59c9fd14-c33a-4908-a150-f8d942f3afd8",
      "metadata": {
        "id": "59c9fd14-c33a-4908-a150-f8d942f3afd8"
      },
      "outputs": [],
      "source": [
        "# Let's pretend we have collected some image features for two classes\n",
        "N = 400\n",
        "fake_class1 = np.random.normal((-1, 0), 0.6, (N, 2))\n",
        "fake_class2 = np.random.normal((0, 2), 0.6, (N, 2))\n",
        "fake_features = np.concatenate([fake_class1, fake_class2], axis=0)\n",
        "fake_lbls = np.array([0]*N + [1]*N)\n",
        "\n",
        "# We can use a linear SVM to find a straight line that best separates them.\n",
        "# TODO\n",
        "\n",
        "# Visualise\n",
        "ax = visualise_svm(fake_features, fake_lbls, svm)"
      ]
    },
    {
      "cell_type": "markdown",
      "source": [
        "#### Task solution"
      ],
      "metadata": {
        "id": "kTF6tV6dgYl3"
      },
      "id": "kTF6tV6dgYl3"
    },
    {
      "cell_type": "code",
      "execution_count": null,
      "id": "57f6fa40-9f02-47d3-b323-a1e40542ebbd",
      "metadata": {
        "jupyter": {
          "source_hidden": true
        },
        "tags": [],
        "id": "57f6fa40-9f02-47d3-b323-a1e40542ebbd"
      },
      "outputs": [],
      "source": [
        "svm = sklearn.svm.SVC(kernel='linear')\n",
        "svm.fit(fake_features, fake_lbls)\n",
        "ax = visualise_svm(fake_features, fake_lbls, svm)"
      ]
    },
    {
      "cell_type": "markdown",
      "source": [
        "### Task 3"
      ],
      "metadata": {
        "id": "xRnhv5sLgfqE"
      },
      "id": "xRnhv5sLgfqE"
    },
    {
      "cell_type": "markdown",
      "id": "9b52b08d-8ecc-42ba-9fea-da4da42a5c24",
      "metadata": {
        "id": "9b52b08d-8ecc-42ba-9fea-da4da42a5c24"
      },
      "source": [
        "**Task**: Modify the standard deviation of `fake_class1` and `fake_class2` to a value of `1.25` (don't change the mean) in the above code cell.\n",
        "\n",
        "<b>Question</b>: What happens to the distributions?\n",
        "\n",
        "<details>\n",
        "<summary style='cursor:pointer;'><u>Answer</u></summary>\n",
        "    The distributions spread out more and a straight line can no longer separate the two classes so well.\n",
        "</details>\n",
        "\n",
        "<br />\n",
        "\n",
        "<b>Task</b>: Revert standard deviations to <code>0.6</code> as before the previous task. Add a <code>fake_class3</code> centred at (1, 0) with a std deviation of 0.5. <i>Hint</i>: You will need to also modify <code>fake_features</code> and <code>fake_lbls</code>."
      ]
    },
    {
      "cell_type": "markdown",
      "source": [
        "#### Task solution"
      ],
      "metadata": {
        "id": "IQZf92_ygst9"
      },
      "id": "IQZf92_ygst9"
    },
    {
      "cell_type": "code",
      "execution_count": null,
      "id": "18d2d9fb-ff43-45cf-b290-dcaca32ce61f",
      "metadata": {
        "jupyter": {
          "source_hidden": true
        },
        "tags": [],
        "id": "18d2d9fb-ff43-45cf-b290-dcaca32ce61f"
      },
      "outputs": [],
      "source": [
        "# Let's pretend we have collected some image features for two classes\n",
        "N = 400\n",
        "fake_class1 = np.random.normal((-1, 0), 0.6, (N, 2))\n",
        "fake_class2 = np.random.normal((0, 2), 0.6, (N, 2))\n",
        "fake_class3 = np.random.normal((1, 0), 0.6, (N, 2))\n",
        "fake_features = np.concatenate([fake_class1, fake_class2, fake_class3], axis=0)\n",
        "fake_lbls = np.array([0]*N + [1]*N + [2]*N)\n",
        "\n",
        "# We can use a linear SVM to find a straight line that best separates them.\n",
        "svm = sklearn.svm.SVC(kernel='linear')\n",
        "svm.fit(fake_features, fake_lbls)\n",
        "\n",
        "# Visualise\n",
        "ax = visualise_svm(fake_features, fake_lbls, svm)"
      ]
    },
    {
      "cell_type": "markdown",
      "id": "b3b3501f-9092-4fff-9eb3-228232db81bb",
      "metadata": {
        "id": "b3b3501f-9092-4fff-9eb3-228232db81bb"
      },
      "source": [
        "### Evaluation\n",
        "\n",
        "You have seen, roughly, how an SVM uses image features to classify images. So, finally, let's see how well an SVM does with our image feature set.\n",
        "\n",
        "**Task**: Complete the following code to train an SVM on all of our image features. *Hint*: Use [np.stack()](https://numpy.org/doc/1.20/reference/generated/numpy.stack.html)\n",
        "\n",
        "**Optional Task**: Use a different combinations of features. Try to get ~85% overall accuracy!"
      ]
    },
    {
      "cell_type": "code",
      "execution_count": null,
      "id": "34cbefcb-3376-49a9-961a-964b69989e90",
      "metadata": {
        "id": "34cbefcb-3376-49a9-961a-964b69989e90"
      },
      "outputs": [],
      "source": [
        "features = # TODO should be shaped [N_IMGs, n_features]\n",
        "print(features.shape)\n",
        "print(lbls.shape)\n",
        "\n",
        "# Train an SVM and get predictions\n",
        "svm = sklearn.svm.SVC()\n",
        "svm.fit(features, lbls)\n",
        "preds = svm.predict(features)\n",
        "\n",
        "# Evaluate\n",
        "acc = classification_accuracy(preds, lbls)\n",
        "print(f'{acc*100:5.2f}%')"
      ]
    },
    {
      "cell_type": "markdown",
      "source": [
        "#### Task solution"
      ],
      "metadata": {
        "id": "C3l2frOZg3lO"
      },
      "id": "C3l2frOZg3lO"
    },
    {
      "cell_type": "code",
      "execution_count": null,
      "id": "62e38ed1-a286-4cbd-b63a-e7ce93539d84",
      "metadata": {
        "jupyter": {
          "source_hidden": true
        },
        "tags": [],
        "id": "62e38ed1-a286-4cbd-b63a-e7ce93539d84"
      },
      "outputs": [],
      "source": [
        "features = np.stack([\n",
        "    green_means,\n",
        "    green_stds,\n",
        "    blue_means,\n",
        "    blue_stds,\n",
        "    red_means,\n",
        "    red_stds,\n",
        "    *contrasts,\n",
        "    *dissimilarities,\n",
        "    *homogeneities,\n",
        "    *hogs\n",
        "], axis=-1)\n",
        "print(features.shape)\n",
        "print(lbls.shape)\n",
        "\n",
        "# Train an SVM and get predictions\n",
        "svm = sklearn.svm.SVC()\n",
        "svm.fit(features, lbls)\n",
        "preds = svm.predict(features)\n",
        "\n",
        "# Evaluate\n",
        "acc = classification_accuracy(preds, lbls)\n",
        "print(f'{acc*100:5.2f}%')"
      ]
    },
    {
      "cell_type": "code",
      "execution_count": null,
      "id": "449c54a4-73f3-404a-be32-c8d1ed8309d9",
      "metadata": {
        "id": "449c54a4-73f3-404a-be32-c8d1ed8309d9"
      },
      "outputs": [],
      "source": [
        "# Here, we will manually inspect the predictions\n",
        "fig = plt.figure(figsize=(20, 20))\n",
        "for i in range(64):\n",
        "    img, lbl = cifar[i]\n",
        "    img = np.array(img)\n",
        "    lbl_class = cifar.classes[lbl]\n",
        "\n",
        "    pred = preds[i]\n",
        "    pred_class = cifar.classes[pred]\n",
        "\n",
        "    ax = plt.subplot(8, 8, i+1)\n",
        "    ax.axis('off')\n",
        "    ax.set_title(pred_class + (' (WRONG)' if pred != lbl else ''))\n",
        "    ax.imshow(img)"
      ]
    },
    {
      "cell_type": "markdown",
      "id": "74b8e9e4-96b1-4ba7-b1b2-f5a9e5580134",
      "metadata": {
        "id": "74b8e9e4-96b1-4ba7-b1b2-f5a9e5580134"
      },
      "source": [
        "### Kernel Trick\n",
        "\n",
        "Most distributions are not linearly separable. Notice that we used `kernel='linear'` in all previous examples? Handling distributions that are not linearly separable is so common that it's built into `sklearn.svm.SVC`. We won't cover exactly how it is done, but there's a technique called \"the kernel trick\" which augments the data so that it becomes linearly separable, even if it wasn't to begin with.\n",
        "\n",
        "**In your own time**: We refer you to [a good introductory article on SVMs and the kernel trick](https://towardsdatascience.com/the-kernel-trick-c98cdbcaeb3f)\n",
        "\n",
        "**Task**: Modify the code below to use the `'rbf'` kernel. Compare how it segments the space to the `'linear'` kernel."
      ]
    },
    {
      "cell_type": "code",
      "execution_count": null,
      "id": "d9b1fb7f-2497-4501-9e10-64e83f41a299",
      "metadata": {
        "id": "d9b1fb7f-2497-4501-9e10-64e83f41a299"
      },
      "outputs": [],
      "source": [
        "fake_data = np.array([[0, 0], [1, 0], [1, 1], [0, 1]])/4\n",
        "fake_lbls = np.array([0, 1, 0, 1])\n",
        "\n",
        "svm = sklearn.svm.SVC(kernel='linear')\n",
        "svm.fit(fake_data, fake_lbls)\n",
        "preds = svm.predict(fake_data)\n",
        "print(preds)\n",
        "\n",
        "ax = visualise_svm(fake_data, fake_lbls, svm)"
      ]
    },
    {
      "cell_type": "markdown",
      "id": "124c2c01-9d1f-478e-a423-7d74f48d844b",
      "metadata": {
        "id": "124c2c01-9d1f-478e-a423-7d74f48d844b"
      },
      "source": [
        "## 4.3 KNN classification\n",
        "\n",
        "K-nearest neighbours is a very simple, yet powerful classifier. Once you have embedded your images in feature space, find the K nearest images, and whatever is the most popular class in those K images is what you classify the new image as.\n",
        "\n",
        "The biggest downside to KNN is that it becomes more expensive to compute as you collect more data. Modern computer vision algorithms require huge amounts of data to ensure that we can generalise to unseen examples, so, unfortunately, we often can't use KNN in practice.\n",
        "\n",
        "The syntax for using [sklearn's KNN](https://scikit-learn.org/stable/modules/generated/sklearn.neighbors.KNeighborsClassifier.html) is almost identical to using SVMs\n",
        "\n",
        "**Task**: Evaluate using KNN as the classifier on our image features. You can expect to achieve a classification accuracy of around 65% when using all image features."
      ]
    },
    {
      "cell_type": "code",
      "execution_count": null,
      "id": "a991aaa9-3c91-4950-96b5-7c32d57af8dd",
      "metadata": {
        "id": "a991aaa9-3c91-4950-96b5-7c32d57af8dd"
      },
      "outputs": [],
      "source": [
        "features = # TODO\n",
        "print(features.shape)\n",
        "print(lbls.shape)\n",
        "\n",
        "# Train a KNN and get predictions\n",
        "knn = # TODO\n",
        "\n",
        "# Evaluate\n",
        "acc = classification_accuracy(preds, lbls)\n",
        "print(f'{acc*100:5.2f}%')"
      ]
    },
    {
      "cell_type": "markdown",
      "source": [
        "#### Task solution"
      ],
      "metadata": {
        "id": "69ZNKyL2hE4z"
      },
      "id": "69ZNKyL2hE4z"
    },
    {
      "cell_type": "code",
      "execution_count": null,
      "id": "e289bc4e-10c2-4a1d-b27c-d363826242c7",
      "metadata": {
        "jupyter": {
          "source_hidden": true
        },
        "tags": [],
        "id": "e289bc4e-10c2-4a1d-b27c-d363826242c7"
      },
      "outputs": [],
      "source": [
        "features = np.stack([\n",
        "    green_means,\n",
        "    green_stds,\n",
        "    blue_means,\n",
        "    blue_stds,\n",
        "    red_means,\n",
        "    red_stds,\n",
        "    *contrasts,\n",
        "    *dissimilarities,\n",
        "    *homogeneities,\n",
        "    *hogs\n",
        "], axis=-1)\n",
        "print(features.shape)\n",
        "print(lbls.shape)\n",
        "\n",
        "# Train a KNN and get predictions\n",
        "knn = sklearn.neighbors.KNeighborsClassifier()\n",
        "knn.fit(features, lbls)\n",
        "preds = knn.predict(features)\n",
        "\n",
        "# Evaluate\n",
        "acc = classification_accuracy(preds, lbls)\n",
        "print(f'{acc*100:5.2f}%')"
      ]
    },
    {
      "cell_type": "markdown",
      "id": "5a1a1df6-0d87-4c0c-8f5d-08696254948d",
      "metadata": {
        "id": "5a1a1df6-0d87-4c0c-8f5d-08696254948d"
      },
      "source": [
        "# Summary\n",
        "\n",
        "In this lab, we covered the basics of extracting features from images for classification. We framed every computer vision task as involving two main steps: 1. collecting image features and then 2. using those features with a classifier. We explored a few popular features and classifiers. It is important to note that there are many more image features and classifiers out there and there is no single best feature or classifier, you must explore and find the best for any task. But hopefully this lab gives you a starting point."
      ]
    }
  ],
  "metadata": {
    "kernelspec": {
      "display_name": "Python 3",
      "language": "python",
      "name": "python3"
    },
    "language_info": {
      "codemirror_mode": {
        "name": "ipython",
        "version": 3
      },
      "file_extension": ".py",
      "mimetype": "text/x-python",
      "name": "python",
      "nbconvert_exporter": "python",
      "pygments_lexer": "ipython3",
      "version": "3.8.10"
    },
    "colab": {
      "provenance": [],
      "collapsed_sections": [
        "RJSxOR64dWM6",
        "Iz1RUR6ydgYs",
        "AmGE5viIdqck",
        "M4ov79Cld8UN",
        "ihS_FYHoeHxZ",
        "yqpXMH0aeUim",
        "iapq2OXigPsE",
        "kTF6tV6dgYl3",
        "IQZf92_ygst9",
        "C3l2frOZg3lO",
        "69ZNKyL2hE4z"
      ]
    }
  },
  "nbformat": 4,
  "nbformat_minor": 5
}